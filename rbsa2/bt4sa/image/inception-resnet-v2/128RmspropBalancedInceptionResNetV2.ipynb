{
 "cells": [
  {
   "cell_type": "markdown",
   "metadata": {
    "id": "umln0h6MLQqD",
    "tags": []
   },
   "source": [
    "# Importando as bibliotecas\n",
    "\n",
    "\n",
    "\n"
   ]
  },
  {
   "cell_type": "code",
   "execution_count": 1,
   "metadata": {},
   "outputs": [
    {
     "name": "stdout",
     "output_type": "stream",
     "text": [
      "WARNING:tensorflow:From C:\\Users\\rbsa2\\AppData\\Local\\Temp/ipykernel_18484/2828644452.py:3: is_gpu_available (from tensorflow.python.framework.test_util) is deprecated and will be removed in a future version.\n",
      "Instructions for updating:\n",
      "Use `tf.config.list_physical_devices('GPU')` instead.\n"
     ]
    },
    {
     "data": {
      "text/plain": [
       "[PhysicalDevice(name='/physical_device:GPU:0', device_type='GPU')]"
      ]
     },
     "execution_count": 1,
     "metadata": {},
     "output_type": "execute_result"
    }
   ],
   "source": [
    "import tensorflow as tf\n",
    "tf.test.is_built_with_cuda()\n",
    "tf.test.is_gpu_available(cuda_only=False, min_cuda_compute_capability=None)\n",
    "tf.config.list_physical_devices('GPU')\n"
   ]
  },
  {
   "cell_type": "code",
   "execution_count": 2,
   "metadata": {},
   "outputs": [
    {
     "name": "stdout",
     "output_type": "stream",
     "text": [
      "[name: \"/device:CPU:0\"\n",
      "device_type: \"CPU\"\n",
      "memory_limit: 268435456\n",
      "locality {\n",
      "}\n",
      "incarnation: 18311053200367334432\n",
      "xla_global_id: -1\n",
      ", name: \"/device:GPU:0\"\n",
      "device_type: \"GPU\"\n",
      "memory_limit: 2252026676\n",
      "locality {\n",
      "  bus_id: 1\n",
      "  links {\n",
      "  }\n",
      "}\n",
      "incarnation: 4549863092413574062\n",
      "physical_device_desc: \"device: 0, name: NVIDIA GeForce GTX 1650, pci bus id: 0000:01:00.0, compute capability: 7.5\"\n",
      "xla_global_id: 416903419\n",
      "]\n"
     ]
    }
   ],
   "source": [
    "from tensorflow.python.client import device_lib \n",
    "print(device_lib.list_local_devices())"
   ]
  },
  {
   "cell_type": "code",
   "execution_count": 3,
   "metadata": {},
   "outputs": [
    {
     "name": "stdout",
     "output_type": "stream",
     "text": [
      "/device:GPU:0\n"
     ]
    }
   ],
   "source": [
    "gpus = tf.config.list_logical_devices('GPU')\n",
    "\n",
    "type(gpus)\n",
    "if gpus:\n",
    "  # Replicate your computation on multiple GPUs\n",
    "  c = []\n",
    "  for gpu in gpus:\n",
    "    with tf.device(gpu.name):\n",
    "        print(gpu.name)\n",
    "        pass\n",
    "gpu = gpus[0]"
   ]
  },
  {
   "cell_type": "code",
   "execution_count": 4,
   "metadata": {},
   "outputs": [],
   "source": [
    "import os\n",
    "from sklearn.model_selection import StratifiedShuffleSplit\n",
    "from tensorflow.keras.utils import to_categorical\n",
    "from keras.models import Sequential, load_model\n",
    "from tensorflow.keras.layers import Activation\n",
    "from tensorflow.keras.layers import Dropout\n",
    "from tensorflow.keras.layers import Flatten\n",
    "from tensorflow.keras.layers import Dense\n",
    "from tensorflow.keras.layers import Input\n",
    "from tensorflow.keras.layers import BatchNormalization\n",
    "from tensorflow.keras.layers import Conv2D\n",
    "from tensorflow.keras.models import Model\n",
    "from tensorflow.keras.applications import InceptionResNetV2\n",
    "from tensorflow.keras.callbacks import ModelCheckpoint\n",
    "from tensorflow.keras.callbacks import LambdaCallback\n",
    "from tensorflow.keras.callbacks import Callback\n",
    "from tensorflow.keras.layers import Dense, GlobalAveragePooling2D, Dropout, Flatten\n",
    "from tensorflow.keras.applications.inception_resnet_v2 import InceptionResNetV2, preprocess_input\n",
    "from tensorflow.keras.preprocessing import image\n",
    "from tensorflow.keras.preprocessing.image import ImageDataGenerator\n",
    "from tensorflow.keras.models import Model\n",
    "from tensorflow.keras import metrics\n",
    "from tensorflow.keras.optimizers import Adam \n",
    "from sklearn.model_selection import train_test_split\n",
    "from tensorflow.keras import backend as K\n",
    "from tensorflow.keras.utils import to_categorical\n",
    "from tensorflow.keras.preprocessing.image import load_img #carrega funcao para carraegar imagem\n",
    "from tensorflow.keras.preprocessing.image import img_to_array #carrega funcao para converter imagem para array\n",
    "from PIL import Image\n",
    "import pandas as pd\n",
    "import numpy as np\n",
    "import tensorflow as tf\n",
    "import keras\n",
    "import cv2\n",
    "\n",
    "\n"
   ]
  },
  {
   "cell_type": "code",
   "execution_count": 5,
   "metadata": {},
   "outputs": [],
   "source": [
    "def to_one_hot(y, class_mapping, num_classes):\n",
    "    y_int = y.map(class_mapping)\n",
    "    return to_categorical(y_int, num_classes)"
   ]
  },
  {
   "cell_type": "code",
   "execution_count": 6,
   "metadata": {},
   "outputs": [
    {
     "name": "stdout",
     "output_type": "stream",
     "text": [
      "12000\n"
     ]
    }
   ],
   "source": [
    "DATASET_PATH_URL  = \"D:/SiDi/Project/Modulo II/dataset/dataset_sidi_512.csv\"\n",
    "df = pd.read_csv(DATASET_PATH_URL, sep='\\t')\n",
    "\n",
    "print(len(df))\n",
    "df.reset_index(inplace=True)"
   ]
  },
  {
   "cell_type": "code",
   "execution_count": 7,
   "metadata": {},
   "outputs": [
    {
     "data": {
      "text/plain": [
       "(3, {0: 0, 1: 1, 2: 2})"
      ]
     },
     "execution_count": 7,
     "metadata": {},
     "output_type": "execute_result"
    }
   ],
   "source": [
    "num_classes = df['sent_image'].nunique()\n",
    "class_mapping = {label:idx for idx,label in enumerate(np.unique(df['sent_image']))}\n",
    "num_classes, class_mapping"
   ]
  },
  {
   "cell_type": "code",
   "execution_count": 8,
   "metadata": {},
   "outputs": [],
   "source": [
    "SLICING_SIZE = 4000\n",
    "neg_df = df.groupby(['sent_image']).get_group(0).sample(n=SLICING_SIZE, ignore_index=True)\n",
    "neu_df = df.groupby(['sent_image']).get_group(1).sample(n=SLICING_SIZE, ignore_index=True)\n",
    "\n",
    "pos_df = df.groupby(['sent_image']).get_group(2).sample(n=SLICING_SIZE, ignore_index=True)\n"
   ]
  },
  {
   "cell_type": "code",
   "execution_count": 9,
   "metadata": {},
   "outputs": [],
   "source": [
    "X_join_image = []\n",
    "y_join = []\n",
    "\n",
    "image_path = []\n",
    "y_total = []\n",
    "\n",
    "\n",
    "\n",
    "# Negative Class\n",
    "for i in range(0,SLICING_SIZE, 1):\n",
    "    # Negative Class\n",
    "    X_image = neg_df.iloc[i].to_frame().T['image_name']\n",
    "    y = to_one_hot(neg_df.iloc[i].to_frame().T['sent_image'], class_mapping, num_classes)\n",
    "    X_join_image.extend(X_image)\n",
    "    y_join.extend(y)\n",
    "\n",
    "    # Positive Class\n",
    "    X_image = neu_df.iloc[i].to_frame().T['image_name']\n",
    "    y = to_one_hot(neu_df.iloc[i].to_frame().T['sent_image'], class_mapping, num_classes)\n",
    "    X_join_image.extend(X_image)\n",
    "    y_join.extend(y)\n",
    "    \n",
    "    # Neutro Class\n",
    "    X_image = pos_df.iloc[i].to_frame().T['image_name']\n",
    "    y = to_one_hot(pos_df.iloc[i].to_frame().T['sent_image'], class_mapping, num_classes)\n",
    "    X_join_image.extend(X_image)\n",
    "    y_join.extend(y)\n",
    "\n",
    "#X_test_text = pd.Series(X_test_text)\n",
    "X_join_image = pd.Series(X_join_image)\n",
    "y_join = np.array(y_join)"
   ]
  },
  {
   "cell_type": "code",
   "execution_count": 10,
   "metadata": {},
   "outputs": [
    {
     "data": {
      "text/plain": [
       "(array([[0., 0., 1.],\n",
       "        [0., 1., 0.],\n",
       "        [1., 0., 0.]], dtype=float32),\n",
       " array([4000, 4000, 4000], dtype=int64))"
      ]
     },
     "execution_count": 10,
     "metadata": {},
     "output_type": "execute_result"
    }
   ],
   "source": [
    "np.unique(y_join,  axis=0, return_counts=True)"
   ]
  },
  {
   "cell_type": "code",
   "execution_count": 11,
   "metadata": {
    "tags": []
   },
   "outputs": [
    {
     "name": "stdout",
     "output_type": "stream",
     "text": [
      "10800 1200\n"
     ]
    }
   ],
   "source": [
    "st =  StratifiedShuffleSplit(n_splits=1, test_size=0.1, random_state=1234)\n",
    "for train_index, test_index in st.split(X_join_image, y_join):\n",
    "    X_train_image, X_test_image = X_join_image.iloc[train_index],X_join_image.iloc[test_index]\n",
    "    y_train, y_test = y_join[train_index], y_join[test_index]\n",
    "    print(len(train_index), len(test_index))\n",
    "\n"
   ]
  },
  {
   "cell_type": "code",
   "execution_count": 12,
   "metadata": {
    "tags": []
   },
   "outputs": [
    {
     "name": "stdout",
     "output_type": "stream",
     "text": [
      "1200 1200\n"
     ]
    }
   ],
   "source": [
    "st =  StratifiedShuffleSplit(n_splits=1, test_size=0.5, random_state=1234)\n",
    "list_X_test_image = X_test_image.to_list()\n",
    "for val_index, test_index in st.split(X_test_image, y_test):\n",
    "    X_val_image, X_test_image = pd.Series(list_X_test_image)[val_index.astype(int)],pd.Series(list_X_test_image)[test_index.astype(int)]\n",
    "    \n",
    "    y_val, y_test = np.array(y_test)[val_index.astype(int)], np.array(y_test)[test_index.astype(int)]\n",
    "    print(len(val_index), len(test_index))"
   ]
  },
  {
   "cell_type": "code",
   "execution_count": null,
   "metadata": {},
   "outputs": [],
   "source": []
  },
  {
   "cell_type": "code",
   "execution_count": 12,
   "metadata": {},
   "outputs": [
    {
     "data": {
      "text/plain": [
       "'def augment(image):\\n    augment_img = iaa.Sequential([\\n        iaa.OneOf([\\n            iaa.Affine(rotate=0),\\n            iaa.Affine(rotate=90),\\n            iaa.Affine(rotate=180),\\n            iaa.Affine(rotate=270),\\n            iaa.Fliplr(0.5),\\n            iaa.Flipud(0.5),\\n        ])], random_order=True)\\n\\n    image_aug = augment_img.augment_image(image)\\n    return image_aug'"
      ]
     },
     "execution_count": 12,
     "metadata": {},
     "output_type": "execute_result"
    }
   ],
   "source": [
    "\n",
    "def get_array(image_path):\n",
    "    image_height = 128\n",
    "    image_width = 128\n",
    "    img = load_img(image_path, target_size=(image_height, image_width))\n",
    "\n",
    "    return img_to_array(img)\n",
    "\n",
    "def load_image2(path, shape):\n",
    "    image = cv2.resize(get_array(path), (shape[0], shape[1]))\n",
    "    image = np.divide(image, 255)\n",
    "    return image  \n",
    "\n",
    "def create_train(dataset_info, batch_size, shape, augument=False):\n",
    "    assert shape[2] == 3\n",
    "    while True:\n",
    "        random_indexes = np.random.choice(len(dataset_info), batch_size)\n",
    "        batch_images = np.empty((batch_size, shape[0], shape[1], shape[2]))\n",
    "        batch_labels = np.zeros((batch_size, 3))\n",
    "        for i, idx in enumerate(random_indexes):\n",
    "            image = load_image2(dataset_info[idx]['path'], shape)   \n",
    "            #img = load_img(dataset_info[idx]['path'])\n",
    "            if augument:\n",
    "                image = data_generator.augment(image)\n",
    "            batch_images[i] = image\n",
    "            \"\"\"print(f\"id= {id}\")\n",
    "            print(f\"idx = {idx}\")\"\"\"\n",
    "            \n",
    "            batch_labels[i][dataset_info[idx]['labels']] = 1\n",
    "        yield batch_images, batch_labels\n"
   ]
  },
  {
   "cell_type": "code",
   "execution_count": 13,
   "metadata": {},
   "outputs": [],
   "source": [
    "path_to_train = 'D:/SiDi/Project/Modulo II/dataset/512/'\n",
    "data = pd.read_csv('D:/SiDi/Project/Modulo II/dataset/dataset_sidi_512.csv', sep=\"\\t\")\n",
    "\n",
    "\n",
    "class_mapping = {label:idx for idx,label in enumerate(np.unique(data['sent_image']))}\n",
    "class_mapping\n",
    "\n",
    "train_dataset_info = []\n",
    "for name, label in zip(data['image_name'], data['sent_image']):\n",
    "    train_dataset_info.append({\n",
    "        'path':os.path.join(path_to_train, name +'.jpg'),\n",
    "        'labels': np.array([label])})\n",
    "train_dataset_info = np.array(train_dataset_info)"
   ]
  },
  {
   "cell_type": "code",
   "execution_count": 14,
   "metadata": {},
   "outputs": [],
   "source": [
    "INPUT_SHAPE = (128,128,3)\n",
    "BATCH_SIZE = 32\n",
    "\n",
    "train_generator = create_train(\n",
    "    train_dataset_info[train_index], BATCH_SIZE, INPUT_SHAPE, augument=False)\n",
    "validation_generator = create_train(\n",
    "    train_dataset_info[test_index], BATCH_SIZE, INPUT_SHAPE, augument=False)"
   ]
  },
  {
   "cell_type": "code",
   "execution_count": 32,
   "metadata": {},
   "outputs": [],
   "source": [
    "img_width, img_height = 128, 128"
   ]
  },
  {
   "cell_type": "code",
   "execution_count": 33,
   "metadata": {},
   "outputs": [],
   "source": [
    "def create_model(input_shape, n_out=3):\n",
    "    \n",
    "    base_model = InceptionResNetV2(\n",
    "        include_top=False, \n",
    "        weights='imagenet', \n",
    "        input_shape=input_shape) \n",
    "    \n",
    "    for layer in base_model.layers:\n",
    "        layer.trainable = False\n",
    "    \n",
    "    input_tensor = Input(shape=input_shape)\n",
    "    x = base_model.output\n",
    "    x = GlobalAveragePooling2D()(x)\n",
    "    x = Dense(1024, activation = 'relu')(x)\n",
    "    x = Dropout(0.5)(x)\n",
    "    predictions = Dense(3, activation='softmax')(x)\n",
    "    model = Model(inputs=base_model.input, outputs=predictions)\n",
    "    \n",
    "    return model"
   ]
  },
  {
   "cell_type": "code",
   "execution_count": 34,
   "metadata": {},
   "outputs": [],
   "source": [
    "import tensorflow as tf\n",
    "tf.keras.backend.clear_session()\n",
    "\n",
    "model = create_model(\n",
    "    input_shape=(128,128,3), \n",
    "    n_out=3)\n",
    "\n",
    "#model.summary()\n"
   ]
  },
  {
   "cell_type": "code",
   "execution_count": 35,
   "metadata": {},
   "outputs": [],
   "source": [
    "\n",
    "checkpointer = ModelCheckpoint(\n",
    "    'temp/BalancedInceptionResNetV2.model', monitor='val_acc', verbose=2, save_best_only=True)"
   ]
  },
  {
   "cell_type": "code",
   "execution_count": 36,
   "metadata": {},
   "outputs": [],
   "source": [
    "#model.layers[2].trainable = True\n",
    "\n",
    "model.compile(\n",
    "    optimizer='rmsprop', loss='categorical_crossentropy',\n",
    "    metrics=['accuracy'])"
   ]
  },
  {
   "cell_type": "code",
   "execution_count": 37,
   "metadata": {},
   "outputs": [
    {
     "name": "stderr",
     "output_type": "stream",
     "text": [
      "C:\\Users\\rbsa2\\AppData\\Local\\Temp/ipykernel_18484/3819058034.py:3: UserWarning: `Model.fit_generator` is deprecated and will be removed in a future version. Please use `Model.fit`, which supports generators.\n",
      "  history = model.fit_generator(\n"
     ]
    },
    {
     "name": "stdout",
     "output_type": "stream",
     "text": [
      "Epoch 1/15\n",
      "375/375 [==============================] - ETA: 0s - loss: 1.6553 - accuracy: 0.3835WARNING:tensorflow:Can save best model only with val_acc available, skipping.\n",
      "375/375 [==============================] - 60s 138ms/step - loss: 1.6553 - accuracy: 0.3835 - val_loss: 1.1119 - val_accuracy: 0.4153\n",
      "Epoch 2/15\n",
      "375/375 [==============================] - ETA: 0s - loss: 1.1084 - accuracy: 0.4168WARNING:tensorflow:Can save best model only with val_acc available, skipping.\n",
      "375/375 [==============================] - 49s 131ms/step - loss: 1.1084 - accuracy: 0.4168 - val_loss: 1.0371 - val_accuracy: 0.4498\n",
      "Epoch 3/15\n",
      "375/375 [==============================] - ETA: 0s - loss: 1.0952 - accuracy: 0.4226WARNING:tensorflow:Can save best model only with val_acc available, skipping.\n",
      "375/375 [==============================] - 49s 132ms/step - loss: 1.0952 - accuracy: 0.4226 - val_loss: 1.1275 - val_accuracy: 0.3980\n",
      "Epoch 4/15\n",
      "375/375 [==============================] - ETA: 0s - loss: 1.0799 - accuracy: 0.4404WARNING:tensorflow:Can save best model only with val_acc available, skipping.\n",
      "375/375 [==============================] - 50s 132ms/step - loss: 1.0799 - accuracy: 0.4404 - val_loss: 1.0915 - val_accuracy: 0.4342\n",
      "Epoch 5/15\n",
      "375/375 [==============================] - ETA: 0s - loss: 1.0754 - accuracy: 0.4417WARNING:tensorflow:Can save best model only with val_acc available, skipping.\n",
      "375/375 [==============================] - 50s 132ms/step - loss: 1.0754 - accuracy: 0.4417 - val_loss: 1.0821 - val_accuracy: 0.4605\n",
      "Epoch 6/15\n",
      "375/375 [==============================] - ETA: 0s - loss: 1.0550 - accuracy: 0.4575WARNING:tensorflow:Can save best model only with val_acc available, skipping.\n",
      "375/375 [==============================] - 50s 133ms/step - loss: 1.0550 - accuracy: 0.4575 - val_loss: 1.0859 - val_accuracy: 0.4416\n",
      "Epoch 7/15\n",
      "375/375 [==============================] - ETA: 0s - loss: 1.0569 - accuracy: 0.4607WARNING:tensorflow:Can save best model only with val_acc available, skipping.\n",
      "375/375 [==============================] - 50s 132ms/step - loss: 1.0569 - accuracy: 0.4607 - val_loss: 1.1249 - val_accuracy: 0.4260\n",
      "Epoch 8/15\n",
      "375/375 [==============================] - ETA: 0s - loss: 1.0351 - accuracy: 0.4789WARNING:tensorflow:Can save best model only with val_acc available, skipping.\n",
      "375/375 [==============================] - 50s 133ms/step - loss: 1.0351 - accuracy: 0.4789 - val_loss: 1.1072 - val_accuracy: 0.4367\n",
      "Epoch 9/15\n",
      "375/375 [==============================] - ETA: 0s - loss: 1.0290 - accuracy: 0.4808WARNING:tensorflow:Can save best model only with val_acc available, skipping.\n",
      "375/375 [==============================] - 50s 133ms/step - loss: 1.0290 - accuracy: 0.4808 - val_loss: 1.1467 - val_accuracy: 0.4194\n",
      "Epoch 10/15\n",
      "375/375 [==============================] - ETA: 0s - loss: 1.0231 - accuracy: 0.4901WARNING:tensorflow:Can save best model only with val_acc available, skipping.\n",
      "375/375 [==============================] - 50s 133ms/step - loss: 1.0231 - accuracy: 0.4901 - val_loss: 1.2136 - val_accuracy: 0.4013\n",
      "Epoch 11/15\n",
      "375/375 [==============================] - ETA: 0s - loss: 1.0139 - accuracy: 0.4969WARNING:tensorflow:Can save best model only with val_acc available, skipping.\n",
      "375/375 [==============================] - 50s 133ms/step - loss: 1.0139 - accuracy: 0.4969 - val_loss: 1.1668 - val_accuracy: 0.4293\n",
      "Epoch 12/15\n",
      "375/375 [==============================] - ETA: 0s - loss: 1.0076 - accuracy: 0.5073WARNING:tensorflow:Can save best model only with val_acc available, skipping.\n",
      "375/375 [==============================] - 50s 133ms/step - loss: 1.0076 - accuracy: 0.5073 - val_loss: 1.2051 - val_accuracy: 0.4161\n",
      "Epoch 13/15\n",
      "375/375 [==============================] - ETA: 0s - loss: 0.9850 - accuracy: 0.5194WARNING:tensorflow:Can save best model only with val_acc available, skipping.\n",
      "375/375 [==============================] - 50s 133ms/step - loss: 0.9850 - accuracy: 0.5194 - val_loss: 1.1678 - val_accuracy: 0.4021\n",
      "Epoch 14/15\n",
      "375/375 [==============================] - ETA: 0s - loss: 0.9819 - accuracy: 0.5245WARNING:tensorflow:Can save best model only with val_acc available, skipping.\n",
      "375/375 [==============================] - 50s 133ms/step - loss: 0.9819 - accuracy: 0.5245 - val_loss: 1.2082 - val_accuracy: 0.4186\n",
      "Epoch 15/15\n",
      "375/375 [==============================] - ETA: 0s - loss: 0.9573 - accuracy: 0.5405WARNING:tensorflow:Can save best model only with val_acc available, skipping.\n",
      "375/375 [==============================] - 50s 133ms/step - loss: 0.9573 - accuracy: 0.5405 - val_loss: 1.3002 - val_accuracy: 0.4211\n"
     ]
    }
   ],
   "source": [
    "DATASET_SIZE =  12000\n",
    "VALIDATION_SIZE = 1200\n",
    "history = model.fit_generator(\n",
    "    train_generator,\n",
    "    steps_per_epoch = DATASET_SIZE/32,\n",
    "    validation_data = validation_generator,\n",
    "    validation_steps = VALIDATION_SIZE/32,\n",
    "    epochs=15, \n",
    "    verbose=1,\n",
    "    callbacks=[checkpointer])"
   ]
  },
  {
   "cell_type": "code",
   "execution_count": 41,
   "metadata": {},
   "outputs": [
    {
     "data": {
      "image/png": "[encoded data removed]",
      "text/plain": [
       "<Figure size 432x288 with 1 Axes>"
      ]
     },
     "metadata": {
      "needs_background": "light"
     },
     "output_type": "display_data"
    },
    {
     "data": {
      "image/png": "[encoded data removed]",
      "text/plain": [
       "<Figure size 432x288 with 1 Axes>"
      ]
     },
     "metadata": {
      "needs_background": "light"
     },
     "output_type": "display_data"
    }
   ],
   "source": [
    "import matplotlib.pyplot as plt\n",
    "\n",
    "# Gráfico de treino - acurácia\n",
    "plt.plot(history.history['accuracy'])\n",
    "plt.plot(history.history['val_accuracy'])\n",
    "plt.title('model accuracy')\n",
    "plt.ylabel('accuracy')\n",
    "plt.xlabel('epoch')\n",
    "plt.legend(['train', 'test'], loc='upper left')\n",
    "plt.show()\n",
    "# Gráfico de treino - perda\n",
    "plt.plot(history.history['loss'])\n",
    "plt.plot(history.history['val_loss'])\n",
    "plt.title('model loss')\n",
    "plt.ylabel('loss')\n",
    "plt.xlabel('epoch')\n",
    "plt.legend(['train', 'test'], loc='upper left')\n",
    "plt.show()"
   ]
  },
  {
   "cell_type": "code",
   "execution_count": 42,
   "metadata": {},
   "outputs": [
    {
     "name": "stderr",
     "output_type": "stream",
     "text": [
      "C:\\Users\\rbsa2\\AppData\\Local\\Temp/ipykernel_18484/222438994.py:2: UserWarning: `Model.evaluate_generator` is deprecated and will be removed in a future version. Please use `Model.evaluate`, which supports generators.\n",
      "  score = model.evaluate_generator(validation_generator, 1200)\n"
     ]
    },
    {
     "name": "stdout",
     "output_type": "stream",
     "text": [
      "loss: 126.85%\n",
      "accuracy: 42.26%\n"
     ]
    }
   ],
   "source": [
    "# métricas de perda e acurácia\n",
    "score = model.evaluate_generator(validation_generator, 1200)\n",
    "\n",
    "print (\"%s: %.2f%%\" % (model.metrics_names[0], score[0]*100))\n",
    "print (\"%s: %.2f%%\" % (model.metrics_names[1], score[1]*100))"
   ]
  },
  {
   "cell_type": "code",
   "execution_count": 43,
   "metadata": {},
   "outputs": [],
   "source": [
    "\n",
    "model.save(\"model_balancedinceptionresnetv2.h5\")"
   ]
  },
  {
   "cell_type": "code",
   "execution_count": 44,
   "metadata": {},
   "outputs": [
    {
     "name": "stdout",
     "output_type": "stream",
     "text": [
      "Classificação: Indefinido\n"
     ]
    }
   ],
   "source": [
    "# Testando o modelo\n",
    "from keras.preprocessing import image\n",
    "\n",
    "test_image = image.load_img('D:/SiDi/Project/Modulo II/dataset/512/768106863531429889-1.jpg', target_size = (128, 128))\n",
    "test_image = image.img_to_array(test_image)\n",
    "test_image = np.expand_dims(test_image, axis = 0)\n",
    "result = model.predict(test_image)\n",
    "\n",
    "if result[0][0] == 0:\n",
    "    diagnostico = 'Negativo'\n",
    "elif result[0][0] == 1:\n",
    "    diagnostico = 'Neutro'\n",
    "elif result[0][0] == 2:\n",
    "    diagnostico = 'Positivo'\n",
    "else:\n",
    "    diagnostico = 'Indefinido'\n",
    "    \n",
    "print ('Classificação:', diagnostico)"
   ]
  },
  {
   "cell_type": "code",
   "execution_count": null,
   "metadata": {},
   "outputs": [],
   "source": []
  }
 ],
 "metadata": {
  "accelerator": "GPU",
  "colab": {
   "name": "0-2-multi-input-nn-hmm-30-mar-2021.ipynb",
   "provenance": []
  },
  "kernelspec": {
   "display_name": "multimodal-sentiment-analysis",
   "language": "python",
   "name": "multimodal-sentiment-analysis"
  },
  "language_info": {
   "codemirror_mode": {
    "name": "ipython",
    "version": 3
   },
   "file_extension": ".py",
   "mimetype": "text/x-python",
   "name": "python",
   "nbconvert_exporter": "python",
   "pygments_lexer": "ipython3",
   "version": "3.9.9"
  }
 },
 "nbformat": 4,
 "nbformat_minor": 4
}
