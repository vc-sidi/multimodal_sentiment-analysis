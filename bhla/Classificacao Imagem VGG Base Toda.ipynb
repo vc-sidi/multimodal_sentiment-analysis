{
 "cells": [
  {
   "cell_type": "code",
   "execution_count": 532,
   "metadata": {},
   "outputs": [],
   "source": [
    "import tensorflow as tf\n",
    "from tensorflow import keras\n",
    "import pandas as pd\n",
    "import cv2\n",
    "\n",
    "from tensorflow.keras.layers import Input, Conv2D \n",
    "from tensorflow.keras.layers import MaxPool2D, Flatten, Dense \n",
    "from tensorflow.keras import Model\n",
    "import numpy as np\n",
    "from sklearn.model_selection import train_test_split\n",
    "\n",
    "from tensorflow.keras.applications.vgg16 import VGG16\n",
    "from tensorflow.keras.applications.vgg16 import preprocess_input\n",
    "from tensorflow.keras import layers, models\n",
    "import seaborn as sns\n",
    "from sklearn.metrics import classification_report\n",
    "from sklearn.metrics import f1_score, accuracy_score\n",
    "from sklearn.metrics import confusion_matrix"
   ]
  },
  {
   "cell_type": "code",
   "execution_count": 533,
   "metadata": {},
   "outputs": [
    {
     "name": "stdout",
     "output_type": "stream",
     "text": [
      "True\n",
      "[PhysicalDevice(name='/physical_device:GPU:0', device_type='GPU')]\n"
     ]
    }
   ],
   "source": [
    "print(tf.test.is_built_with_cuda())\n",
    "print(tf.config.list_physical_devices('GPU')) "
   ]
  },
  {
   "cell_type": "code",
   "execution_count": 534,
   "metadata": {},
   "outputs": [
    {
     "data": {
      "text/plain": [
       "'2.7.0'"
      ]
     },
     "execution_count": 534,
     "metadata": {},
     "output_type": "execute_result"
    }
   ],
   "source": [
    "tf.__version__\n"
   ]
  },
  {
   "cell_type": "code",
   "execution_count": 535,
   "metadata": {},
   "outputs": [
    {
     "data": {
      "text/plain": [
       "[PhysicalDevice(name='/physical_device:GPU:0', device_type='GPU')]"
      ]
     },
     "execution_count": 535,
     "metadata": {},
     "output_type": "execute_result"
    }
   ],
   "source": [
    "tf.config.list_physical_devices('GPU')"
   ]
  },
  {
   "cell_type": "code",
   "execution_count": 536,
   "metadata": {},
   "outputs": [
    {
     "data": {
      "text/html": [
       "<div>\n",
       "<style scoped>\n",
       "    .dataframe tbody tr th:only-of-type {\n",
       "        vertical-align: middle;\n",
       "    }\n",
       "\n",
       "    .dataframe tbody tr th {\n",
       "        vertical-align: top;\n",
       "    }\n",
       "\n",
       "    .dataframe thead th {\n",
       "        text-align: right;\n",
       "    }\n",
       "</style>\n",
       "<table border=\"1\" class=\"dataframe\">\n",
       "  <thead>\n",
       "    <tr style=\"text-align: right;\">\n",
       "      <th></th>\n",
       "      <th>Unnamed: 0</th>\n",
       "      <th>Unnamed: 0.1</th>\n",
       "      <th>image_name</th>\n",
       "      <th>NEG</th>\n",
       "      <th>NEU</th>\n",
       "      <th>POS</th>\n",
       "      <th>text</th>\n",
       "      <th>sent_text</th>\n",
       "      <th>sent_image</th>\n",
       "      <th>image_path</th>\n",
       "      <th>image_height</th>\n",
       "      <th>image_width</th>\n",
       "    </tr>\n",
       "  </thead>\n",
       "  <tbody>\n",
       "    <tr>\n",
       "      <th>1101</th>\n",
       "      <td>415720</td>\n",
       "      <td>415720</td>\n",
       "      <td>800637990229815296-1</td>\n",
       "      <td>0.458655</td>\n",
       "      <td>0.435403</td>\n",
       "      <td>0.105942</td>\n",
       "      <td>@AskPlayStation my account got banned and I ha...</td>\n",
       "      <td>NEG</td>\n",
       "      <td>0</td>\n",
       "      <td>data/80063/800637990229815296-1.jpg</td>\n",
       "      <td>1536</td>\n",
       "      <td>2048</td>\n",
       "    </tr>\n",
       "    <tr>\n",
       "      <th>6025</th>\n",
       "      <td>15525</td>\n",
       "      <td>15525</td>\n",
       "      <td>769032642893320193-1</td>\n",
       "      <td>0.009142</td>\n",
       "      <td>0.061676</td>\n",
       "      <td>0.929181</td>\n",
       "      <td>RT @morgan_price13: It was an awesome night!❤️...</td>\n",
       "      <td>POS</td>\n",
       "      <td>2</td>\n",
       "      <td>data/76903/769032642893320193-1.jpg</td>\n",
       "      <td>2048</td>\n",
       "      <td>1536</td>\n",
       "    </tr>\n",
       "    <tr>\n",
       "      <th>1720</th>\n",
       "      <td>362371</td>\n",
       "      <td>362371</td>\n",
       "      <td>796804216022962180-1</td>\n",
       "      <td>0.829711</td>\n",
       "      <td>0.111822</td>\n",
       "      <td>0.058466</td>\n",
       "      <td>???????? I Fuck It Up Every Time #KingyPhotos ...</td>\n",
       "      <td>NEG</td>\n",
       "      <td>0</td>\n",
       "      <td>data/79680/796804216022962180-1.jpg</td>\n",
       "      <td>2048</td>\n",
       "      <td>1365</td>\n",
       "    </tr>\n",
       "    <tr>\n",
       "      <th>4753</th>\n",
       "      <td>231955</td>\n",
       "      <td>231955</td>\n",
       "      <td>782437948889272320-1</td>\n",
       "      <td>0.006742</td>\n",
       "      <td>0.112420</td>\n",
       "      <td>0.880838</td>\n",
       "      <td>Learning to say goodbye—w https://t.co/VOCIFWe...</td>\n",
       "      <td>POS</td>\n",
       "      <td>2</td>\n",
       "      <td>data/78243/782437948889272320-1.jpg</td>\n",
       "      <td>768</td>\n",
       "      <td>1024</td>\n",
       "    </tr>\n",
       "    <tr>\n",
       "      <th>4728</th>\n",
       "      <td>329462</td>\n",
       "      <td>329462</td>\n",
       "      <td>784522857715994627-1</td>\n",
       "      <td>0.017643</td>\n",
       "      <td>0.053174</td>\n",
       "      <td>0.929183</td>\n",
       "      <td>Happy birthday Sarah!! Ilysm and I hope your d...</td>\n",
       "      <td>POS</td>\n",
       "      <td>2</td>\n",
       "      <td>data/78452/784522857715994627-1.jpg</td>\n",
       "      <td>1080</td>\n",
       "      <td>1920</td>\n",
       "    </tr>\n",
       "    <tr>\n",
       "      <th>...</th>\n",
       "      <td>...</td>\n",
       "      <td>...</td>\n",
       "      <td>...</td>\n",
       "      <td>...</td>\n",
       "      <td>...</td>\n",
       "      <td>...</td>\n",
       "      <td>...</td>\n",
       "      <td>...</td>\n",
       "      <td>...</td>\n",
       "      <td>...</td>\n",
       "      <td>...</td>\n",
       "      <td>...</td>\n",
       "    </tr>\n",
       "    <tr>\n",
       "      <th>1719</th>\n",
       "      <td>353043</td>\n",
       "      <td>353043</td>\n",
       "      <td>796218410174713856-1</td>\n",
       "      <td>0.716052</td>\n",
       "      <td>0.226798</td>\n",
       "      <td>0.057150</td>\n",
       "      <td>Can't Stump The Trump! ????????????❤️ https://...</td>\n",
       "      <td>NEG</td>\n",
       "      <td>0</td>\n",
       "      <td>data/79621/796218410174713856-1.jpg</td>\n",
       "      <td>1024</td>\n",
       "      <td>576</td>\n",
       "    </tr>\n",
       "    <tr>\n",
       "      <th>8694</th>\n",
       "      <td>133271</td>\n",
       "      <td>133271</td>\n",
       "      <td>780536863803138048-1</td>\n",
       "      <td>0.027858</td>\n",
       "      <td>0.880886</td>\n",
       "      <td>0.091256</td>\n",
       "      <td>got this in the mail today #emaw #wildcats htt...</td>\n",
       "      <td>NEU</td>\n",
       "      <td>1</td>\n",
       "      <td>data/78053/780536863803138048-1.jpg</td>\n",
       "      <td>2048</td>\n",
       "      <td>1536</td>\n",
       "    </tr>\n",
       "    <tr>\n",
       "      <th>2772</th>\n",
       "      <td>388012</td>\n",
       "      <td>388012</td>\n",
       "      <td>798701773686853632-3</td>\n",
       "      <td>0.482745</td>\n",
       "      <td>0.404692</td>\n",
       "      <td>0.112563</td>\n",
       "      <td>Here are selfies I never posted before https:/...</td>\n",
       "      <td>NEG</td>\n",
       "      <td>0</td>\n",
       "      <td>data/79870/798701773686853632-3.jpg</td>\n",
       "      <td>1365</td>\n",
       "      <td>2048</td>\n",
       "    </tr>\n",
       "    <tr>\n",
       "      <th>11149</th>\n",
       "      <td>113094</td>\n",
       "      <td>113094</td>\n",
       "      <td>769571837449740288-1</td>\n",
       "      <td>0.010035</td>\n",
       "      <td>0.911801</td>\n",
       "      <td>0.078164</td>\n",
       "      <td>RT @keyannaaaaw: when she say she got the free...</td>\n",
       "      <td>NEU</td>\n",
       "      <td>1</td>\n",
       "      <td>data/76957/769571837449740288-1.jpg</td>\n",
       "      <td>1149</td>\n",
       "      <td>749</td>\n",
       "    </tr>\n",
       "    <tr>\n",
       "      <th>4881</th>\n",
       "      <td>123187</td>\n",
       "      <td>123187</td>\n",
       "      <td>780390402889220096-1</td>\n",
       "      <td>0.005437</td>\n",
       "      <td>0.037882</td>\n",
       "      <td>0.956680</td>\n",
       "      <td>Come out for the PTO Family Fun Night! Tons of...</td>\n",
       "      <td>POS</td>\n",
       "      <td>2</td>\n",
       "      <td>data/78039/780390402889220096-1.jpg</td>\n",
       "      <td>2048</td>\n",
       "      <td>1526</td>\n",
       "    </tr>\n",
       "  </tbody>\n",
       "</table>\n",
       "<p>12000 rows × 12 columns</p>\n",
       "</div>"
      ],
      "text/plain": [
       "       Unnamed: 0  Unnamed: 0.1            image_name       NEG       NEU  \\\n",
       "1101       415720        415720  800637990229815296-1  0.458655  0.435403   \n",
       "6025        15525         15525  769032642893320193-1  0.009142  0.061676   \n",
       "1720       362371        362371  796804216022962180-1  0.829711  0.111822   \n",
       "4753       231955        231955  782437948889272320-1  0.006742  0.112420   \n",
       "4728       329462        329462  784522857715994627-1  0.017643  0.053174   \n",
       "...           ...           ...                   ...       ...       ...   \n",
       "1719       353043        353043  796218410174713856-1  0.716052  0.226798   \n",
       "8694       133271        133271  780536863803138048-1  0.027858  0.880886   \n",
       "2772       388012        388012  798701773686853632-3  0.482745  0.404692   \n",
       "11149      113094        113094  769571837449740288-1  0.010035  0.911801   \n",
       "4881       123187        123187  780390402889220096-1  0.005437  0.037882   \n",
       "\n",
       "            POS                                               text sent_text  \\\n",
       "1101   0.105942  @AskPlayStation my account got banned and I ha...       NEG   \n",
       "6025   0.929181  RT @morgan_price13: It was an awesome night!❤️...       POS   \n",
       "1720   0.058466  ???????? I Fuck It Up Every Time #KingyPhotos ...       NEG   \n",
       "4753   0.880838  Learning to say goodbye—w https://t.co/VOCIFWe...       POS   \n",
       "4728   0.929183  Happy birthday Sarah!! Ilysm and I hope your d...       POS   \n",
       "...         ...                                                ...       ...   \n",
       "1719   0.057150  Can't Stump The Trump! ????????????❤️ https://...       NEG   \n",
       "8694   0.091256  got this in the mail today #emaw #wildcats htt...       NEU   \n",
       "2772   0.112563  Here are selfies I never posted before https:/...       NEG   \n",
       "11149  0.078164  RT @keyannaaaaw: when she say she got the free...       NEU   \n",
       "4881   0.956680  Come out for the PTO Family Fun Night! Tons of...       POS   \n",
       "\n",
       "       sent_image                           image_path  image_height  \\\n",
       "1101            0  data/80063/800637990229815296-1.jpg          1536   \n",
       "6025            2  data/76903/769032642893320193-1.jpg          2048   \n",
       "1720            0  data/79680/796804216022962180-1.jpg          2048   \n",
       "4753            2  data/78243/782437948889272320-1.jpg           768   \n",
       "4728            2  data/78452/784522857715994627-1.jpg          1080   \n",
       "...           ...                                  ...           ...   \n",
       "1719            0  data/79621/796218410174713856-1.jpg          1024   \n",
       "8694            1  data/78053/780536863803138048-1.jpg          2048   \n",
       "2772            0  data/79870/798701773686853632-3.jpg          1365   \n",
       "11149           1  data/76957/769571837449740288-1.jpg          1149   \n",
       "4881            2  data/78039/780390402889220096-1.jpg          2048   \n",
       "\n",
       "       image_width  \n",
       "1101          2048  \n",
       "6025          1536  \n",
       "1720          1365  \n",
       "4753          1024  \n",
       "4728          1920  \n",
       "...            ...  \n",
       "1719           576  \n",
       "8694          1536  \n",
       "2772          2048  \n",
       "11149          749  \n",
       "4881          1526  \n",
       "\n",
       "[12000 rows x 12 columns]"
      ]
     },
     "execution_count": 536,
     "metadata": {},
     "output_type": "execute_result"
    }
   ],
   "source": [
    "path512 = \"dataset_sidi_512.csv\"\n",
    "path = \"dataset_sidi_v1.2.csv\"\n",
    "df512 = pd.read_csv(path512, sep='\\t')\n",
    "\n",
    "#so com duas classes\n",
    "\n",
    "from sklearn.utils import shuffle\n",
    "df512 = shuffle(df512)\n",
    "df512"
   ]
  },
  {
   "cell_type": "code",
   "execution_count": 537,
   "metadata": {},
   "outputs": [],
   "source": [
    "\n",
    "#TODA\n",
    "#filenames = ['./Dataset/b-t4sa_imgs/' + fname for fname in df512['image_path'].tolist()]\n",
    "\n",
    "#Reduzido\n",
    "filenames = ['./Dataset512/' + fname+\".jpg\" for fname in df512['image_name'].tolist()]\n",
    "\n",
    "labels = df512['sent_image'].tolist()\n",
    "#labels = [1 if i==2 else i  for i in labels]\n",
    "\n",
    "x_train, val_filenames, y_train, val_labels = train_test_split(filenames,labels, train_size=0.8,random_state=42)\n",
    "\n",
    "x_val, x_test_filename, y_val, y_test = train_test_split(val_filenames,val_labels, train_size=0.5,random_state=42)"
   ]
  },
  {
   "cell_type": "code",
   "execution_count": 538,
   "metadata": {},
   "outputs": [
    {
     "data": {
      "text/plain": [
       "(9600, 1200, 1200)"
      ]
     },
     "execution_count": 538,
     "metadata": {},
     "output_type": "execute_result"
    }
   ],
   "source": [
    "len(y_train), len( y_val), len( y_test)"
   ]
  },
  {
   "cell_type": "code",
   "execution_count": 539,
   "metadata": {},
   "outputs": [],
   "source": [
    "from keras.utils.np_utils import to_categorical   \n",
    "\n",
    "y_train = to_categorical(y_train, num_classes=3)\n",
    "y_val = to_categorical(y_val, num_classes=3)\n",
    "y_test = to_categorical(y_test, num_classes=3)"
   ]
  },
  {
   "cell_type": "code",
   "execution_count": 540,
   "metadata": {},
   "outputs": [
    {
     "data": {
      "text/plain": [
       "100"
      ]
     },
     "execution_count": 540,
     "metadata": {},
     "output_type": "execute_result"
    }
   ],
   "source": [
    "tf.keras.backend.clear_session()\n",
    "import gc\n",
    "gc.collect()"
   ]
  },
  {
   "cell_type": "markdown",
   "metadata": {},
   "source": [
    "## VGG\n"
   ]
  },
  {
   "cell_type": "code",
   "execution_count": 541,
   "metadata": {},
   "outputs": [
    {
     "data": {
      "text/plain": [
       "100"
      ]
     },
     "execution_count": 541,
     "metadata": {},
     "output_type": "execute_result"
    }
   ],
   "source": [
    "tf.keras.backend.clear_session()\n",
    "import gc\n",
    "gc.collect()"
   ]
  },
  {
   "cell_type": "code",
   "execution_count": 542,
   "metadata": {},
   "outputs": [
    {
     "data": {
      "text/plain": [
       "100"
      ]
     },
     "execution_count": 542,
     "metadata": {},
     "output_type": "execute_result"
    }
   ],
   "source": [
    "tf.keras.backend.clear_session()\n",
    "import gc\n",
    "gc.collect()"
   ]
  },
  {
   "cell_type": "code",
   "execution_count": 543,
   "metadata": {},
   "outputs": [
    {
     "name": "stdout",
     "output_type": "stream",
     "text": [
      "Model: \"vgg19\"\n",
      "_________________________________________________________________\n",
      " Layer (type)                Output Shape              Param #   \n",
      "=================================================================\n",
      " input_1 (InputLayer)        [(None, 128, 128, 3)]     0         \n",
      "                                                                 \n",
      " block1_conv1 (Conv2D)       (None, 128, 128, 64)      1792      \n",
      "                                                                 \n",
      " block1_conv2 (Conv2D)       (None, 128, 128, 64)      36928     \n",
      "                                                                 \n",
      " block1_pool (MaxPooling2D)  (None, 64, 64, 64)        0         \n",
      "                                                                 \n",
      " block2_conv1 (Conv2D)       (None, 64, 64, 128)       73856     \n",
      "                                                                 \n",
      " block2_conv2 (Conv2D)       (None, 64, 64, 128)       147584    \n",
      "                                                                 \n",
      " block2_pool (MaxPooling2D)  (None, 32, 32, 128)       0         \n",
      "                                                                 \n",
      " block3_conv1 (Conv2D)       (None, 32, 32, 256)       295168    \n",
      "                                                                 \n",
      " block3_conv2 (Conv2D)       (None, 32, 32, 256)       590080    \n",
      "                                                                 \n",
      " block3_conv3 (Conv2D)       (None, 32, 32, 256)       590080    \n",
      "                                                                 \n",
      " block3_conv4 (Conv2D)       (None, 32, 32, 256)       590080    \n",
      "                                                                 \n",
      " block3_pool (MaxPooling2D)  (None, 16, 16, 256)       0         \n",
      "                                                                 \n",
      " block4_conv1 (Conv2D)       (None, 16, 16, 512)       1180160   \n",
      "                                                                 \n",
      " block4_conv2 (Conv2D)       (None, 16, 16, 512)       2359808   \n",
      "                                                                 \n",
      " block4_conv3 (Conv2D)       (None, 16, 16, 512)       2359808   \n",
      "                                                                 \n",
      " block4_conv4 (Conv2D)       (None, 16, 16, 512)       2359808   \n",
      "                                                                 \n",
      " block4_pool (MaxPooling2D)  (None, 8, 8, 512)         0         \n",
      "                                                                 \n",
      " block5_conv1 (Conv2D)       (None, 8, 8, 512)         2359808   \n",
      "                                                                 \n",
      " block5_conv2 (Conv2D)       (None, 8, 8, 512)         2359808   \n",
      "                                                                 \n",
      " block5_conv3 (Conv2D)       (None, 8, 8, 512)         2359808   \n",
      "                                                                 \n",
      " block5_conv4 (Conv2D)       (None, 8, 8, 512)         2359808   \n",
      "                                                                 \n",
      " block5_pool (MaxPooling2D)  (None, 4, 4, 512)         0         \n",
      "                                                                 \n",
      "=================================================================\n",
      "Total params: 20,024,384\n",
      "Trainable params: 20,024,384\n",
      "Non-trainable params: 0\n",
      "_________________________________________________________________\n"
     ]
    }
   ],
   "source": [
    "from tensorflow.keras.applications.vgg19 import VGG19\n",
    "from tensorflow.keras.applications.vgg19 import preprocess_input\n",
    "\n",
    "\n",
    "width = 128\n",
    "height = 128\n",
    "channels = 3\n",
    "\n",
    "#sem utilizar os pesos\n",
    "base_model = VGG19(weights=None, include_top=False, input_shape=(width, height, channels))\n",
    "base_model.summary()"
   ]
  },
  {
   "cell_type": "code",
   "execution_count": 544,
   "metadata": {},
   "outputs": [
    {
     "name": "stdout",
     "output_type": "stream",
     "text": [
      "Model: \"sequential\"\n",
      "_________________________________________________________________\n",
      " Layer (type)                Output Shape              Param #   \n",
      "=================================================================\n",
      " vgg19 (Functional)          (None, 4, 4, 512)         20024384  \n",
      "                                                                 \n",
      " flatten (Flatten)           (None, 8192)              0         \n",
      "                                                                 \n",
      " dense (Dense)               (None, 3)                 24579     \n",
      "                                                                 \n",
      "=================================================================\n",
      "Total params: 20,048,963\n",
      "Trainable params: 20,048,963\n",
      "Non-trainable params: 0\n",
      "_________________________________________________________________\n"
     ]
    }
   ],
   "source": [
    "flatten_layer = layers.Flatten()\n",
    "prediction_layer = layers.Dense(3, activation='softmax')\n",
    "\n",
    "\n",
    "model = models.Sequential([\n",
    "    base_model,\n",
    "    flatten_layer,\n",
    "    prediction_layer\n",
    "])\n",
    "model.summary()"
   ]
  },
  {
   "cell_type": "code",
   "execution_count": 545,
   "metadata": {},
   "outputs": [],
   "source": [
    "\n",
    "#opt =tf.keras.optimizers.SGD(learning_rate=0.001, momentum=0.9)\n",
    "opt = tf.keras.optimizers.Adam(learning_rate=0.000002)\n",
    "\n",
    "model.compile(\n",
    "    optimizer=opt,\n",
    "    loss='categorical_crossentropy',\n",
    "    metrics=['accuracy'],\n",
    ")"
   ]
  },
  {
   "cell_type": "markdown",
   "metadata": {},
   "source": [
    "### FIT GENERATOR"
   ]
  },
  {
   "cell_type": "code",
   "execution_count": 546,
   "metadata": {},
   "outputs": [],
   "source": [
    "#busca os dados que estão listados em train_filenames\n",
    "import random\n",
    "def generate_data(train_filenames,train_labels, batch_size):\n",
    "\n",
    "    width = 128\n",
    "    height = 128\n",
    "    dim = (width, height)\n",
    "    while True:\n",
    "        \n",
    "        mistura = list(zip(train_filenames, train_labels))\n",
    "        \n",
    "        random.shuffle(mistura)\n",
    "\n",
    "        train_filenames, train_labels = zip(*mistura)\n",
    "        for i in range(0,len(train_filenames),batch_size):\n",
    "            \n",
    "            X_train = np.zeros((int(batch_size), width, height, 3))\n",
    "            aux =0\n",
    "\n",
    "            dim = (width, height)\n",
    "\n",
    "            for j in train_filenames[i:i+batch_size]:\n",
    "                X_train[aux] =  np.asarray(cv2.resize(cv2.imread(j), dim, interpolation = cv2.INTER_AREA) )\n",
    "                aux = aux + 1\n",
    "                \n",
    "            img = X_train.reshape(( X_train.shape[0],) +(width, height,3)).astype('float32') / 255.\n",
    "            #img = preprocess_input(img) \n",
    "            \n",
    "            yield (img, np.array(train_labels[i:i+batch_size]))"
   ]
  },
  {
   "cell_type": "code",
   "execution_count": 547,
   "metadata": {},
   "outputs": [
    {
     "data": {
      "text/plain": [
       "24"
      ]
     },
     "execution_count": 547,
     "metadata": {},
     "output_type": "execute_result"
    }
   ],
   "source": [
    "#dobra para 48 pra vê se tanka\n",
    "\n",
    "batch_size=24\n",
    "batch_size"
   ]
  },
  {
   "cell_type": "code",
   "execution_count": 548,
   "metadata": {},
   "outputs": [
    {
     "name": "stdout",
     "output_type": "stream",
     "text": [
      "Epoch 1/500\n",
      "400/400 [==============================] - 48s 118ms/step - loss: 1.0986 - accuracy: 0.3332 - val_loss: 1.0986 - val_accuracy: 0.3517\n",
      "Epoch 2/500\n",
      "400/400 [==============================] - 49s 122ms/step - loss: 1.0983 - accuracy: 0.3348 - val_loss: 1.0981 - val_accuracy: 0.3542\n",
      "Epoch 3/500\n",
      "400/400 [==============================] - 49s 123ms/step - loss: 1.0969 - accuracy: 0.3527 - val_loss: 1.0952 - val_accuracy: 0.3650\n",
      "Epoch 4/500\n",
      "400/400 [==============================] - 51s 127ms/step - loss: 1.0940 - accuracy: 0.3705 - val_loss: 1.0929 - val_accuracy: 0.3642\n",
      "Epoch 5/500\n",
      "400/400 [==============================] - 53s 132ms/step - loss: 1.0924 - accuracy: 0.3711 - val_loss: 1.0920 - val_accuracy: 0.3725\n",
      "Epoch 6/500\n",
      "400/400 [==============================] - 60s 150ms/step - loss: 1.0914 - accuracy: 0.3736 - val_loss: 1.0914 - val_accuracy: 0.3700\n",
      "Epoch 7/500\n",
      "400/400 [==============================] - 51s 127ms/step - loss: 1.0905 - accuracy: 0.3760 - val_loss: 1.0908 - val_accuracy: 0.3733\n",
      "Epoch 8/500\n",
      "400/400 [==============================] - 51s 127ms/step - loss: 1.0896 - accuracy: 0.3779 - val_loss: 1.0901 - val_accuracy: 0.3683\n",
      "Epoch 9/500\n",
      "400/400 [==============================] - 51s 127ms/step - loss: 1.0884 - accuracy: 0.3806 - val_loss: 1.0894 - val_accuracy: 0.3675\n",
      "Epoch 10/500\n",
      "400/400 [==============================] - 51s 127ms/step - loss: 1.0872 - accuracy: 0.3835 - val_loss: 1.0886 - val_accuracy: 0.3683\n",
      "Epoch 11/500\n",
      "400/400 [==============================] - 51s 127ms/step - loss: 1.0860 - accuracy: 0.3884 - val_loss: 1.0878 - val_accuracy: 0.3658\n",
      "Epoch 12/500\n",
      "400/400 [==============================] - 60s 150ms/step - loss: 1.0848 - accuracy: 0.3905 - val_loss: 1.0869 - val_accuracy: 0.3658\n",
      "Epoch 13/500\n",
      "400/400 [==============================] - 57s 142ms/step - loss: 1.0836 - accuracy: 0.3931 - val_loss: 1.0860 - val_accuracy: 0.3750\n",
      "Epoch 14/500\n",
      "400/400 [==============================] - 51s 127ms/step - loss: 1.0823 - accuracy: 0.3970 - val_loss: 1.0850 - val_accuracy: 0.3800\n",
      "Epoch 15/500\n",
      "400/400 [==============================] - 51s 127ms/step - loss: 1.0809 - accuracy: 0.3996 - val_loss: 1.0839 - val_accuracy: 0.3817\n",
      "Epoch 16/500\n",
      "400/400 [==============================] - 51s 127ms/step - loss: 1.0794 - accuracy: 0.4041 - val_loss: 1.0827 - val_accuracy: 0.3842\n",
      "Epoch 17/500\n",
      "400/400 [==============================] - 52s 131ms/step - loss: 1.0779 - accuracy: 0.4053 - val_loss: 1.0819 - val_accuracy: 0.3950\n",
      "Epoch 18/500\n",
      "400/400 [==============================] - 54s 134ms/step - loss: 1.0765 - accuracy: 0.4081 - val_loss: 1.0813 - val_accuracy: 0.4067\n",
      "Epoch 19/500\n",
      "400/400 [==============================] - 51s 127ms/step - loss: 1.0753 - accuracy: 0.4117 - val_loss: 1.0808 - val_accuracy: 0.4033\n",
      "Epoch 20/500\n",
      "400/400 [==============================] - 51s 127ms/step - loss: 1.0742 - accuracy: 0.4151 - val_loss: 1.0803 - val_accuracy: 0.4108\n",
      "Epoch 21/500\n",
      "400/400 [==============================] - 51s 126ms/step - loss: 1.0732 - accuracy: 0.4164 - val_loss: 1.0798 - val_accuracy: 0.4108\n",
      "Epoch 22/500\n",
      "400/400 [==============================] - 51s 128ms/step - loss: 1.0723 - accuracy: 0.4173 - val_loss: 1.0794 - val_accuracy: 0.4025\n",
      "Epoch 23/500\n",
      "400/400 [==============================] - 60s 149ms/step - loss: 1.0714 - accuracy: 0.4198 - val_loss: 1.0790 - val_accuracy: 0.4100\n",
      "Epoch 24/500\n",
      "400/400 [==============================] - 52s 130ms/step - loss: 1.0705 - accuracy: 0.4199 - val_loss: 1.0787 - val_accuracy: 0.4125\n",
      "Epoch 25/500\n",
      "400/400 [==============================] - 51s 126ms/step - loss: 1.0696 - accuracy: 0.4224 - val_loss: 1.0785 - val_accuracy: 0.4117\n",
      "Epoch 26/500\n",
      "400/400 [==============================] - 52s 131ms/step - loss: 1.0688 - accuracy: 0.4233 - val_loss: 1.0783 - val_accuracy: 0.4183\n",
      "Epoch 27/500\n",
      "400/400 [==============================] - 51s 127ms/step - loss: 1.0679 - accuracy: 0.4253 - val_loss: 1.0781 - val_accuracy: 0.4192\n",
      "Epoch 28/500\n",
      "400/400 [==============================] - 60s 150ms/step - loss: 1.0670 - accuracy: 0.4278 - val_loss: 1.0781 - val_accuracy: 0.4183\n",
      "Epoch 29/500\n",
      "400/400 [==============================] - 59s 149ms/step - loss: 1.0661 - accuracy: 0.4300 - val_loss: 1.0780 - val_accuracy: 0.4133\n",
      "Epoch 30/500\n",
      "400/400 [==============================] - 51s 126ms/step - loss: 1.0652 - accuracy: 0.4304 - val_loss: 1.0779 - val_accuracy: 0.4158\n",
      "Epoch 31/500\n",
      "400/400 [==============================] - 52s 130ms/step - loss: 1.0642 - accuracy: 0.4316 - val_loss: 1.0779 - val_accuracy: 0.4133\n",
      "Epoch 32/500\n",
      "400/400 [==============================] - 50s 126ms/step - loss: 1.0632 - accuracy: 0.4335 - val_loss: 1.0780 - val_accuracy: 0.4083\n"
     ]
    },
    {
     "data": {
      "text/plain": [
       "<keras.callbacks.History at 0x1ac3fcbb190>"
      ]
     },
     "execution_count": 548,
     "metadata": {},
     "output_type": "execute_result"
    }
   ],
   "source": [
    "from tensorflow.keras.callbacks import EarlyStopping\n",
    "es = EarlyStopping(monitor='val_loss', patience=2,  restore_best_weights=True)\n",
    "epocas = 500\n",
    "\n",
    "model.fit( generate_data(x_train, y_train, batch_size),validation_steps=50,steps_per_epoch=400, callbacks=[es],\n",
    "        batch_size=batch_size,  epochs=epocas,validation_data=generate_data(x_val,y_val, batch_size))"
   ]
  },
  {
   "cell_type": "code",
   "execution_count": null,
   "metadata": {},
   "outputs": [],
   "source": []
  },
  {
   "cell_type": "markdown",
   "metadata": {},
   "source": [
    "### Resultados"
   ]
  },
  {
   "cell_type": "code",
   "execution_count": 549,
   "metadata": {},
   "outputs": [],
   "source": [
    "x_test = np.zeros((len(y_test), width, height, 3))\n",
    "aux =0\n",
    "\n",
    "dim = (width, height)\n",
    "\n",
    "for i in x_test_filename:\n",
    "    x_test[aux] = np.asarray(cv2.resize(cv2.imread(i), dim, interpolation = cv2.INTER_AREA) )\n",
    "    aux = aux + 1\n",
    "x_test = x_test.reshape((x_test.shape[0],) +(width, height,3)).astype('float32') / 255."
   ]
  },
  {
   "cell_type": "code",
   "execution_count": 550,
   "metadata": {},
   "outputs": [
    {
     "name": "stdout",
     "output_type": "stream",
     "text": [
      "0.4091666666666667\n",
      "              precision    recall  f1-score   support\n",
      "\n",
      "           0       0.48      0.33      0.39       411\n",
      "           1       0.40      0.55      0.46       402\n",
      "           2       0.37      0.35      0.36       387\n",
      "\n",
      "    accuracy                           0.41      1200\n",
      "   macro avg       0.42      0.41      0.40      1200\n",
      "weighted avg       0.42      0.41      0.40      1200\n",
      "\n"
     ]
    }
   ],
   "source": [
    "y_pred = model.predict(x_test)\n",
    "\n",
    "y_pred = np.argmax(y_pred, axis=-1)\n",
    "test_labels_result= np.argmax(y_test, axis=-1)\n",
    "\n",
    "print(accuracy_score(test_labels_result, y_pred));\n",
    "print(classification_report(test_labels_result, y_pred));"
   ]
  },
  {
   "cell_type": "code",
   "execution_count": 551,
   "metadata": {},
   "outputs": [
    {
     "name": "stdout",
     "output_type": "stream",
     "text": [
      "Negativo - 0     Neutro - 1      Positivo - 2\n"
     ]
    },
    {
     "data": {
      "image/png": "[encoded data removed]",
      "text/plain": [
       "<Figure size 432x288 with 2 Axes>"
      ]
     },
     "metadata": {
      "needs_background": "light"
     },
     "output_type": "display_data"
    }
   ],
   "source": [
    "print(\"Negativo - 0     Neutro - 1      Positivo - 2\")\n",
    "sns.heatmap(confusion_matrix(test_labels_result, y_pred), annot=True, fmt=\"d\");"
   ]
  },
  {
   "cell_type": "code",
   "execution_count": null,
   "metadata": {},
   "outputs": [],
   "source": []
  }
 ],
 "metadata": {
  "kernelspec": {
   "display_name": "Python 3",
   "language": "python",
   "name": "python3"
  },
  "language_info": {
   "codemirror_mode": {
    "name": "ipython",
    "version": 3
   },
   "file_extension": ".py",
   "mimetype": "text/x-python",
   "name": "python",
   "nbconvert_exporter": "python",
   "pygments_lexer": "ipython3",
   "version": "3.8.12"
  }
 },
 "nbformat": 4,
 "nbformat_minor": 5
}
