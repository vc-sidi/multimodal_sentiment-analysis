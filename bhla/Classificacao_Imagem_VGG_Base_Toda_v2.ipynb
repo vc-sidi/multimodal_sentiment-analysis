{
 "cells": [
  {
   "cell_type": "code",
   "execution_count": 33,
   "metadata": {},
   "outputs": [],
   "source": [
    "import tensorflow as tf\n",
    "from tensorflow import keras\n",
    "import pandas as pd\n",
    "import cv2\n",
    "\n",
    "from tensorflow.keras.layers import Input, Conv2D \n",
    "from tensorflow.keras.layers import MaxPool2D, Flatten, Dense \n",
    "from tensorflow.keras import Model\n",
    "import numpy as np\n",
    "from sklearn.model_selection import train_test_split\n",
    "\n",
    "from tensorflow.keras.applications.vgg16 import VGG16\n",
    "from tensorflow.keras.applications.vgg16 import preprocess_input\n",
    "from tensorflow.keras import layers, models\n",
    "import seaborn as sns\n",
    "from sklearn.metrics import classification_report\n",
    "from sklearn.metrics import f1_score, accuracy_score\n",
    "from sklearn.metrics import confusion_matrix"
   ]
  },
  {
   "cell_type": "code",
   "execution_count": 34,
   "metadata": {},
   "outputs": [
    {
     "name": "stdout",
     "output_type": "stream",
     "text": [
      "True\n",
      "[PhysicalDevice(name='/physical_device:GPU:0', device_type='GPU')]\n"
     ]
    }
   ],
   "source": [
    "print(tf.test.is_built_with_cuda())\n",
    "print(tf.config.list_physical_devices('GPU')) "
   ]
  },
  {
   "cell_type": "code",
   "execution_count": 35,
   "metadata": {},
   "outputs": [
    {
     "data": {
      "text/plain": [
       "'2.7.0'"
      ]
     },
     "execution_count": 35,
     "metadata": {},
     "output_type": "execute_result"
    }
   ],
   "source": [
    "tf.__version__\n"
   ]
  },
  {
   "cell_type": "code",
   "execution_count": 36,
   "metadata": {},
   "outputs": [
    {
     "data": {
      "text/plain": [
       "[PhysicalDevice(name='/physical_device:GPU:0', device_type='GPU')]"
      ]
     },
     "execution_count": 36,
     "metadata": {},
     "output_type": "execute_result"
    }
   ],
   "source": [
    "tf.config.list_physical_devices('GPU')"
   ]
  },
  {
   "cell_type": "code",
   "execution_count": 37,
   "metadata": {},
   "outputs": [
    {
     "data": {
      "text/html": [
       "<div>\n",
       "<style scoped>\n",
       "    .dataframe tbody tr th:only-of-type {\n",
       "        vertical-align: middle;\n",
       "    }\n",
       "\n",
       "    .dataframe tbody tr th {\n",
       "        vertical-align: top;\n",
       "    }\n",
       "\n",
       "    .dataframe thead th {\n",
       "        text-align: right;\n",
       "    }\n",
       "</style>\n",
       "<table border=\"1\" class=\"dataframe\">\n",
       "  <thead>\n",
       "    <tr style=\"text-align: right;\">\n",
       "      <th></th>\n",
       "      <th>Unnamed: 0</th>\n",
       "      <th>image_name</th>\n",
       "      <th>NEG</th>\n",
       "      <th>NEU</th>\n",
       "      <th>POS</th>\n",
       "      <th>text</th>\n",
       "      <th>sent_text</th>\n",
       "      <th>sent_image</th>\n",
       "      <th>image_path</th>\n",
       "      <th>image_height</th>\n",
       "      <th>image_width</th>\n",
       "    </tr>\n",
       "  </thead>\n",
       "  <tbody>\n",
       "    <tr>\n",
       "      <th>243787</th>\n",
       "      <td>243787</td>\n",
       "      <td>782863335171690496-3</td>\n",
       "      <td>0.012514</td>\n",
       "      <td>0.863711</td>\n",
       "      <td>0.123775</td>\n",
       "      <td>📆 #OnThisDay in 2013, we maintained our 100% r...</td>\n",
       "      <td>NEU</td>\n",
       "      <td>1</td>\n",
       "      <td>data/78286/782863335171690496-3.jpg</td>\n",
       "      <td>1379</td>\n",
       "      <td>2048</td>\n",
       "    </tr>\n",
       "    <tr>\n",
       "      <th>142780</th>\n",
       "      <td>142780</td>\n",
       "      <td>780735875147792384-1</td>\n",
       "      <td>0.016348</td>\n",
       "      <td>0.055254</td>\n",
       "      <td>0.928397</td>\n",
       "      <td>We're beyond excited for this! 😍 https://t.co/...</td>\n",
       "      <td>POS</td>\n",
       "      <td>2</td>\n",
       "      <td>data/78073/780735875147792384-1.jpg</td>\n",
       "      <td>455</td>\n",
       "      <td>808</td>\n",
       "    </tr>\n",
       "    <tr>\n",
       "      <th>279883</th>\n",
       "      <td>279883</td>\n",
       "      <td>783529269041500160-1</td>\n",
       "      <td>0.013868</td>\n",
       "      <td>0.909301</td>\n",
       "      <td>0.076831</td>\n",
       "      <td>Sourdough with cheddar and parmesan cheese and...</td>\n",
       "      <td>NEU</td>\n",
       "      <td>1</td>\n",
       "      <td>data/78352/783529269041500160-1.jpg</td>\n",
       "      <td>315</td>\n",
       "      <td>600</td>\n",
       "    </tr>\n",
       "    <tr>\n",
       "      <th>270887</th>\n",
       "      <td>270887</td>\n",
       "      <td>783354123269836801-1</td>\n",
       "      <td>0.030895</td>\n",
       "      <td>0.096487</td>\n",
       "      <td>0.872618</td>\n",
       "      <td>Mmmm yummy! Oven dried apple rings anyone? Sur...</td>\n",
       "      <td>POS</td>\n",
       "      <td>2</td>\n",
       "      <td>data/78335/783354123269836801-1.jpg</td>\n",
       "      <td>1024</td>\n",
       "      <td>768</td>\n",
       "    </tr>\n",
       "    <tr>\n",
       "      <th>73806</th>\n",
       "      <td>73806</td>\n",
       "      <td>769381260892446720-2</td>\n",
       "      <td>0.004480</td>\n",
       "      <td>0.022149</td>\n",
       "      <td>0.973371</td>\n",
       "      <td>Never been so blessed in my life that both me ...</td>\n",
       "      <td>POS</td>\n",
       "      <td>2</td>\n",
       "      <td>data/76938/769381260892446720-2.jpg</td>\n",
       "      <td>1536</td>\n",
       "      <td>2048</td>\n",
       "    </tr>\n",
       "    <tr>\n",
       "      <th>...</th>\n",
       "      <td>...</td>\n",
       "      <td>...</td>\n",
       "      <td>...</td>\n",
       "      <td>...</td>\n",
       "      <td>...</td>\n",
       "      <td>...</td>\n",
       "      <td>...</td>\n",
       "      <td>...</td>\n",
       "      <td>...</td>\n",
       "      <td>...</td>\n",
       "      <td>...</td>\n",
       "    </tr>\n",
       "    <tr>\n",
       "      <th>78580</th>\n",
       "      <td>78580</td>\n",
       "      <td>769405537515671552-1</td>\n",
       "      <td>0.020540</td>\n",
       "      <td>0.924387</td>\n",
       "      <td>0.055073</td>\n",
       "      <td>RT @hshhoe: Can we talk about how @KarolsCorne...</td>\n",
       "      <td>NEU</td>\n",
       "      <td>1</td>\n",
       "      <td>data/76940/769405537515671552-1.jpg</td>\n",
       "      <td>1334</td>\n",
       "      <td>750</td>\n",
       "    </tr>\n",
       "    <tr>\n",
       "      <th>393357</th>\n",
       "      <td>393357</td>\n",
       "      <td>799049846380445696-1</td>\n",
       "      <td>0.693227</td>\n",
       "      <td>0.242323</td>\n",
       "      <td>0.064450</td>\n",
       "      <td>She hasn't replied for an hour https://t.co/yC...</td>\n",
       "      <td>NEG</td>\n",
       "      <td>0</td>\n",
       "      <td>data/79904/799049846380445696-1.jpg</td>\n",
       "      <td>400</td>\n",
       "      <td>463</td>\n",
       "    </tr>\n",
       "    <tr>\n",
       "      <th>14006</th>\n",
       "      <td>14006</td>\n",
       "      <td>769014804522622976-1</td>\n",
       "      <td>0.006426</td>\n",
       "      <td>0.062766</td>\n",
       "      <td>0.930808</td>\n",
       "      <td>RT @angarudo: [RT appreciated] #voltron #klanc...</td>\n",
       "      <td>POS</td>\n",
       "      <td>2</td>\n",
       "      <td>data/76901/769014804522622976-1.jpg</td>\n",
       "      <td>879</td>\n",
       "      <td>940</td>\n",
       "    </tr>\n",
       "    <tr>\n",
       "      <th>347423</th>\n",
       "      <td>347423</td>\n",
       "      <td>795942018090418177-1</td>\n",
       "      <td>0.399698</td>\n",
       "      <td>0.371843</td>\n",
       "      <td>0.228459</td>\n",
       "      <td>When @htgdublin's special sandwich becomes so ...</td>\n",
       "      <td>NEG</td>\n",
       "      <td>0</td>\n",
       "      <td>data/79594/795942018090418177-1.jpg</td>\n",
       "      <td>236</td>\n",
       "      <td>532</td>\n",
       "    </tr>\n",
       "    <tr>\n",
       "      <th>60152</th>\n",
       "      <td>60152</td>\n",
       "      <td>769317662656790528-1</td>\n",
       "      <td>0.007157</td>\n",
       "      <td>0.900179</td>\n",
       "      <td>0.092664</td>\n",
       "      <td>RT @SoCalCycling: Ride w/ @petosagan at the #P...</td>\n",
       "      <td>NEU</td>\n",
       "      <td>1</td>\n",
       "      <td>data/76931/769317662656790528-1.jpg</td>\n",
       "      <td>1373</td>\n",
       "      <td>2048</td>\n",
       "    </tr>\n",
       "  </tbody>\n",
       "</table>\n",
       "<p>470586 rows × 11 columns</p>\n",
       "</div>"
      ],
      "text/plain": [
       "        Unnamed: 0            image_name       NEG       NEU       POS  \\\n",
       "243787      243787  782863335171690496-3  0.012514  0.863711  0.123775   \n",
       "142780      142780  780735875147792384-1  0.016348  0.055254  0.928397   \n",
       "279883      279883  783529269041500160-1  0.013868  0.909301  0.076831   \n",
       "270887      270887  783354123269836801-1  0.030895  0.096487  0.872618   \n",
       "73806        73806  769381260892446720-2  0.004480  0.022149  0.973371   \n",
       "...            ...                   ...       ...       ...       ...   \n",
       "78580        78580  769405537515671552-1  0.020540  0.924387  0.055073   \n",
       "393357      393357  799049846380445696-1  0.693227  0.242323  0.064450   \n",
       "14006        14006  769014804522622976-1  0.006426  0.062766  0.930808   \n",
       "347423      347423  795942018090418177-1  0.399698  0.371843  0.228459   \n",
       "60152        60152  769317662656790528-1  0.007157  0.900179  0.092664   \n",
       "\n",
       "                                                     text sent_text  \\\n",
       "243787  📆 #OnThisDay in 2013, we maintained our 100% r...       NEU   \n",
       "142780  We're beyond excited for this! 😍 https://t.co/...       POS   \n",
       "279883  Sourdough with cheddar and parmesan cheese and...       NEU   \n",
       "270887  Mmmm yummy! Oven dried apple rings anyone? Sur...       POS   \n",
       "73806   Never been so blessed in my life that both me ...       POS   \n",
       "...                                                   ...       ...   \n",
       "78580   RT @hshhoe: Can we talk about how @KarolsCorne...       NEU   \n",
       "393357  She hasn't replied for an hour https://t.co/yC...       NEG   \n",
       "14006   RT @angarudo: [RT appreciated] #voltron #klanc...       POS   \n",
       "347423  When @htgdublin's special sandwich becomes so ...       NEG   \n",
       "60152   RT @SoCalCycling: Ride w/ @petosagan at the #P...       NEU   \n",
       "\n",
       "        sent_image                           image_path  image_height  \\\n",
       "243787           1  data/78286/782863335171690496-3.jpg          1379   \n",
       "142780           2  data/78073/780735875147792384-1.jpg           455   \n",
       "279883           1  data/78352/783529269041500160-1.jpg           315   \n",
       "270887           2  data/78335/783354123269836801-1.jpg          1024   \n",
       "73806            2  data/76938/769381260892446720-2.jpg          1536   \n",
       "...            ...                                  ...           ...   \n",
       "78580            1  data/76940/769405537515671552-1.jpg          1334   \n",
       "393357           0  data/79904/799049846380445696-1.jpg           400   \n",
       "14006            2  data/76901/769014804522622976-1.jpg           879   \n",
       "347423           0  data/79594/795942018090418177-1.jpg           236   \n",
       "60152            1  data/76931/769317662656790528-1.jpg          1373   \n",
       "\n",
       "        image_width  \n",
       "243787         2048  \n",
       "142780          808  \n",
       "279883          600  \n",
       "270887          768  \n",
       "73806          2048  \n",
       "...             ...  \n",
       "78580           750  \n",
       "393357          463  \n",
       "14006           940  \n",
       "347423          532  \n",
       "60152          2048  \n",
       "\n",
       "[470586 rows x 11 columns]"
      ]
     },
     "execution_count": 37,
     "metadata": {},
     "output_type": "execute_result"
    }
   ],
   "source": [
    "path512 = \"dataset_sidi_512.csv\"\n",
    "path = \"dataset_sidi_v1.2.csv\"\n",
    "df512 = pd.read_csv(path, sep='\\t')\n",
    "\n",
    "#so com duas classes\n",
    "\n",
    "from sklearn.utils import shuffle\n",
    "df512 = shuffle(df512)\n",
    "df512"
   ]
  },
  {
   "cell_type": "code",
   "execution_count": 38,
   "metadata": {},
   "outputs": [],
   "source": [
    "\n",
    "#TODA\n",
    "filenames = ['./Dataset/b-t4sa_imgs/' + fname for fname in df512['image_path'].tolist()]\n",
    "\n",
    "#Reduzido\n",
    "#filenames = ['./Dataset512/' + fname+\".jpg\" for fname in df512['image_name'].tolist()]\n",
    "\n",
    "labels = df512['sent_image'].tolist()\n",
    "#labels = [1 if i==2 else i  for i in labels]\n",
    "\n",
    "x_train, val_filenames, y_train, val_labels = train_test_split(filenames,labels, train_size=0.8,random_state=42)\n",
    "\n",
    "x_val, x_test_filename, y_val, y_test = train_test_split(val_filenames,val_labels, train_size=0.5,random_state=42)"
   ]
  },
  {
   "cell_type": "code",
   "execution_count": 39,
   "metadata": {},
   "outputs": [
    {
     "data": {
      "text/plain": [
       "(376468, 47059, 47059)"
      ]
     },
     "execution_count": 39,
     "metadata": {},
     "output_type": "execute_result"
    }
   ],
   "source": [
    "len(y_train), len( y_val), len( y_test)"
   ]
  },
  {
   "cell_type": "code",
   "execution_count": 40,
   "metadata": {},
   "outputs": [],
   "source": [
    "from keras.utils.np_utils import to_categorical   \n",
    "\n",
    "y_train = to_categorical(y_train, num_classes=3)\n",
    "y_val = to_categorical(y_val, num_classes=3)\n",
    "y_test = to_categorical(y_test, num_classes=3)"
   ]
  },
  {
   "cell_type": "code",
   "execution_count": 67,
   "metadata": {},
   "outputs": [],
   "source": [
    "#del model"
   ]
  },
  {
   "cell_type": "code",
   "execution_count": 68,
   "metadata": {},
   "outputs": [
    {
     "data": {
      "text/plain": [
       "156"
      ]
     },
     "execution_count": 68,
     "metadata": {},
     "output_type": "execute_result"
    }
   ],
   "source": [
    "tf.keras.backend.clear_session()\n",
    "import gc\n",
    "gc.collect()"
   ]
  },
  {
   "cell_type": "markdown",
   "metadata": {},
   "source": [
    "## VGG\n"
   ]
  },
  {
   "cell_type": "code",
   "execution_count": 69,
   "metadata": {},
   "outputs": [
    {
     "data": {
      "text/plain": [
       "100"
      ]
     },
     "execution_count": 69,
     "metadata": {},
     "output_type": "execute_result"
    }
   ],
   "source": [
    "tf.keras.backend.clear_session()\n",
    "import gc\n",
    "gc.collect()"
   ]
  },
  {
   "cell_type": "code",
   "execution_count": 70,
   "metadata": {},
   "outputs": [
    {
     "data": {
      "text/plain": [
       "100"
      ]
     },
     "execution_count": 70,
     "metadata": {},
     "output_type": "execute_result"
    }
   ],
   "source": [
    "tf.keras.backend.clear_session()\n",
    "import gc\n",
    "gc.collect()"
   ]
  },
  {
   "cell_type": "code",
   "execution_count": 71,
   "metadata": {},
   "outputs": [],
   "source": [
    "width = 128\n",
    "height = 128\n",
    "channels = 3\n"
   ]
  },
  {
   "cell_type": "code",
   "execution_count": 72,
   "metadata": {},
   "outputs": [
    {
     "name": "stdout",
     "output_type": "stream",
     "text": [
      "Model: \"vgg19\"\n",
      "_________________________________________________________________\n",
      " Layer (type)                Output Shape              Param #   \n",
      "=================================================================\n",
      " input_1 (InputLayer)        [(None, 128, 128, 3)]     0         \n",
      "                                                                 \n",
      " block1_conv1 (Conv2D)       (None, 128, 128, 64)      1792      \n",
      "                                                                 \n",
      " block1_conv2 (Conv2D)       (None, 128, 128, 64)      36928     \n",
      "                                                                 \n",
      " block1_pool (MaxPooling2D)  (None, 64, 64, 64)        0         \n",
      "                                                                 \n",
      " block2_conv1 (Conv2D)       (None, 64, 64, 128)       73856     \n",
      "                                                                 \n",
      " block2_conv2 (Conv2D)       (None, 64, 64, 128)       147584    \n",
      "                                                                 \n",
      " block2_pool (MaxPooling2D)  (None, 32, 32, 128)       0         \n",
      "                                                                 \n",
      " block3_conv1 (Conv2D)       (None, 32, 32, 256)       295168    \n",
      "                                                                 \n",
      " block3_conv2 (Conv2D)       (None, 32, 32, 256)       590080    \n",
      "                                                                 \n",
      " block3_conv3 (Conv2D)       (None, 32, 32, 256)       590080    \n",
      "                                                                 \n",
      " block3_conv4 (Conv2D)       (None, 32, 32, 256)       590080    \n",
      "                                                                 \n",
      " block3_pool (MaxPooling2D)  (None, 16, 16, 256)       0         \n",
      "                                                                 \n",
      " block4_conv1 (Conv2D)       (None, 16, 16, 512)       1180160   \n",
      "                                                                 \n",
      " block4_conv2 (Conv2D)       (None, 16, 16, 512)       2359808   \n",
      "                                                                 \n",
      " block4_conv3 (Conv2D)       (None, 16, 16, 512)       2359808   \n",
      "                                                                 \n",
      " block4_conv4 (Conv2D)       (None, 16, 16, 512)       2359808   \n",
      "                                                                 \n",
      " block4_pool (MaxPooling2D)  (None, 8, 8, 512)         0         \n",
      "                                                                 \n",
      " block5_conv1 (Conv2D)       (None, 8, 8, 512)         2359808   \n",
      "                                                                 \n",
      " block5_conv2 (Conv2D)       (None, 8, 8, 512)         2359808   \n",
      "                                                                 \n",
      " block5_conv3 (Conv2D)       (None, 8, 8, 512)         2359808   \n",
      "                                                                 \n",
      " block5_conv4 (Conv2D)       (None, 8, 8, 512)         2359808   \n",
      "                                                                 \n",
      " block5_pool (MaxPooling2D)  (None, 4, 4, 512)         0         \n",
      "                                                                 \n",
      "=================================================================\n",
      "Total params: 20,024,384\n",
      "Trainable params: 20,024,384\n",
      "Non-trainable params: 0\n",
      "_________________________________________________________________\n"
     ]
    }
   ],
   "source": [
    "from tensorflow.keras.applications.vgg19 import VGG19\n",
    "from tensorflow.keras.applications.vgg19 import preprocess_input\n",
    "\n",
    "\n",
    "\n",
    "#sem utilizar os pesos\n",
    "base_model = VGG19(weights=None, include_top=False, input_shape=(width, height, channels))\n",
    "base_model.summary()"
   ]
  },
  {
   "cell_type": "code",
   "execution_count": 73,
   "metadata": {},
   "outputs": [
    {
     "name": "stdout",
     "output_type": "stream",
     "text": [
      "Model: \"sequential\"\n",
      "_________________________________________________________________\n",
      " Layer (type)                Output Shape              Param #   \n",
      "=================================================================\n",
      " vgg19 (Functional)          (None, 4, 4, 512)         20024384  \n",
      "                                                                 \n",
      " flatten (Flatten)           (None, 8192)              0         \n",
      "                                                                 \n",
      " dense (Dense)               (None, 1028)              8422404   \n",
      "                                                                 \n",
      " dense_1 (Dense)             (None, 1028)              1057812   \n",
      "                                                                 \n",
      " dense_2 (Dense)             (None, 3)                 3087      \n",
      "                                                                 \n",
      "=================================================================\n",
      "Total params: 29,507,687\n",
      "Trainable params: 29,507,687\n",
      "Non-trainable params: 0\n",
      "_________________________________________________________________\n"
     ]
    }
   ],
   "source": [
    "flatten_layer = layers.Flatten()\n",
    "dense1 = layers.Dense(1028, activation='relu')\n",
    "dense2 = layers.Dense(1028, activation='relu')\n",
    "prediction_layer = layers.Dense(3, activation='softmax')\n",
    "\n",
    "\n",
    "model = models.Sequential([\n",
    "    base_model,\n",
    "    flatten_layer,\n",
    "    dense1,\n",
    "    dense2,\n",
    "    prediction_layer\n",
    "])\n",
    "model.summary()"
   ]
  },
  {
   "cell_type": "code",
   "execution_count": 74,
   "metadata": {},
   "outputs": [],
   "source": [
    "\n",
    "#opt =tf.keras.optimizers.SGD(learning_rate=0.001, momentum=0.9)\n",
    "opt = tf.keras.optimizers.Adam(learning_rate=0.000002)\n",
    "\n",
    "model.compile(\n",
    "    optimizer=opt,\n",
    "    loss='categorical_crossentropy',\n",
    "    metrics=['accuracy'],\n",
    ")"
   ]
  },
  {
   "cell_type": "markdown",
   "metadata": {},
   "source": [
    "### FIT GENERATOR"
   ]
  },
  {
   "cell_type": "code",
   "execution_count": 75,
   "metadata": {},
   "outputs": [],
   "source": [
    "#busca os dados que estão listados em train_filenames\n",
    "import random\n",
    "def generate_data(train_filenames,train_labels, batch_size,width, height,channels):\n",
    "    dim = (width, height)\n",
    "    while True:\n",
    "        \n",
    "        mistura = list(zip(train_filenames, train_labels))\n",
    "        random.shuffle(mistura)\n",
    "        train_filenames, train_labels = zip(*mistura)\n",
    "        \n",
    "        for i in range(0,len(train_filenames),batch_size):\n",
    "            \n",
    "            if  i+batch_size > len(train_filenames):\n",
    "                bs = len(train_filenames)%batch_size\n",
    "            else:\n",
    "                bs = batch_size\n",
    "            \n",
    "            X_train = np.zeros((int(bs), width, height, channels))\n",
    "            aux =0\n",
    "\n",
    "            dim = (width, height)\n",
    "\n",
    "            for j in train_filenames[i:i+ bs]:\n",
    "                X_train[aux] =  np.asarray(cv2.resize(cv2.imread(j), dim, interpolation = cv2.INTER_AREA) )\n",
    "                aux = aux + 1\n",
    "                \n",
    "            #img = X_train.reshape(( X_train.shape[0],) +(width, height,channels)).astype('float32') / 255.\n",
    "            img = preprocess_input( X_train) \n",
    "            \n",
    "            yield (img, np.array(train_labels[i:i+ bs]))"
   ]
  },
  {
   "cell_type": "code",
   "execution_count": 76,
   "metadata": {},
   "outputs": [
    {
     "data": {
      "text/plain": [
       "(10458, 1308, 36)"
      ]
     },
     "execution_count": 76,
     "metadata": {},
     "output_type": "execute_result"
    }
   ],
   "source": [
    "#dobra para 48 pra vê se tanka\n",
    "\n",
    "batch_size=36\n",
    "\n",
    "validation_steps = int(len(x_val)/batch_size)+(0 if len(x_val)%batch_size==0 else 1)\n",
    "steps_per_epoch = int(len(x_train)/batch_size)+(0 if len(x_train)%batch_size==0 else 1)\n",
    "steps_per_epoch,validation_steps,batch_size"
   ]
  },
  {
   "cell_type": "code",
   "execution_count": 77,
   "metadata": {},
   "outputs": [
    {
     "name": "stdout",
     "output_type": "stream",
     "text": [
      "Epoch 1/500\n",
      "10458/10458 [==============================] - 11035s 1s/step - loss: 1.0801 - accuracy: 0.4004 - val_loss: 1.0704 - val_accuracy: 0.4188\n",
      "Epoch 2/500\n",
      "10458/10458 [==============================] - 8829s 844ms/step - loss: 1.0633 - accuracy: 0.4287 - val_loss: 1.0614 - val_accuracy: 0.4269\n",
      "Epoch 3/500\n",
      "10458/10458 [==============================] - 9253s 885ms/step - loss: 1.0553 - accuracy: 0.4392 - val_loss: 1.0572 - val_accuracy: 0.4383\n",
      "Epoch 4/500\n",
      "10458/10458 [==============================] - 8934s 854ms/step - loss: 1.0491 - accuracy: 0.4474 - val_loss: 1.0610 - val_accuracy: 0.4326\n"
     ]
    },
    {
     "data": {
      "text/plain": [
       "<keras.callbacks.History at 0x22d83368a00>"
      ]
     },
     "execution_count": 77,
     "metadata": {},
     "output_type": "execute_result"
    }
   ],
   "source": [
    "from tensorflow.keras.callbacks import EarlyStopping\n",
    "es = EarlyStopping(monitor='val_loss', patience=1,  restore_best_weights=True)\n",
    "epocas = 500\n",
    "\n",
    "model.fit( generate_data(x_train, y_train, batch_size,width, height,channels),\n",
    "          validation_steps=validation_steps,steps_per_epoch=steps_per_epoch,\n",
    "          callbacks=[es], batch_size=batch_size,  epochs=epocas,\n",
    "          validation_data=generate_data(x_val,y_val, batch_size,width, height,channels))"
   ]
  },
  {
   "cell_type": "markdown",
   "metadata": {},
   "source": [
    "### Resultados"
   ]
  },
  {
   "cell_type": "code",
   "execution_count": 78,
   "metadata": {},
   "outputs": [],
   "source": [
    "#melhor resultado treinamento com duas densa de 1028 com  mg = preprocess_input(X_train)  bs 24"
   ]
  },
  {
   "cell_type": "code",
   "execution_count": 79,
   "metadata": {},
   "outputs": [],
   "source": [
    "##generator para teste pra tankar com rede maior\n",
    "def generate_data_teste(train_filenames, batch_size,width, height,channels):\n",
    "    dim = (width, height)\n",
    "    while True:\n",
    "        \n",
    "        \n",
    "        for i in range(0,len(train_filenames),batch_size):\n",
    "            \n",
    "            if  i+batch_size > len(train_filenames):\n",
    "                bs = len(train_filenames)%batch_size\n",
    "            else:\n",
    "                bs = batch_size\n",
    "            \n",
    "            X_train = np.zeros((int(bs), width, height, channels))\n",
    "            aux =0\n",
    "\n",
    "            dim = (width, height)\n",
    "\n",
    "            for j in train_filenames[i:i+ bs]:\n",
    "                X_train[aux] =  np.asarray(cv2.resize(cv2.imread(j), dim, interpolation = cv2.INTER_AREA) )\n",
    "                aux = aux + 1\n",
    "                \n",
    "           # img = X_train.reshape(( X_train.shape[0],) +(width, height,channels)).astype('float32') / 255.\n",
    "            img = preprocess_input(X_train) \n",
    "            \n",
    "            yield (img)"
   ]
  },
  {
   "cell_type": "code",
   "execution_count": 80,
   "metadata": {},
   "outputs": [
    {
     "name": "stdout",
     "output_type": "stream",
     "text": [
      "0.4415945940202724\n",
      "              precision    recall  f1-score   support\n",
      "\n",
      "           0       0.48      0.41      0.44     15907\n",
      "           1       0.43      0.48      0.45     15605\n",
      "           2       0.43      0.44      0.43     15547\n",
      "\n",
      "    accuracy                           0.44     47059\n",
      "   macro avg       0.44      0.44      0.44     47059\n",
      "weighted avg       0.44      0.44      0.44     47059\n",
      "\n"
     ]
    }
   ],
   "source": [
    "y_pred = model.predict(generate_data_teste(x_test_filename,batch_size,width, height,channels),steps=validation_steps)\n",
    "\n",
    "y_pred = np.argmax(y_pred, axis=-1)\n",
    "test_labels_result= np.argmax(y_test, axis=-1)\n",
    "\n",
    "print(accuracy_score(test_labels_result, y_pred));\n",
    "print(classification_report(test_labels_result, y_pred));"
   ]
  },
  {
   "cell_type": "code",
   "execution_count": 81,
   "metadata": {},
   "outputs": [
    {
     "name": "stdout",
     "output_type": "stream",
     "text": [
      "Negativo - 0     Neutro - 1      Positivo - 2\n"
     ]
    },
    {
     "data": {
      "image/png": "[encoded data removed]",
      "text/plain": [
       "<Figure size 432x288 with 2 Axes>"
      ]
     },
     "metadata": {
      "needs_background": "light"
     },
     "output_type": "display_data"
    }
   ],
   "source": [
    "print(\"Negativo - 0     Neutro - 1      Positivo - 2\")\n",
    "sns.heatmap(confusion_matrix(test_labels_result, y_pred), annot=True, fmt=\"d\");"
   ]
  },
  {
   "cell_type": "code",
   "execution_count": 87,
   "metadata": {},
   "outputs": [
    {
     "name": "stdout",
     "output_type": "stream",
     "text": [
      "Acuracia de cada classe\n",
      "Negativo - 0     Neutro - 1      Positivo - 2\n"
     ]
    },
    {
     "data": {
      "text/plain": [
       "array([0.40755642, 0.4823454 , 0.43551811])"
      ]
     },
     "execution_count": 87,
     "metadata": {},
     "output_type": "execute_result"
    }
   ],
   "source": [
    "m = confusion_matrix(test_labels_result, y_pred)\n",
    "print(\"Acuracia de cada classe\")\n",
    "print(\"Negativo - 0     Neutro - 1      Positivo - 2\")\n",
    "m.diagonal()/m.sum(axis=1)"
   ]
  },
  {
   "cell_type": "code",
   "execution_count": null,
   "metadata": {},
   "outputs": [],
   "source": []
  }
 ],
 "metadata": {
  "kernelspec": {
   "display_name": "Python 3",
   "language": "python",
   "name": "python3"
  },
  "language_info": {
   "codemirror_mode": {
    "name": "ipython",
    "version": 3
   },
   "file_extension": ".py",
   "mimetype": "text/x-python",
   "name": "python",
   "nbconvert_exporter": "python",
   "pygments_lexer": "ipython3",
   "version": "3.8.12"
  }
 },
 "nbformat": 4,
 "nbformat_minor": 5
}
