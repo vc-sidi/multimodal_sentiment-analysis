{
 "cells": [
  {
   "cell_type": "markdown",
   "metadata": {},
   "source": [
    "## Classificação dos textos dos twitters usando Bi-LSTM com Keras"
   ]
  },
  {
   "cell_type": "code",
   "execution_count": 28,
   "metadata": {},
   "outputs": [],
   "source": [
    "#Import\n",
    "import tensorflow as tf\n",
    "from tensorflow import keras\n",
    "import pandas as pd\n",
    "import cv2\n",
    "import numpy as np\n",
    "from sklearn.model_selection import train_test_split\n",
    "import numpy as np\n",
    "from tensorflow.keras import layers\n",
    "import seaborn as sns\n",
    "from keras.preprocessing.text import Tokenizer\n",
    "from keras.utils.np_utils import to_categorical   \n",
    "from tensorflow.keras.optimizers import Adam\n",
    "from keras.callbacks import EarlyStopping\n",
    "from sklearn.metrics import classification_report\n",
    "from sklearn.metrics import f1_score, accuracy_score\n",
    "from sklearn.metrics import confusion_matrix\n"
   ]
  },
  {
   "cell_type": "code",
   "execution_count": 29,
   "metadata": {},
   "outputs": [
    {
     "name": "stdout",
     "output_type": "stream",
     "text": [
      "True\n",
      "[PhysicalDevice(name='/physical_device:GPU:0', device_type='GPU')]\n"
     ]
    }
   ],
   "source": [
    "print(tf.test.is_built_with_cuda())\n",
    "print(tf.config.list_physical_devices('GPU')) "
   ]
  },
  {
   "cell_type": "code",
   "execution_count": 30,
   "metadata": {},
   "outputs": [
    {
     "data": {
      "text/plain": [
       "'2.7.0'"
      ]
     },
     "execution_count": 30,
     "metadata": {},
     "output_type": "execute_result"
    }
   ],
   "source": [
    "tf.__version__"
   ]
  },
  {
   "cell_type": "code",
   "execution_count": 149,
   "metadata": {},
   "outputs": [
    {
     "data": {
      "text/html": [
       "<div>\n",
       "<style scoped>\n",
       "    .dataframe tbody tr th:only-of-type {\n",
       "        vertical-align: middle;\n",
       "    }\n",
       "\n",
       "    .dataframe tbody tr th {\n",
       "        vertical-align: top;\n",
       "    }\n",
       "\n",
       "    .dataframe thead th {\n",
       "        text-align: right;\n",
       "    }\n",
       "</style>\n",
       "<table border=\"1\" class=\"dataframe\">\n",
       "  <thead>\n",
       "    <tr style=\"text-align: right;\">\n",
       "      <th></th>\n",
       "      <th>Unnamed: 0</th>\n",
       "      <th>image_name</th>\n",
       "      <th>NEG</th>\n",
       "      <th>NEU</th>\n",
       "      <th>POS</th>\n",
       "      <th>text</th>\n",
       "      <th>sent_text</th>\n",
       "      <th>sent_image</th>\n",
       "      <th>image_path</th>\n",
       "      <th>image_height</th>\n",
       "      <th>image_width</th>\n",
       "    </tr>\n",
       "  </thead>\n",
       "  <tbody>\n",
       "    <tr>\n",
       "      <th>0</th>\n",
       "      <td>0</td>\n",
       "      <td>768097808037605376-1</td>\n",
       "      <td>0.919993</td>\n",
       "      <td>0.055681</td>\n",
       "      <td>0.024326</td>\n",
       "      <td>RT @hoseokahhh: \"who is this song forwhat do i...</td>\n",
       "      <td>NEG</td>\n",
       "      <td>0</td>\n",
       "      <td>data/76809/768097808037605376-1.jpg</td>\n",
       "      <td>449</td>\n",
       "      <td>449</td>\n",
       "    </tr>\n",
       "    <tr>\n",
       "      <th>1</th>\n",
       "      <td>1</td>\n",
       "      <td>768097833215938560-1</td>\n",
       "      <td>0.864726</td>\n",
       "      <td>0.058440</td>\n",
       "      <td>0.076834</td>\n",
       "      <td>RT @ARapperSaid_: “I ain’t come over here for ...</td>\n",
       "      <td>NEG</td>\n",
       "      <td>0</td>\n",
       "      <td>data/76809/768097833215938560-1.jpg</td>\n",
       "      <td>398</td>\n",
       "      <td>593</td>\n",
       "    </tr>\n",
       "    <tr>\n",
       "      <th>2</th>\n",
       "      <td>2</td>\n",
       "      <td>768097929659817984-1</td>\n",
       "      <td>0.907574</td>\n",
       "      <td>0.061396</td>\n",
       "      <td>0.031029</td>\n",
       "      <td>RT @blackedfriction: i hate telling people i l...</td>\n",
       "      <td>NEG</td>\n",
       "      <td>0</td>\n",
       "      <td>data/76809/768097929659817984-1.jpg</td>\n",
       "      <td>489</td>\n",
       "      <td>1132</td>\n",
       "    </tr>\n",
       "    <tr>\n",
       "      <th>3</th>\n",
       "      <td>3</td>\n",
       "      <td>768097929659817984-2</td>\n",
       "      <td>0.907574</td>\n",
       "      <td>0.061396</td>\n",
       "      <td>0.031029</td>\n",
       "      <td>RT @blackedfriction: i hate telling people i l...</td>\n",
       "      <td>NEG</td>\n",
       "      <td>0</td>\n",
       "      <td>data/76809/768097929659817984-2.jpg</td>\n",
       "      <td>983</td>\n",
       "      <td>1123</td>\n",
       "    </tr>\n",
       "    <tr>\n",
       "      <th>4</th>\n",
       "      <td>4</td>\n",
       "      <td>768097929659817984-3</td>\n",
       "      <td>0.907574</td>\n",
       "      <td>0.061396</td>\n",
       "      <td>0.031029</td>\n",
       "      <td>RT @blackedfriction: i hate telling people i l...</td>\n",
       "      <td>NEG</td>\n",
       "      <td>0</td>\n",
       "      <td>data/76809/768097929659817984-3.jpg</td>\n",
       "      <td>1326</td>\n",
       "      <td>1110</td>\n",
       "    </tr>\n",
       "    <tr>\n",
       "      <th>...</th>\n",
       "      <td>...</td>\n",
       "      <td>...</td>\n",
       "      <td>...</td>\n",
       "      <td>...</td>\n",
       "      <td>...</td>\n",
       "      <td>...</td>\n",
       "      <td>...</td>\n",
       "      <td>...</td>\n",
       "      <td>...</td>\n",
       "      <td>...</td>\n",
       "      <td>...</td>\n",
       "    </tr>\n",
       "    <tr>\n",
       "      <th>470581</th>\n",
       "      <td>470581</td>\n",
       "      <td>804618699315539969-1</td>\n",
       "      <td>0.453963</td>\n",
       "      <td>0.387611</td>\n",
       "      <td>0.158427</td>\n",
       "      <td>Chances not to loose&amp;gt;&amp;gt;&amp;gt;https://t.co/j...</td>\n",
       "      <td>NEG</td>\n",
       "      <td>0</td>\n",
       "      <td>data/80461/804618699315539969-1.jpg</td>\n",
       "      <td>183</td>\n",
       "      <td>275</td>\n",
       "    </tr>\n",
       "    <tr>\n",
       "      <th>470582</th>\n",
       "      <td>470582</td>\n",
       "      <td>804618854466981888-1</td>\n",
       "      <td>0.651498</td>\n",
       "      <td>0.208690</td>\n",
       "      <td>0.139812</td>\n",
       "      <td>Don't hear this much  RT @phillynewsnow: Lyft ...</td>\n",
       "      <td>NEG</td>\n",
       "      <td>0</td>\n",
       "      <td>data/80461/804618854466981888-1.jpg</td>\n",
       "      <td>675</td>\n",
       "      <td>1200</td>\n",
       "    </tr>\n",
       "    <tr>\n",
       "      <th>470583</th>\n",
       "      <td>470583</td>\n",
       "      <td>804619265546387457-1</td>\n",
       "      <td>0.473848</td>\n",
       "      <td>0.382078</td>\n",
       "      <td>0.144074</td>\n",
       "      <td>Security agencies threaten to assassinate me –...</td>\n",
       "      <td>NEG</td>\n",
       "      <td>0</td>\n",
       "      <td>data/80461/804619265546387457-1.jpg</td>\n",
       "      <td>682</td>\n",
       "      <td>1024</td>\n",
       "    </tr>\n",
       "    <tr>\n",
       "      <th>470584</th>\n",
       "      <td>470584</td>\n",
       "      <td>804619315861393408-1</td>\n",
       "      <td>0.402850</td>\n",
       "      <td>0.337901</td>\n",
       "      <td>0.259249</td>\n",
       "      <td>Kill my trusted old assistant? Why, no. I'm go...</td>\n",
       "      <td>NEG</td>\n",
       "      <td>0</td>\n",
       "      <td>data/80461/804619315861393408-1.jpg</td>\n",
       "      <td>458</td>\n",
       "      <td>626</td>\n",
       "    </tr>\n",
       "    <tr>\n",
       "      <th>470585</th>\n",
       "      <td>470585</td>\n",
       "      <td>804619403946000384-1</td>\n",
       "      <td>0.694700</td>\n",
       "      <td>0.182601</td>\n",
       "      <td>0.122700</td>\n",
       "      <td>It’s cold outside: Winter-Essentials. - https:...</td>\n",
       "      <td>NEG</td>\n",
       "      <td>0</td>\n",
       "      <td>data/80461/804619403946000384-1.jpg</td>\n",
       "      <td>825</td>\n",
       "      <td>607</td>\n",
       "    </tr>\n",
       "  </tbody>\n",
       "</table>\n",
       "<p>470586 rows × 11 columns</p>\n",
       "</div>"
      ],
      "text/plain": [
       "        Unnamed: 0            image_name       NEG       NEU       POS  \\\n",
       "0                0  768097808037605376-1  0.919993  0.055681  0.024326   \n",
       "1                1  768097833215938560-1  0.864726  0.058440  0.076834   \n",
       "2                2  768097929659817984-1  0.907574  0.061396  0.031029   \n",
       "3                3  768097929659817984-2  0.907574  0.061396  0.031029   \n",
       "4                4  768097929659817984-3  0.907574  0.061396  0.031029   \n",
       "...            ...                   ...       ...       ...       ...   \n",
       "470581      470581  804618699315539969-1  0.453963  0.387611  0.158427   \n",
       "470582      470582  804618854466981888-1  0.651498  0.208690  0.139812   \n",
       "470583      470583  804619265546387457-1  0.473848  0.382078  0.144074   \n",
       "470584      470584  804619315861393408-1  0.402850  0.337901  0.259249   \n",
       "470585      470585  804619403946000384-1  0.694700  0.182601  0.122700   \n",
       "\n",
       "                                                     text sent_text  \\\n",
       "0       RT @hoseokahhh: \"who is this song forwhat do i...       NEG   \n",
       "1       RT @ARapperSaid_: “I ain’t come over here for ...       NEG   \n",
       "2       RT @blackedfriction: i hate telling people i l...       NEG   \n",
       "3       RT @blackedfriction: i hate telling people i l...       NEG   \n",
       "4       RT @blackedfriction: i hate telling people i l...       NEG   \n",
       "...                                                   ...       ...   \n",
       "470581  Chances not to loose&gt;&gt;&gt;https://t.co/j...       NEG   \n",
       "470582  Don't hear this much  RT @phillynewsnow: Lyft ...       NEG   \n",
       "470583  Security agencies threaten to assassinate me –...       NEG   \n",
       "470584  Kill my trusted old assistant? Why, no. I'm go...       NEG   \n",
       "470585  It’s cold outside: Winter-Essentials. - https:...       NEG   \n",
       "\n",
       "        sent_image                           image_path  image_height  \\\n",
       "0                0  data/76809/768097808037605376-1.jpg           449   \n",
       "1                0  data/76809/768097833215938560-1.jpg           398   \n",
       "2                0  data/76809/768097929659817984-1.jpg           489   \n",
       "3                0  data/76809/768097929659817984-2.jpg           983   \n",
       "4                0  data/76809/768097929659817984-3.jpg          1326   \n",
       "...            ...                                  ...           ...   \n",
       "470581           0  data/80461/804618699315539969-1.jpg           183   \n",
       "470582           0  data/80461/804618854466981888-1.jpg           675   \n",
       "470583           0  data/80461/804619265546387457-1.jpg           682   \n",
       "470584           0  data/80461/804619315861393408-1.jpg           458   \n",
       "470585           0  data/80461/804619403946000384-1.jpg           825   \n",
       "\n",
       "        image_width  \n",
       "0               449  \n",
       "1               593  \n",
       "2              1132  \n",
       "3              1123  \n",
       "4              1110  \n",
       "...             ...  \n",
       "470581          275  \n",
       "470582         1200  \n",
       "470583         1024  \n",
       "470584          626  \n",
       "470585          607  \n",
       "\n",
       "[470586 rows x 11 columns]"
      ]
     },
     "execution_count": 149,
     "metadata": {},
     "output_type": "execute_result"
    }
   ],
   "source": [
    "#Loading dataset\n",
    "path = \"dataset_sidi_v1.2.csv\"\n",
    "path512 = \"dataset_sidi_512.csv\"\n",
    "\n",
    "df512 = pd.read_csv(path, sep='\\t')\n",
    "df512"
   ]
  },
  {
   "cell_type": "code",
   "execution_count": 150,
   "metadata": {},
   "outputs": [],
   "source": [
    "#tokenização\n",
    "t  = Tokenizer()\n",
    "\n",
    "filenames = df512['text'].tolist()\n",
    "t.fit_on_texts(filenames)\n",
    "\n",
    "\n",
    "labels = df512['sent_image'].tolist()\n",
    "\n",
    "#holdout 80/10/10\n",
    "#Separando treino e parte para validação e teste\n",
    "x_train, x_split_two, y_train, y_split_two = train_test_split( t.texts_to_sequences(filenames),labels, train_size=0.8,random_state=42)\n",
    "#Separando teste e validação\n",
    "x_val, x_test, y_val, y_test = train_test_split(x_split_two,y_split_two, train_size=0.5,random_state=42)"
   ]
  },
  {
   "cell_type": "code",
   "execution_count": 151,
   "metadata": {},
   "outputs": [],
   "source": [
    "#Mudando o formato para suporta o softmax na rede\n",
    "#saindo do formato [2] para [0,0,1]\n",
    "y_train = to_categorical(y_train, num_classes=3)\n",
    "y_test = to_categorical(y_test, num_classes=3)\n",
    "y_val = to_categorical(y_val, num_classes=3)"
   ]
  },
  {
   "cell_type": "code",
   "execution_count": 152,
   "metadata": {},
   "outputs": [],
   "source": [
    "maxlen = 100\n",
    "x_train = keras.preprocessing.sequence.pad_sequences(x_train, maxlen=maxlen)\n",
    "x_val = keras.preprocessing.sequence.pad_sequences(x_val, maxlen=maxlen)\n",
    "x_test = keras.preprocessing.sequence.pad_sequences(x_test, maxlen=maxlen)"
   ]
  },
  {
   "cell_type": "code",
   "execution_count": 158,
   "metadata": {},
   "outputs": [
    {
     "data": {
      "text/plain": [
       "100"
      ]
     },
     "execution_count": 158,
     "metadata": {},
     "output_type": "execute_result"
    }
   ],
   "source": [
    "#Para limpar memória\n",
    "tf.keras.backend.clear_session()\n",
    "import gc\n",
    "gc.collect()"
   ]
  },
  {
   "cell_type": "code",
   "execution_count": 159,
   "metadata": {},
   "outputs": [
    {
     "name": "stdout",
     "output_type": "stream",
     "text": [
      "Model: \"model\"\n",
      "_________________________________________________________________\n",
      " Layer (type)                Output Shape              Param #   \n",
      "=================================================================\n",
      " input_1 (InputLayer)        [(None, None)]            0         \n",
      "                                                                 \n",
      " embedding (Embedding)       (None, None, 512)         5120000   \n",
      "                                                                 \n",
      " bidirectional (Bidirectiona  (None, None, 256)        656384    \n",
      " l)                                                              \n",
      "                                                                 \n",
      " bidirectional_1 (Bidirectio  (None, 256)              394240    \n",
      " nal)                                                            \n",
      "                                                                 \n",
      " dense (Dense)               (None, 3)                 771       \n",
      "                                                                 \n",
      "=================================================================\n",
      "Total params: 6,171,395\n",
      "Trainable params: 6,171,395\n",
      "Non-trainable params: 0\n",
      "_________________________________________________________________\n"
     ]
    }
   ],
   "source": [
    "#Arquitetura base da página https://keras.io/examples/nlp/bidirectional_lstm_imdb/\n",
    "#Modificação feita na saida (3) e na acitivação da saida (solftmax)\n",
    "\n",
    "\n",
    "max_features = 10000\n",
    "\n",
    "inputs = keras.Input(shape=(None,), dtype=\"int32\")\n",
    "x = layers.Embedding(max_features, 512)(inputs)\n",
    "\n",
    "x = layers.Bidirectional(layers.LSTM(128, return_sequences=True))(x)\n",
    "x = layers.Bidirectional(layers.LSTM(128))(x)\n",
    "\n",
    "outputs = layers.Dense(3, activation=\"softmax\")(x)\n",
    "model = keras.Model(inputs, outputs)\n",
    "model.summary()"
   ]
  },
  {
   "cell_type": "code",
   "execution_count": 160,
   "metadata": {},
   "outputs": [
    {
     "name": "stdout",
     "output_type": "stream",
     "text": [
      "Epoch 1/500\n",
      "1255/1255 [==============================] - 86s 66ms/step - loss: 0.2135 - accuracy: 0.9216 - val_loss: 0.1526 - val_accuracy: 0.9483\n",
      "Epoch 2/500\n",
      "1255/1255 [==============================] - 82s 66ms/step - loss: 0.1285 - accuracy: 0.9563 - val_loss: 0.1358 - val_accuracy: 0.9538\n",
      "Epoch 3/500\n",
      "1255/1255 [==============================] - 83s 66ms/step - loss: 0.1093 - accuracy: 0.9623 - val_loss: 0.1353 - val_accuracy: 0.9542\n",
      "Epoch 4/500\n",
      "1255/1255 [==============================] - 84s 67ms/step - loss: 0.0934 - accuracy: 0.9680 - val_loss: 0.1377 - val_accuracy: 0.9544\n"
     ]
    },
    {
     "data": {
      "text/plain": [
       "<keras.callbacks.History at 0x23680f2fa90>"
      ]
     },
     "execution_count": 160,
     "metadata": {},
     "output_type": "execute_result"
    }
   ],
   "source": [
    "#Compilando com lr de 0.001\n",
    "model.compile(Adam(learning_rate=0.0005), \"categorical_crossentropy\", metrics=[\"accuracy\"])\n",
    "\n",
    "#fazneodo early top quando o loss da validação aumentar\n",
    "es = EarlyStopping(monitor='val_loss', patience=1,  restore_best_weights=True)\n",
    "\n",
    "#treinando\n",
    "model.fit(x_train, y_train, batch_size=300, epochs=500, validation_data=(x_val, y_val),callbacks=[es])"
   ]
  },
  {
   "cell_type": "markdown",
   "metadata": {},
   "source": [
    "### Resultados"
   ]
  },
  {
   "cell_type": "code",
   "execution_count": 161,
   "metadata": {},
   "outputs": [
    {
     "name": "stdout",
     "output_type": "stream",
     "text": [
      "0.9526551775430843\n",
      "              precision    recall  f1-score   support\n",
      "\n",
      "           0       0.95      0.95      0.95     15727\n",
      "           1       0.95      0.96      0.95     15542\n",
      "           2       0.97      0.95      0.96     15790\n",
      "\n",
      "   micro avg       0.96      0.95      0.96     47059\n",
      "   macro avg       0.96      0.95      0.96     47059\n",
      "weighted avg       0.96      0.95      0.96     47059\n",
      " samples avg       0.95      0.95      0.95     47059\n",
      "\n"
     ]
    },
    {
     "name": "stderr",
     "output_type": "stream",
     "text": [
      "C:\\Users\\bhla\\anaconda3\\envs\\DP\\lib\\site-packages\\sklearn\\metrics\\_classification.py:1221: UndefinedMetricWarning: Precision and F-score are ill-defined and being set to 0.0 in samples with no predicted labels. Use `zero_division` parameter to control this behavior.\n",
      "  _warn_prf(average, modifier, msg_start, len(result))\n"
     ]
    }
   ],
   "source": [
    "\n",
    "y_pred = model.predict(x_test)\n",
    "y_pred =(y_pred>0.5)\n",
    "#list(y_pred)\n",
    "print(accuracy_score(y_test, y_pred))\n",
    "print(classification_report(y_test, y_pred));\n"
   ]
  },
  {
   "cell_type": "code",
   "execution_count": 162,
   "metadata": {},
   "outputs": [
    {
     "name": "stdout",
     "output_type": "stream",
     "text": [
      "Negativo - 0     Neutro - 1      Positivo - 2\n"
     ]
    },
    {
     "data": {
      "image/png": "[encoded data removed]",
      "text/plain": [
       "<Figure size 432x288 with 2 Axes>"
      ]
     },
     "metadata": {
      "needs_background": "light"
     },
     "output_type": "display_data"
    }
   ],
   "source": [
    "print(\"Negativo - 0     Neutro - 1      Positivo - 2\")\n",
    "sns.heatmap(confusion_matrix(np.argmax(y_test, axis=-1),np.argmax(y_pred, axis=-1)), annot=True, fmt=\"d\");"
   ]
  },
  {
   "cell_type": "code",
   "execution_count": 163,
   "metadata": {},
   "outputs": [
    {
     "name": "stdout",
     "output_type": "stream",
     "text": [
      "Negativo     Neutro     Positivo\n",
      "[0.95847905 0.95920731 0.94591514]\n"
     ]
    }
   ],
   "source": [
    "matrix = confusion_matrix(np.argmax(y_test, axis=-1),np.argmax(y_pred, axis=-1))\n",
    "print(\"Negativo     Neutro     Positivo\")\n",
    "print(matrix.diagonal()/matrix.sum(axis=1))"
   ]
  },
  {
   "cell_type": "code",
   "execution_count": null,
   "metadata": {},
   "outputs": [],
   "source": []
  },
  {
   "cell_type": "code",
   "execution_count": null,
   "metadata": {},
   "outputs": [],
   "source": []
  }
 ],
 "metadata": {
  "kernelspec": {
   "display_name": "Python 3",
   "language": "python",
   "name": "python3"
  },
  "language_info": {
   "codemirror_mode": {
    "name": "ipython",
    "version": 3
   },
   "file_extension": ".py",
   "mimetype": "text/x-python",
   "name": "python",
   "nbconvert_exporter": "python",
   "pygments_lexer": "ipython3",
   "version": "3.8.12"
  }
 },
 "nbformat": 4,
 "nbformat_minor": 4
}
