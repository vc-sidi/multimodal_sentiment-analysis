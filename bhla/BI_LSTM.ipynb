{
 "cells": [
  {
   "cell_type": "markdown",
   "metadata": {},
   "source": [
    "## Classificação dos textos dos twitters usando Bi-LSTM com Keras"
   ]
  },
  {
   "cell_type": "code",
   "execution_count": 231,
   "metadata": {},
   "outputs": [],
   "source": [
    "#Import\n",
    "import tensorflow as tf\n",
    "from tensorflow import keras\n",
    "import pandas as pd\n",
    "import cv2\n",
    "import numpy as np\n",
    "from sklearn.model_selection import train_test_split\n",
    "import numpy as np\n",
    "from tensorflow.keras import layers\n",
    "import seaborn as sns\n",
    "from keras.preprocessing.text import Tokenizer\n",
    "from keras.utils.np_utils import to_categorical   \n",
    "from tensorflow.keras.optimizers import Adam\n",
    "from keras.callbacks import EarlyStopping\n",
    "from sklearn.metrics import classification_report\n",
    "from sklearn.metrics import f1_score, accuracy_score\n",
    "from sklearn.metrics import confusion_matrix\n"
   ]
  },
  {
   "cell_type": "code",
   "execution_count": 232,
   "metadata": {},
   "outputs": [
    {
     "name": "stdout",
     "output_type": "stream",
     "text": [
      "True\n",
      "[PhysicalDevice(name='/physical_device:GPU:0', device_type='GPU')]\n"
     ]
    }
   ],
   "source": [
    "print(tf.test.is_built_with_cuda())\n",
    "print(tf.config.list_physical_devices('GPU')) "
   ]
  },
  {
   "cell_type": "code",
   "execution_count": 233,
   "metadata": {},
   "outputs": [
    {
     "data": {
      "text/plain": [
       "'2.7.0'"
      ]
     },
     "execution_count": 233,
     "metadata": {},
     "output_type": "execute_result"
    }
   ],
   "source": [
    "tf.__version__"
   ]
  },
  {
   "cell_type": "code",
   "execution_count": 234,
   "metadata": {},
   "outputs": [
    {
     "data": {
      "text/html": [
       "<div>\n",
       "<style scoped>\n",
       "    .dataframe tbody tr th:only-of-type {\n",
       "        vertical-align: middle;\n",
       "    }\n",
       "\n",
       "    .dataframe tbody tr th {\n",
       "        vertical-align: top;\n",
       "    }\n",
       "\n",
       "    .dataframe thead th {\n",
       "        text-align: right;\n",
       "    }\n",
       "</style>\n",
       "<table border=\"1\" class=\"dataframe\">\n",
       "  <thead>\n",
       "    <tr style=\"text-align: right;\">\n",
       "      <th></th>\n",
       "      <th>Unnamed: 0</th>\n",
       "      <th>Unnamed: 0.1</th>\n",
       "      <th>image_name</th>\n",
       "      <th>NEG</th>\n",
       "      <th>NEU</th>\n",
       "      <th>POS</th>\n",
       "      <th>text</th>\n",
       "      <th>sent_text</th>\n",
       "      <th>sent_image</th>\n",
       "      <th>image_path</th>\n",
       "      <th>image_height</th>\n",
       "      <th>image_width</th>\n",
       "    </tr>\n",
       "  </thead>\n",
       "  <tbody>\n",
       "    <tr>\n",
       "      <th>0</th>\n",
       "      <td>382583</td>\n",
       "      <td>382583</td>\n",
       "      <td>798338609870872577-2</td>\n",
       "      <td>0.774375</td>\n",
       "      <td>0.174701</td>\n",
       "      <td>0.050924</td>\n",
       "      <td>what does it look like i do for a living? (cra...</td>\n",
       "      <td>NEG</td>\n",
       "      <td>0</td>\n",
       "      <td>data/79833/798338609870872577-2.jpg</td>\n",
       "      <td>1280</td>\n",
       "      <td>722</td>\n",
       "    </tr>\n",
       "    <tr>\n",
       "      <th>1</th>\n",
       "      <td>443004</td>\n",
       "      <td>443004</td>\n",
       "      <td>802556641057054721-1</td>\n",
       "      <td>0.540009</td>\n",
       "      <td>0.304103</td>\n",
       "      <td>0.155888</td>\n",
       "      <td>No cheat just skill. #ClikerHeroes https://t.c...</td>\n",
       "      <td>NEG</td>\n",
       "      <td>0</td>\n",
       "      <td>data/80255/802556641057054721-1.jpg</td>\n",
       "      <td>707</td>\n",
       "      <td>1366</td>\n",
       "    </tr>\n",
       "    <tr>\n",
       "      <th>2</th>\n",
       "      <td>348885</td>\n",
       "      <td>348885</td>\n",
       "      <td>796032212407721984-1</td>\n",
       "      <td>0.513661</td>\n",
       "      <td>0.322456</td>\n",
       "      <td>0.163883</td>\n",
       "      <td>@KEILOin_DaTrunk I deleted https://t.co/qIhBkn...</td>\n",
       "      <td>NEG</td>\n",
       "      <td>0</td>\n",
       "      <td>data/79603/796032212407721984-1.jpg</td>\n",
       "      <td>1334</td>\n",
       "      <td>750</td>\n",
       "    </tr>\n",
       "    <tr>\n",
       "      <th>3</th>\n",
       "      <td>377487</td>\n",
       "      <td>377487</td>\n",
       "      <td>798011160532381696-1</td>\n",
       "      <td>0.712648</td>\n",
       "      <td>0.254173</td>\n",
       "      <td>0.033180</td>\n",
       "      <td>\"RT NYTFashion: How Nasty Gal went from an eBa...</td>\n",
       "      <td>NEG</td>\n",
       "      <td>0</td>\n",
       "      <td>data/79801/798011160532381696-1.jpg</td>\n",
       "      <td>561</td>\n",
       "      <td>1000</td>\n",
       "    </tr>\n",
       "    <tr>\n",
       "      <th>4</th>\n",
       "      <td>423703</td>\n",
       "      <td>423703</td>\n",
       "      <td>801181521679790080-1</td>\n",
       "      <td>0.713677</td>\n",
       "      <td>0.186854</td>\n",
       "      <td>0.099468</td>\n",
       "      <td>I hate this nigga lmaooo https://t.co/gPcyJfJESN</td>\n",
       "      <td>NEG</td>\n",
       "      <td>0</td>\n",
       "      <td>data/80118/801181521679790080-1.jpg</td>\n",
       "      <td>1334</td>\n",
       "      <td>750</td>\n",
       "    </tr>\n",
       "    <tr>\n",
       "      <th>...</th>\n",
       "      <td>...</td>\n",
       "      <td>...</td>\n",
       "      <td>...</td>\n",
       "      <td>...</td>\n",
       "      <td>...</td>\n",
       "      <td>...</td>\n",
       "      <td>...</td>\n",
       "      <td>...</td>\n",
       "      <td>...</td>\n",
       "      <td>...</td>\n",
       "      <td>...</td>\n",
       "      <td>...</td>\n",
       "    </tr>\n",
       "    <tr>\n",
       "      <th>11995</th>\n",
       "      <td>108284</td>\n",
       "      <td>108284</td>\n",
       "      <td>769551952275509248-1</td>\n",
       "      <td>0.010517</td>\n",
       "      <td>0.886504</td>\n",
       "      <td>0.102978</td>\n",
       "      <td>RT @Alwas97: find someone who loves you like b...</td>\n",
       "      <td>NEU</td>\n",
       "      <td>1</td>\n",
       "      <td>data/76955/769551952275509248-1.jpg</td>\n",
       "      <td>1218</td>\n",
       "      <td>1078</td>\n",
       "    </tr>\n",
       "    <tr>\n",
       "      <th>11996</th>\n",
       "      <td>93186</td>\n",
       "      <td>93186</td>\n",
       "      <td>769486781158858753-1</td>\n",
       "      <td>0.065240</td>\n",
       "      <td>0.897818</td>\n",
       "      <td>0.036942</td>\n",
       "      <td>RT @MelbWritersFest: Helen Garner talking to @...</td>\n",
       "      <td>NEU</td>\n",
       "      <td>1</td>\n",
       "      <td>data/76948/769486781158858753-1.jpg</td>\n",
       "      <td>1491</td>\n",
       "      <td>2048</td>\n",
       "    </tr>\n",
       "    <tr>\n",
       "      <th>11997</th>\n",
       "      <td>298145</td>\n",
       "      <td>298145</td>\n",
       "      <td>783915769943973890-1</td>\n",
       "      <td>0.011468</td>\n",
       "      <td>0.925276</td>\n",
       "      <td>0.063257</td>\n",
       "      <td>Watch lesbian movie: https://t.co/jzJrDcnAwaSh...</td>\n",
       "      <td>NEU</td>\n",
       "      <td>1</td>\n",
       "      <td>data/78391/783915769943973890-1.jpg</td>\n",
       "      <td>1024</td>\n",
       "      <td>683</td>\n",
       "    </tr>\n",
       "    <tr>\n",
       "      <th>11998</th>\n",
       "      <td>260672</td>\n",
       "      <td>260672</td>\n",
       "      <td>783138720610476033-1</td>\n",
       "      <td>0.003072</td>\n",
       "      <td>0.957911</td>\n",
       "      <td>0.039016</td>\n",
       "      <td>Click here to watch the movie:  https://t.co/A...</td>\n",
       "      <td>NEU</td>\n",
       "      <td>1</td>\n",
       "      <td>data/78313/783138720610476033-1.jpg</td>\n",
       "      <td>1024</td>\n",
       "      <td>682</td>\n",
       "    </tr>\n",
       "    <tr>\n",
       "      <th>11999</th>\n",
       "      <td>315469</td>\n",
       "      <td>315469</td>\n",
       "      <td>784250546710380544-1</td>\n",
       "      <td>0.013852</td>\n",
       "      <td>0.882548</td>\n",
       "      <td>0.103600</td>\n",
       "      <td>Did you notice defn has a brand new logo desig...</td>\n",
       "      <td>NEU</td>\n",
       "      <td>1</td>\n",
       "      <td>data/78425/784250546710380544-1.jpg</td>\n",
       "      <td>1106</td>\n",
       "      <td>2048</td>\n",
       "    </tr>\n",
       "  </tbody>\n",
       "</table>\n",
       "<p>12000 rows × 12 columns</p>\n",
       "</div>"
      ],
      "text/plain": [
       "       Unnamed: 0  Unnamed: 0.1            image_name       NEG       NEU  \\\n",
       "0          382583        382583  798338609870872577-2  0.774375  0.174701   \n",
       "1          443004        443004  802556641057054721-1  0.540009  0.304103   \n",
       "2          348885        348885  796032212407721984-1  0.513661  0.322456   \n",
       "3          377487        377487  798011160532381696-1  0.712648  0.254173   \n",
       "4          423703        423703  801181521679790080-1  0.713677  0.186854   \n",
       "...           ...           ...                   ...       ...       ...   \n",
       "11995      108284        108284  769551952275509248-1  0.010517  0.886504   \n",
       "11996       93186         93186  769486781158858753-1  0.065240  0.897818   \n",
       "11997      298145        298145  783915769943973890-1  0.011468  0.925276   \n",
       "11998      260672        260672  783138720610476033-1  0.003072  0.957911   \n",
       "11999      315469        315469  784250546710380544-1  0.013852  0.882548   \n",
       "\n",
       "            POS                                               text sent_text  \\\n",
       "0      0.050924  what does it look like i do for a living? (cra...       NEG   \n",
       "1      0.155888  No cheat just skill. #ClikerHeroes https://t.c...       NEG   \n",
       "2      0.163883  @KEILOin_DaTrunk I deleted https://t.co/qIhBkn...       NEG   \n",
       "3      0.033180  \"RT NYTFashion: How Nasty Gal went from an eBa...       NEG   \n",
       "4      0.099468   I hate this nigga lmaooo https://t.co/gPcyJfJESN       NEG   \n",
       "...         ...                                                ...       ...   \n",
       "11995  0.102978  RT @Alwas97: find someone who loves you like b...       NEU   \n",
       "11996  0.036942  RT @MelbWritersFest: Helen Garner talking to @...       NEU   \n",
       "11997  0.063257  Watch lesbian movie: https://t.co/jzJrDcnAwaSh...       NEU   \n",
       "11998  0.039016  Click here to watch the movie:  https://t.co/A...       NEU   \n",
       "11999  0.103600  Did you notice defn has a brand new logo desig...       NEU   \n",
       "\n",
       "       sent_image                           image_path  image_height  \\\n",
       "0               0  data/79833/798338609870872577-2.jpg          1280   \n",
       "1               0  data/80255/802556641057054721-1.jpg           707   \n",
       "2               0  data/79603/796032212407721984-1.jpg          1334   \n",
       "3               0  data/79801/798011160532381696-1.jpg           561   \n",
       "4               0  data/80118/801181521679790080-1.jpg          1334   \n",
       "...           ...                                  ...           ...   \n",
       "11995           1  data/76955/769551952275509248-1.jpg          1218   \n",
       "11996           1  data/76948/769486781158858753-1.jpg          1491   \n",
       "11997           1  data/78391/783915769943973890-1.jpg          1024   \n",
       "11998           1  data/78313/783138720610476033-1.jpg          1024   \n",
       "11999           1  data/78425/784250546710380544-1.jpg          1106   \n",
       "\n",
       "       image_width  \n",
       "0              722  \n",
       "1             1366  \n",
       "2              750  \n",
       "3             1000  \n",
       "4              750  \n",
       "...            ...  \n",
       "11995         1078  \n",
       "11996         2048  \n",
       "11997          683  \n",
       "11998          682  \n",
       "11999         2048  \n",
       "\n",
       "[12000 rows x 12 columns]"
      ]
     },
     "execution_count": 234,
     "metadata": {},
     "output_type": "execute_result"
    }
   ],
   "source": [
    "#Loading dataset\n",
    "path = \"dataset_sidi_512.csv\"\n",
    "df512 = pd.read_csv(path, sep='\\t')\n",
    "df512"
   ]
  },
  {
   "cell_type": "code",
   "execution_count": 235,
   "metadata": {},
   "outputs": [],
   "source": [
    "#tokenização\n",
    "t  = Tokenizer()\n",
    "\n",
    "filenames = df512['text'].tolist()\n",
    "t.fit_on_texts(filenames)\n",
    "\n",
    "\n",
    "labels = df512['sent_image'].tolist()\n",
    "\n",
    "#holdout 80/10/10\n",
    "#Separando treino e parte para validação e teste\n",
    "x_train, x_split_two, y_train, y_split_two = train_test_split( t.texts_to_sequences(filenames),labels, train_size=0.8,random_state=42)\n",
    "#Separando teste e validação\n",
    "x_val, x_test, y_val, y_test = train_test_split(x_split_two,y_split_two, train_size=0.5,random_state=42)"
   ]
  },
  {
   "cell_type": "code",
   "execution_count": 236,
   "metadata": {},
   "outputs": [],
   "source": [
    "#Mudando o formato para suporta o softmax na rede\n",
    "#saindo do formato [2] para [0,0,1]\n",
    "y_train = to_categorical(y_train, num_classes=3)\n",
    "y_test = to_categorical(y_test, num_classes=3)\n",
    "y_val = to_categorical(y_val, num_classes=3)"
   ]
  },
  {
   "cell_type": "code",
   "execution_count": 237,
   "metadata": {},
   "outputs": [],
   "source": [
    "x_train = keras.preprocessing.sequence.pad_sequences(x_train, maxlen=maxlen)\n",
    "x_val = keras.preprocessing.sequence.pad_sequences(x_val, maxlen=maxlen)\n",
    "x_test = keras.preprocessing.sequence.pad_sequences(x_test, maxlen=maxlen)"
   ]
  },
  {
   "cell_type": "code",
   "execution_count": 238,
   "metadata": {},
   "outputs": [
    {
     "data": {
      "text/plain": [
       "21930"
      ]
     },
     "execution_count": 238,
     "metadata": {},
     "output_type": "execute_result"
    }
   ],
   "source": [
    "#Para limpar memória\n",
    "tf.keras.backend.clear_session()\n",
    "import gc\n",
    "gc.collect()"
   ]
  },
  {
   "cell_type": "code",
   "execution_count": 239,
   "metadata": {},
   "outputs": [
    {
     "name": "stdout",
     "output_type": "stream",
     "text": [
      "Model: \"model\"\n",
      "_________________________________________________________________\n",
      " Layer (type)                Output Shape              Param #   \n",
      "=================================================================\n",
      " input_1 (InputLayer)        [(None, None)]            0         \n",
      "                                                                 \n",
      " embedding (Embedding)       (None, None, 128)         2560000   \n",
      "                                                                 \n",
      " bidirectional (Bidirectiona  (None, None, 128)        98816     \n",
      " l)                                                              \n",
      "                                                                 \n",
      " bidirectional_1 (Bidirectio  (None, 128)              98816     \n",
      " nal)                                                            \n",
      "                                                                 \n",
      " dense (Dense)               (None, 3)                 387       \n",
      "                                                                 \n",
      "=================================================================\n",
      "Total params: 2,758,019\n",
      "Trainable params: 2,758,019\n",
      "Non-trainable params: 0\n",
      "_________________________________________________________________\n"
     ]
    }
   ],
   "source": [
    "#Arquitetura base da página https://keras.io/examples/nlp/bidirectional_lstm_imdb/\n",
    "#Modificação feita na saida (3) e na acitivação da saida (solftmax)\n",
    "\n",
    "# Input for variable-length sequences of integers\n",
    "inputs = keras.Input(shape=(None,), dtype=\"int32\")\n",
    "# Embed each integer in a 128-dimensional vector\n",
    "x = layers.Embedding(max_features, 128)(inputs)\n",
    "# Add 2 bidirectional LSTMs\n",
    "x = layers.Bidirectional(layers.LSTM(64, return_sequences=True))(x)\n",
    "x = layers.Bidirectional(layers.LSTM(64))(x)\n",
    "# Add a classifier\n",
    "outputs = layers.Dense(3, activation=\"softmax\")(x)\n",
    "model = keras.Model(inputs, outputs)\n",
    "model.summary()"
   ]
  },
  {
   "cell_type": "code",
   "execution_count": 240,
   "metadata": {},
   "outputs": [
    {
     "name": "stdout",
     "output_type": "stream",
     "text": [
      "Epoch 1/20\n",
      "32/32 [==============================] - 7s 114ms/step - loss: 1.0191 - accuracy: 0.4837 - val_loss: 0.8722 - val_accuracy: 0.6375\n",
      "Epoch 2/20\n",
      "32/32 [==============================] - 3s 84ms/step - loss: 0.5160 - accuracy: 0.8085 - val_loss: 0.4732 - val_accuracy: 0.8283\n",
      "Epoch 3/20\n",
      "32/32 [==============================] - 3s 84ms/step - loss: 0.1399 - accuracy: 0.9598 - val_loss: 0.4997 - val_accuracy: 0.8375\n",
      "Epoch 00003: early stopping\n"
     ]
    },
    {
     "data": {
      "text/plain": [
       "<keras.callbacks.History at 0x124f5b93130>"
      ]
     },
     "execution_count": 240,
     "metadata": {},
     "output_type": "execute_result"
    }
   ],
   "source": [
    "#Compilando com lr de 0.001\n",
    "model.compile(Adam(learning_rate=0.001), \"categorical_crossentropy\", metrics=[\"accuracy\"])\n",
    "\n",
    "#fazneodo early top quando o loss da validação aumentar\n",
    "es = EarlyStopping(monitor='val_loss', mode='min', verbose=1, patience=1)\n",
    "\n",
    "#treinando\n",
    "model.fit(x_train, y_train, batch_size=300, epochs=20, validation_data=(x_val, y_val),callbacks=[es])"
   ]
  },
  {
   "cell_type": "markdown",
   "metadata": {},
   "source": [
    "### Resultados"
   ]
  },
  {
   "cell_type": "code",
   "execution_count": 241,
   "metadata": {},
   "outputs": [
    {
     "name": "stdout",
     "output_type": "stream",
     "text": [
      "0.8291666666666667\n",
      "              precision    recall  f1-score   support\n",
      "\n",
      "           0       0.92      0.78      0.84       420\n",
      "           1       0.82      0.80      0.81       374\n",
      "           2       0.81      0.91      0.86       406\n",
      "\n",
      "   micro avg       0.85      0.83      0.84      1200\n",
      "   macro avg       0.85      0.83      0.84      1200\n",
      "weighted avg       0.85      0.83      0.84      1200\n",
      " samples avg       0.83      0.83      0.83      1200\n",
      "\n"
     ]
    },
    {
     "name": "stderr",
     "output_type": "stream",
     "text": [
      "C:\\Users\\bhla\\anaconda3\\envs\\DP\\lib\\site-packages\\sklearn\\metrics\\_classification.py:1221: UndefinedMetricWarning: Precision and F-score are ill-defined and being set to 0.0 in samples with no predicted labels. Use `zero_division` parameter to control this behavior.\n",
      "  _warn_prf(average, modifier, msg_start, len(result))\n"
     ]
    }
   ],
   "source": [
    "\n",
    "y_pred = model.predict(x_test)\n",
    "y_pred =(y_pred>0.5)\n",
    "#list(y_pred)\n",
    "print(accuracy_score(y_test, y_pred))\n",
    "print(classification_report(y_test, y_pred));\n"
   ]
  },
  {
   "cell_type": "code",
   "execution_count": 242,
   "metadata": {},
   "outputs": [
    {
     "name": "stdout",
     "output_type": "stream",
     "text": [
      "Negativo - 0     Neutro - 1      Positivo - 2\n"
     ]
    },
    {
     "data": {
      "image/png": "[encoded data removed]",
      "text/plain": [
       "<Figure size 432x288 with 2 Axes>"
      ]
     },
     "metadata": {
      "needs_background": "light"
     },
     "output_type": "display_data"
    }
   ],
   "source": [
    "print(\"Negativo - 0     Neutro - 1      Positivo - 2\")\n",
    "sns.heatmap(confusion_matrix(np.argmax(y_test, axis=-1),np.argmax(y_pred, axis=-1)), annot=True, fmt=\"d\");"
   ]
  },
  {
   "cell_type": "code",
   "execution_count": 243,
   "metadata": {},
   "outputs": [
    {
     "name": "stdout",
     "output_type": "stream",
     "text": [
      "Negativo     Neutro     Positivo\n",
      "[0.81666667 0.79679144 0.91133005]\n"
     ]
    }
   ],
   "source": [
    "matrix = confusion_matrix(np.argmax(y_test, axis=-1),np.argmax(y_pred, axis=-1))\n",
    "print(\"Negativo     Neutro     Positivo\")\n",
    "print(matrix.diagonal()/matrix.sum(axis=1))"
   ]
  },
  {
   "cell_type": "code",
   "execution_count": null,
   "metadata": {},
   "outputs": [],
   "source": []
  }
 ],
 "metadata": {
  "kernelspec": {
   "display_name": "Python 3",
   "language": "python",
   "name": "python3"
  },
  "language_info": {
   "codemirror_mode": {
    "name": "ipython",
    "version": 3
   },
   "file_extension": ".py",
   "mimetype": "text/x-python",
   "name": "python",
   "nbconvert_exporter": "python",
   "pygments_lexer": "ipython3",
   "version": "3.8.12"
  }
 },
 "nbformat": 4,
 "nbformat_minor": 4
}
