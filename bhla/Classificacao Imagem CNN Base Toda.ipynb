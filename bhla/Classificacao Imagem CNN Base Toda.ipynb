{
 "cells": [
  {
   "cell_type": "code",
   "execution_count": 74,
   "metadata": {},
   "outputs": [],
   "source": [
    "import tensorflow as tf\n",
    "from tensorflow import keras\n",
    "import pandas as pd\n",
    "import cv2\n",
    "\n",
    "from tensorflow.keras.layers import Input, Conv2D \n",
    "from tensorflow.keras.layers import MaxPool2D, Flatten, Dense \n",
    "from tensorflow.keras import Model\n",
    "import numpy as np\n",
    "from sklearn.model_selection import train_test_split\n",
    "\n",
    "from tensorflow.keras.applications.vgg16 import VGG16\n",
    "from tensorflow.keras.applications.vgg16 import preprocess_input\n",
    "from tensorflow.keras import layers, models\n",
    "import seaborn as sns\n",
    "from sklearn.metrics import classification_report\n",
    "from sklearn.metrics import f1_score, accuracy_score\n",
    "from sklearn.metrics import confusion_matrix"
   ]
  },
  {
   "cell_type": "code",
   "execution_count": 46,
   "metadata": {},
   "outputs": [
    {
     "name": "stdout",
     "output_type": "stream",
     "text": [
      "True\n",
      "[PhysicalDevice(name='/physical_device:GPU:0', device_type='GPU')]\n"
     ]
    }
   ],
   "source": [
    "print(tf.test.is_built_with_cuda())\n",
    "print(tf.config.list_physical_devices('GPU')) "
   ]
  },
  {
   "cell_type": "code",
   "execution_count": 47,
   "metadata": {},
   "outputs": [
    {
     "data": {
      "text/plain": [
       "'2.7.0'"
      ]
     },
     "execution_count": 47,
     "metadata": {},
     "output_type": "execute_result"
    }
   ],
   "source": [
    "tf.__version__\n"
   ]
  },
  {
   "cell_type": "code",
   "execution_count": 48,
   "metadata": {},
   "outputs": [
    {
     "data": {
      "text/plain": [
       "[PhysicalDevice(name='/physical_device:GPU:0', device_type='GPU')]"
      ]
     },
     "execution_count": 48,
     "metadata": {},
     "output_type": "execute_result"
    }
   ],
   "source": [
    "tf.config.list_physical_devices('GPU')"
   ]
  },
  {
   "cell_type": "code",
   "execution_count": 49,
   "metadata": {},
   "outputs": [
    {
     "data": {
      "text/html": [
       "<div>\n",
       "<style scoped>\n",
       "    .dataframe tbody tr th:only-of-type {\n",
       "        vertical-align: middle;\n",
       "    }\n",
       "\n",
       "    .dataframe tbody tr th {\n",
       "        vertical-align: top;\n",
       "    }\n",
       "\n",
       "    .dataframe thead th {\n",
       "        text-align: right;\n",
       "    }\n",
       "</style>\n",
       "<table border=\"1\" class=\"dataframe\">\n",
       "  <thead>\n",
       "    <tr style=\"text-align: right;\">\n",
       "      <th></th>\n",
       "      <th>Unnamed: 0</th>\n",
       "      <th>image_name</th>\n",
       "      <th>NEG</th>\n",
       "      <th>NEU</th>\n",
       "      <th>POS</th>\n",
       "      <th>text</th>\n",
       "      <th>sent_text</th>\n",
       "      <th>sent_image</th>\n",
       "      <th>image_path</th>\n",
       "      <th>image_height</th>\n",
       "      <th>image_width</th>\n",
       "    </tr>\n",
       "  </thead>\n",
       "  <tbody>\n",
       "    <tr>\n",
       "      <th>0</th>\n",
       "      <td>0</td>\n",
       "      <td>768097808037605376-1</td>\n",
       "      <td>0.919993</td>\n",
       "      <td>0.055681</td>\n",
       "      <td>0.024326</td>\n",
       "      <td>RT @hoseokahhh: \"who is this song forwhat do i...</td>\n",
       "      <td>NEG</td>\n",
       "      <td>0</td>\n",
       "      <td>data/76809/768097808037605376-1.jpg</td>\n",
       "      <td>449</td>\n",
       "      <td>449</td>\n",
       "    </tr>\n",
       "    <tr>\n",
       "      <th>1</th>\n",
       "      <td>1</td>\n",
       "      <td>768097833215938560-1</td>\n",
       "      <td>0.864726</td>\n",
       "      <td>0.058440</td>\n",
       "      <td>0.076834</td>\n",
       "      <td>RT @ARapperSaid_: “I ain’t come over here for ...</td>\n",
       "      <td>NEG</td>\n",
       "      <td>0</td>\n",
       "      <td>data/76809/768097833215938560-1.jpg</td>\n",
       "      <td>398</td>\n",
       "      <td>593</td>\n",
       "    </tr>\n",
       "    <tr>\n",
       "      <th>2</th>\n",
       "      <td>2</td>\n",
       "      <td>768097929659817984-1</td>\n",
       "      <td>0.907574</td>\n",
       "      <td>0.061396</td>\n",
       "      <td>0.031029</td>\n",
       "      <td>RT @blackedfriction: i hate telling people i l...</td>\n",
       "      <td>NEG</td>\n",
       "      <td>0</td>\n",
       "      <td>data/76809/768097929659817984-1.jpg</td>\n",
       "      <td>489</td>\n",
       "      <td>1132</td>\n",
       "    </tr>\n",
       "    <tr>\n",
       "      <th>3</th>\n",
       "      <td>3</td>\n",
       "      <td>768097929659817984-2</td>\n",
       "      <td>0.907574</td>\n",
       "      <td>0.061396</td>\n",
       "      <td>0.031029</td>\n",
       "      <td>RT @blackedfriction: i hate telling people i l...</td>\n",
       "      <td>NEG</td>\n",
       "      <td>0</td>\n",
       "      <td>data/76809/768097929659817984-2.jpg</td>\n",
       "      <td>983</td>\n",
       "      <td>1123</td>\n",
       "    </tr>\n",
       "    <tr>\n",
       "      <th>4</th>\n",
       "      <td>4</td>\n",
       "      <td>768097929659817984-3</td>\n",
       "      <td>0.907574</td>\n",
       "      <td>0.061396</td>\n",
       "      <td>0.031029</td>\n",
       "      <td>RT @blackedfriction: i hate telling people i l...</td>\n",
       "      <td>NEG</td>\n",
       "      <td>0</td>\n",
       "      <td>data/76809/768097929659817984-3.jpg</td>\n",
       "      <td>1326</td>\n",
       "      <td>1110</td>\n",
       "    </tr>\n",
       "    <tr>\n",
       "      <th>...</th>\n",
       "      <td>...</td>\n",
       "      <td>...</td>\n",
       "      <td>...</td>\n",
       "      <td>...</td>\n",
       "      <td>...</td>\n",
       "      <td>...</td>\n",
       "      <td>...</td>\n",
       "      <td>...</td>\n",
       "      <td>...</td>\n",
       "      <td>...</td>\n",
       "      <td>...</td>\n",
       "    </tr>\n",
       "    <tr>\n",
       "      <th>470581</th>\n",
       "      <td>470581</td>\n",
       "      <td>804618699315539969-1</td>\n",
       "      <td>0.453963</td>\n",
       "      <td>0.387611</td>\n",
       "      <td>0.158427</td>\n",
       "      <td>Chances not to loose&amp;gt;&amp;gt;&amp;gt;https://t.co/j...</td>\n",
       "      <td>NEG</td>\n",
       "      <td>0</td>\n",
       "      <td>data/80461/804618699315539969-1.jpg</td>\n",
       "      <td>183</td>\n",
       "      <td>275</td>\n",
       "    </tr>\n",
       "    <tr>\n",
       "      <th>470582</th>\n",
       "      <td>470582</td>\n",
       "      <td>804618854466981888-1</td>\n",
       "      <td>0.651498</td>\n",
       "      <td>0.208690</td>\n",
       "      <td>0.139812</td>\n",
       "      <td>Don't hear this much  RT @phillynewsnow: Lyft ...</td>\n",
       "      <td>NEG</td>\n",
       "      <td>0</td>\n",
       "      <td>data/80461/804618854466981888-1.jpg</td>\n",
       "      <td>675</td>\n",
       "      <td>1200</td>\n",
       "    </tr>\n",
       "    <tr>\n",
       "      <th>470583</th>\n",
       "      <td>470583</td>\n",
       "      <td>804619265546387457-1</td>\n",
       "      <td>0.473848</td>\n",
       "      <td>0.382078</td>\n",
       "      <td>0.144074</td>\n",
       "      <td>Security agencies threaten to assassinate me –...</td>\n",
       "      <td>NEG</td>\n",
       "      <td>0</td>\n",
       "      <td>data/80461/804619265546387457-1.jpg</td>\n",
       "      <td>682</td>\n",
       "      <td>1024</td>\n",
       "    </tr>\n",
       "    <tr>\n",
       "      <th>470584</th>\n",
       "      <td>470584</td>\n",
       "      <td>804619315861393408-1</td>\n",
       "      <td>0.402850</td>\n",
       "      <td>0.337901</td>\n",
       "      <td>0.259249</td>\n",
       "      <td>Kill my trusted old assistant? Why, no. I'm go...</td>\n",
       "      <td>NEG</td>\n",
       "      <td>0</td>\n",
       "      <td>data/80461/804619315861393408-1.jpg</td>\n",
       "      <td>458</td>\n",
       "      <td>626</td>\n",
       "    </tr>\n",
       "    <tr>\n",
       "      <th>470585</th>\n",
       "      <td>470585</td>\n",
       "      <td>804619403946000384-1</td>\n",
       "      <td>0.694700</td>\n",
       "      <td>0.182601</td>\n",
       "      <td>0.122700</td>\n",
       "      <td>It’s cold outside: Winter-Essentials. - https:...</td>\n",
       "      <td>NEG</td>\n",
       "      <td>0</td>\n",
       "      <td>data/80461/804619403946000384-1.jpg</td>\n",
       "      <td>825</td>\n",
       "      <td>607</td>\n",
       "    </tr>\n",
       "  </tbody>\n",
       "</table>\n",
       "<p>470586 rows × 11 columns</p>\n",
       "</div>"
      ],
      "text/plain": [
       "        Unnamed: 0            image_name       NEG       NEU       POS  \\\n",
       "0                0  768097808037605376-1  0.919993  0.055681  0.024326   \n",
       "1                1  768097833215938560-1  0.864726  0.058440  0.076834   \n",
       "2                2  768097929659817984-1  0.907574  0.061396  0.031029   \n",
       "3                3  768097929659817984-2  0.907574  0.061396  0.031029   \n",
       "4                4  768097929659817984-3  0.907574  0.061396  0.031029   \n",
       "...            ...                   ...       ...       ...       ...   \n",
       "470581      470581  804618699315539969-1  0.453963  0.387611  0.158427   \n",
       "470582      470582  804618854466981888-1  0.651498  0.208690  0.139812   \n",
       "470583      470583  804619265546387457-1  0.473848  0.382078  0.144074   \n",
       "470584      470584  804619315861393408-1  0.402850  0.337901  0.259249   \n",
       "470585      470585  804619403946000384-1  0.694700  0.182601  0.122700   \n",
       "\n",
       "                                                     text sent_text  \\\n",
       "0       RT @hoseokahhh: \"who is this song forwhat do i...       NEG   \n",
       "1       RT @ARapperSaid_: “I ain’t come over here for ...       NEG   \n",
       "2       RT @blackedfriction: i hate telling people i l...       NEG   \n",
       "3       RT @blackedfriction: i hate telling people i l...       NEG   \n",
       "4       RT @blackedfriction: i hate telling people i l...       NEG   \n",
       "...                                                   ...       ...   \n",
       "470581  Chances not to loose&gt;&gt;&gt;https://t.co/j...       NEG   \n",
       "470582  Don't hear this much  RT @phillynewsnow: Lyft ...       NEG   \n",
       "470583  Security agencies threaten to assassinate me –...       NEG   \n",
       "470584  Kill my trusted old assistant? Why, no. I'm go...       NEG   \n",
       "470585  It’s cold outside: Winter-Essentials. - https:...       NEG   \n",
       "\n",
       "        sent_image                           image_path  image_height  \\\n",
       "0                0  data/76809/768097808037605376-1.jpg           449   \n",
       "1                0  data/76809/768097833215938560-1.jpg           398   \n",
       "2                0  data/76809/768097929659817984-1.jpg           489   \n",
       "3                0  data/76809/768097929659817984-2.jpg           983   \n",
       "4                0  data/76809/768097929659817984-3.jpg          1326   \n",
       "...            ...                                  ...           ...   \n",
       "470581           0  data/80461/804618699315539969-1.jpg           183   \n",
       "470582           0  data/80461/804618854466981888-1.jpg           675   \n",
       "470583           0  data/80461/804619265546387457-1.jpg           682   \n",
       "470584           0  data/80461/804619315861393408-1.jpg           458   \n",
       "470585           0  data/80461/804619403946000384-1.jpg           825   \n",
       "\n",
       "        image_width  \n",
       "0               449  \n",
       "1               593  \n",
       "2              1132  \n",
       "3              1123  \n",
       "4              1110  \n",
       "...             ...  \n",
       "470581          275  \n",
       "470582         1200  \n",
       "470583         1024  \n",
       "470584          626  \n",
       "470585          607  \n",
       "\n",
       "[470586 rows x 11 columns]"
      ]
     },
     "execution_count": 49,
     "metadata": {},
     "output_type": "execute_result"
    }
   ],
   "source": [
    "path = \"dataset_sidi_v1.2.csv\"\n",
    "df512 = pd.read_csv(path, sep='\\t')\n",
    "df512"
   ]
  },
  {
   "cell_type": "code",
   "execution_count": 50,
   "metadata": {},
   "outputs": [],
   "source": [
    "width = 128\n",
    "height = 128"
   ]
  },
  {
   "cell_type": "code",
   "execution_count": 51,
   "metadata": {},
   "outputs": [],
   "source": [
    "filenames = ['./Dataset/b-t4sa_imgs/' + fname for fname in df512['image_path'].tolist()]\n",
    "labels = df512['sent_image'].tolist()\n",
    "train_filenames, val_filenames, train_labels, val_labels = train_test_split(filenames,labels, train_size=0.9,random_state=42)"
   ]
  },
  {
   "cell_type": "code",
   "execution_count": 52,
   "metadata": {},
   "outputs": [],
   "source": [
    "from keras.utils.np_utils import to_categorical   \n",
    "\n",
    "train_labels = to_categorical(train_labels, num_classes=3)\n",
    "test_labels = to_categorical(val_labels, num_classes=3)"
   ]
  },
  {
   "cell_type": "code",
   "execution_count": 53,
   "metadata": {},
   "outputs": [
    {
     "data": {
      "text/plain": [
       "394"
      ]
     },
     "execution_count": 53,
     "metadata": {},
     "output_type": "execute_result"
    }
   ],
   "source": [
    "tf.keras.backend.clear_session()\n",
    "import gc\n",
    "gc.collect()"
   ]
  },
  {
   "cell_type": "markdown",
   "metadata": {},
   "source": [
    "## CNN básica\n"
   ]
  },
  {
   "cell_type": "code",
   "execution_count": 115,
   "metadata": {},
   "outputs": [
    {
     "data": {
      "text/plain": [
       "2644"
      ]
     },
     "execution_count": 115,
     "metadata": {},
     "output_type": "execute_result"
    }
   ],
   "source": [
    "tf.keras.backend.clear_session()\n",
    "import gc\n",
    "gc.collect()"
   ]
  },
  {
   "cell_type": "code",
   "execution_count": 116,
   "metadata": {},
   "outputs": [
    {
     "name": "stdout",
     "output_type": "stream",
     "text": [
      "Model: \"sequential\"\n",
      "_________________________________________________________________\n",
      " Layer (type)                Output Shape              Param #   \n",
      "=================================================================\n",
      " conv2d (Conv2D)             (None, 126, 126, 32)      896       \n",
      "                                                                 \n",
      " max_pooling2d (MaxPooling2D  (None, 63, 63, 32)       0         \n",
      " )                                                               \n",
      "                                                                 \n",
      " conv2d_1 (Conv2D)           (None, 61, 61, 64)        18496     \n",
      "                                                                 \n",
      " max_pooling2d_1 (MaxPooling  (None, 30, 30, 64)       0         \n",
      " 2D)                                                             \n",
      "                                                                 \n",
      " conv2d_2 (Conv2D)           (None, 28, 28, 128)       73856     \n",
      "                                                                 \n",
      " max_pooling2d_2 (MaxPooling  (None, 14, 14, 128)      0         \n",
      " 2D)                                                             \n",
      "                                                                 \n",
      " conv2d_3 (Conv2D)           (None, 12, 12, 256)       295168    \n",
      "                                                                 \n",
      " flatten (Flatten)           (None, 36864)             0         \n",
      "                                                                 \n",
      " dense (Dense)               (None, 512)               18874880  \n",
      "                                                                 \n",
      " dense_1 (Dense)             (None, 3)                 1539      \n",
      "                                                                 \n",
      "=================================================================\n",
      "Total params: 19,264,835\n",
      "Trainable params: 19,264,835\n",
      "Non-trainable params: 0\n",
      "_________________________________________________________________\n"
     ]
    }
   ],
   "source": [
    "camadas = 32\n",
    "model = models.Sequential()\n",
    "model.add(layers.Conv2D(camadas, (3, 3), activation='relu', input_shape=(width, height, 3)))\n",
    "model.add(layers.MaxPooling2D((2, 2)))\n",
    "model.add(layers.Conv2D(camadas*2, (3, 3), activation='relu'))\n",
    "model.add(layers.MaxPooling2D((2, 2)))\n",
    "model.add(layers.Conv2D(camadas*4, (3, 3), activation='relu'))\n",
    "model.add(layers.MaxPooling2D((2, 2)))\n",
    "model.add(layers.Conv2D(camadas*8, (3, 3), activation='relu'))\n",
    "model.add(layers.Flatten())\n",
    "model.add(layers.Dense(512, activation='relu'))\n",
    "model.add(layers.Dense(3,activation='softmax'))\n",
    "\n",
    "model.summary()"
   ]
  },
  {
   "cell_type": "code",
   "execution_count": 117,
   "metadata": {},
   "outputs": [],
   "source": [
    "model.compile(\n",
    "    optimizer='SGD',\n",
    "    loss='categorical_crossentropy',\n",
    "    metrics=['accuracy'],\n",
    ")"
   ]
  },
  {
   "cell_type": "markdown",
   "metadata": {},
   "source": [
    "### FIT GENERATOR"
   ]
  },
  {
   "cell_type": "code",
   "execution_count": 118,
   "metadata": {},
   "outputs": [],
   "source": [
    "#busca os dados que estão listados em train_filenames\n",
    "\n",
    "def generate_data(train_filenames,train_labels, batch_size):\n",
    "\n",
    "    width = 128\n",
    "    height = 128\n",
    "    dim = (width, height)\n",
    "    while True:\n",
    "        for i in range(0,len(train_filenames),batch_size):\n",
    "            \n",
    "            X_train = np.zeros((int(batch_size), width, height, 3))\n",
    "            aux =0\n",
    "\n",
    "            dim = (width, height)\n",
    "\n",
    "            for j in train_filenames[i:i+batch_size]:\n",
    "                X_train[aux] =  np.asarray(cv2.resize(cv2.imread(j), dim, interpolation = cv2.INTER_AREA) )\n",
    "                aux = aux + 1\n",
    "                \n",
    "            img = X_train.reshape(( X_train.shape[0],) +(width, height,3)).astype('float32') / 255.\n",
    "            img = preprocess_input(img) \n",
    "            \n",
    "            yield img, np.array(test_labels[i:i+batch_size])"
   ]
  },
  {
   "cell_type": "code",
   "execution_count": null,
   "metadata": {},
   "outputs": [
    {
     "name": "stdout",
     "output_type": "stream",
     "text": [
      "Epoch 1/5\n",
      "    581/Unknown - 392s 675ms/step - loss: 3.6643 - accuracy: 0.3336"
     ]
    }
   ],
   "source": [
    "from tensorflow.keras.callbacks import EarlyStopping\n",
    "es = EarlyStopping(monitor='val_accuracy', mode='max', patience=1,  restore_best_weights=True)\n",
    "\n",
    "batch_size=32\n",
    "\n",
    "\n",
    "model.fit( generate_data(train_filenames,train_labels, batch_size),\n",
    "        batch_size=batch_size,  epochs=5)"
   ]
  },
  {
   "cell_type": "code",
   "execution_count": null,
   "metadata": {},
   "outputs": [],
   "source": []
  },
  {
   "cell_type": "code",
   "execution_count": null,
   "metadata": {},
   "outputs": [],
   "source": []
  },
  {
   "cell_type": "markdown",
   "metadata": {},
   "source": [
    "### Resultados"
   ]
  },
  {
   "cell_type": "code",
   "execution_count": 72,
   "metadata": {},
   "outputs": [],
   "source": [
    "x_test = np.zeros((int(100), width, height, 3))\n",
    "aux =0\n",
    "\n",
    "dim = (width, height)\n",
    "\n",
    "for i in val_filenames[:100]:\n",
    "    x_test[aux] = np.asarray(cv2.resize(cv2.imread(i), dim, interpolation = cv2.INTER_AREA) )\n",
    "    aux = aux + 1\n",
    "x_test = x_test.reshape((x_test.shape[0],) +(width, height,3)).astype('float32') / 255."
   ]
  },
  {
   "cell_type": "code",
   "execution_count": 71,
   "metadata": {},
   "outputs": [],
   "source": [
    "del x_test"
   ]
  },
  {
   "cell_type": "code",
   "execution_count": 76,
   "metadata": {},
   "outputs": [
    {
     "name": "stdout",
     "output_type": "stream",
     "text": [
      "0.3\n",
      "              precision    recall  f1-score   support\n",
      "\n",
      "           0       0.31      0.90      0.46        31\n",
      "           1       0.00      0.00      0.00        29\n",
      "           2       0.22      0.05      0.08        40\n",
      "\n",
      "    accuracy                           0.30       100\n",
      "   macro avg       0.18      0.32      0.18       100\n",
      "weighted avg       0.18      0.30      0.17       100\n",
      "\n"
     ]
    },
    {
     "name": "stderr",
     "output_type": "stream",
     "text": [
      "C:\\Users\\bhla\\anaconda3\\envs\\DP\\lib\\site-packages\\sklearn\\metrics\\_classification.py:1221: UndefinedMetricWarning: Precision and F-score are ill-defined and being set to 0.0 in labels with no predicted samples. Use `zero_division` parameter to control this behavior.\n",
      "  _warn_prf(average, modifier, msg_start, len(result))\n"
     ]
    }
   ],
   "source": [
    "y_pred = model.predict(x_test)\n",
    "\n",
    "y_pred = np.argmax(y_pred, axis=-1)\n",
    "test_labels_result= np.argmax(test_labels[:100], axis=-1)\n",
    "\n",
    "print(accuracy_score(test_labels_result, y_pred));\n",
    "print(classification_report(test_labels_result, y_pred));"
   ]
  },
  {
   "cell_type": "code",
   "execution_count": null,
   "metadata": {},
   "outputs": [],
   "source": []
  }
 ],
 "metadata": {
  "kernelspec": {
   "display_name": "Python 3",
   "language": "python",
   "name": "python3"
  },
  "language_info": {
   "codemirror_mode": {
    "name": "ipython",
    "version": 3
   },
   "file_extension": ".py",
   "mimetype": "text/x-python",
   "name": "python",
   "nbconvert_exporter": "python",
   "pygments_lexer": "ipython3",
   "version": "3.8.12"
  }
 },
 "nbformat": 4,
 "nbformat_minor": 5
}
