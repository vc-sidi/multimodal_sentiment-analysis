{
 "cells": [
  {
   "cell_type": "code",
   "execution_count": 11,
   "metadata": {},
   "outputs": [],
   "source": [
    "#Import\n",
    "import pandas as pd\n",
    "import cv2\n",
    "import numpy as np\n",
    "import seaborn as sns\n",
    "\n",
    "\n",
    "import tensorflow as tf\n",
    "from tensorflow import keras\n",
    "from tensorflow.keras import layers, models\n",
    "from keras.preprocessing.text import Tokenizer\n",
    "from keras.utils.np_utils import to_categorical   \n",
    "from tensorflow.keras.optimizers import Adam\n",
    "from tensorflow.keras.callbacks import EarlyStopping\n",
    "from tensorflow.keras.applications.vgg19 import VGG19\n",
    "from tensorflow.keras.applications.vgg19 import preprocess_input\n",
    "\n",
    "\n",
    "\n",
    "from sklearn.model_selection import train_test_split\n",
    "from sklearn.metrics import classification_report\n",
    "from sklearn.metrics import f1_score, accuracy_score\n",
    "from sklearn.metrics import confusion_matrix\n",
    "from sklearn.utils import shuffle\n",
    "\n",
    "import re\n",
    "import contractions\n",
    "\n",
    "import nltk\n",
    "from nltk.corpus import stopwords\n",
    "from nltk.stem.porter import *\n",
    "from nltk.sentiment.vader import SentimentIntensityAnalyzer\n",
    "from nltk.tokenize import word_tokenize\n",
    "\n",
    "from vaderSentiment.vaderSentiment import SentimentIntensityAnalyzer\n",
    "import gc\n",
    "\n"
   ]
  },
  {
   "cell_type": "code",
   "execution_count": 12,
   "metadata": {},
   "outputs": [
    {
     "name": "stdout",
     "output_type": "stream",
     "text": [
      "True\n",
      "[PhysicalDevice(name='/physical_device:GPU:0', device_type='GPU')]\n"
     ]
    }
   ],
   "source": [
    "print(tf.test.is_built_with_cuda())\n",
    "print(tf.config.list_physical_devices('GPU')) "
   ]
  },
  {
   "cell_type": "code",
   "execution_count": 13,
   "metadata": {},
   "outputs": [
    {
     "data": {
      "text/plain": [
       "[PhysicalDevice(name='/physical_device:GPU:0', device_type='GPU')]"
      ]
     },
     "execution_count": 13,
     "metadata": {},
     "output_type": "execute_result"
    }
   ],
   "source": [
    "tf.config.list_physical_devices('GPU')"
   ]
  },
  {
   "cell_type": "code",
   "execution_count": 14,
   "metadata": {},
   "outputs": [
    {
     "name": "stderr",
     "output_type": "stream",
     "text": [
      "[nltk_data] Downloading package words to\n",
      "[nltk_data]     C:\\Users\\bhla\\AppData\\Roaming\\nltk_data...\n",
      "[nltk_data]   Package words is already up-to-date!\n",
      "[nltk_data] Downloading package stopwords to\n",
      "[nltk_data]     C:\\Users\\bhla\\AppData\\Roaming\\nltk_data...\n",
      "[nltk_data]   Package stopwords is already up-to-date!\n",
      "[nltk_data] Downloading package punkt to\n",
      "[nltk_data]     C:\\Users\\bhla\\AppData\\Roaming\\nltk_data...\n",
      "[nltk_data]   Package punkt is already up-to-date!\n"
     ]
    }
   ],
   "source": [
    "nltk.download('words')\n",
    "nltk.download('stopwords')\n",
    "nltk.download('punkt')\n",
    "additional  = ['rt','rts','retweet'] # lista adicional de stopwords\n",
    "swords = set().union(stopwords.words('english'),additional) # adicionando palavras para o stopwords"
   ]
  },
  {
   "cell_type": "code",
   "execution_count": 15,
   "metadata": {},
   "outputs": [
    {
     "data": {
      "text/html": [
       "<div>\n",
       "<style scoped>\n",
       "    .dataframe tbody tr th:only-of-type {\n",
       "        vertical-align: middle;\n",
       "    }\n",
       "\n",
       "    .dataframe tbody tr th {\n",
       "        vertical-align: top;\n",
       "    }\n",
       "\n",
       "    .dataframe thead th {\n",
       "        text-align: right;\n",
       "    }\n",
       "</style>\n",
       "<table border=\"1\" class=\"dataframe\">\n",
       "  <thead>\n",
       "    <tr style=\"text-align: right;\">\n",
       "      <th></th>\n",
       "      <th>Unnamed: 0</th>\n",
       "      <th>image_name</th>\n",
       "      <th>NEG</th>\n",
       "      <th>NEU</th>\n",
       "      <th>POS</th>\n",
       "      <th>text</th>\n",
       "      <th>sent_text</th>\n",
       "      <th>sent_image</th>\n",
       "      <th>image_path</th>\n",
       "      <th>image_height</th>\n",
       "      <th>image_width</th>\n",
       "    </tr>\n",
       "  </thead>\n",
       "  <tbody>\n",
       "    <tr>\n",
       "      <th>0</th>\n",
       "      <td>0</td>\n",
       "      <td>768097808037605376-1</td>\n",
       "      <td>0.919993</td>\n",
       "      <td>0.055681</td>\n",
       "      <td>0.024326</td>\n",
       "      <td>RT @hoseokahhh: \"who is this song forwhat do i...</td>\n",
       "      <td>NEG</td>\n",
       "      <td>0</td>\n",
       "      <td>data/76809/768097808037605376-1.jpg</td>\n",
       "      <td>449</td>\n",
       "      <td>449</td>\n",
       "    </tr>\n",
       "    <tr>\n",
       "      <th>1</th>\n",
       "      <td>1</td>\n",
       "      <td>768097833215938560-1</td>\n",
       "      <td>0.864726</td>\n",
       "      <td>0.058440</td>\n",
       "      <td>0.076834</td>\n",
       "      <td>RT @ARapperSaid_: “I ain’t come over here for ...</td>\n",
       "      <td>NEG</td>\n",
       "      <td>0</td>\n",
       "      <td>data/76809/768097833215938560-1.jpg</td>\n",
       "      <td>398</td>\n",
       "      <td>593</td>\n",
       "    </tr>\n",
       "    <tr>\n",
       "      <th>2</th>\n",
       "      <td>2</td>\n",
       "      <td>768097929659817984-1</td>\n",
       "      <td>0.907574</td>\n",
       "      <td>0.061396</td>\n",
       "      <td>0.031029</td>\n",
       "      <td>RT @blackedfriction: i hate telling people i l...</td>\n",
       "      <td>NEG</td>\n",
       "      <td>0</td>\n",
       "      <td>data/76809/768097929659817984-1.jpg</td>\n",
       "      <td>489</td>\n",
       "      <td>1132</td>\n",
       "    </tr>\n",
       "    <tr>\n",
       "      <th>3</th>\n",
       "      <td>3</td>\n",
       "      <td>768097929659817984-2</td>\n",
       "      <td>0.907574</td>\n",
       "      <td>0.061396</td>\n",
       "      <td>0.031029</td>\n",
       "      <td>RT @blackedfriction: i hate telling people i l...</td>\n",
       "      <td>NEG</td>\n",
       "      <td>0</td>\n",
       "      <td>data/76809/768097929659817984-2.jpg</td>\n",
       "      <td>983</td>\n",
       "      <td>1123</td>\n",
       "    </tr>\n",
       "    <tr>\n",
       "      <th>4</th>\n",
       "      <td>4</td>\n",
       "      <td>768097929659817984-3</td>\n",
       "      <td>0.907574</td>\n",
       "      <td>0.061396</td>\n",
       "      <td>0.031029</td>\n",
       "      <td>RT @blackedfriction: i hate telling people i l...</td>\n",
       "      <td>NEG</td>\n",
       "      <td>0</td>\n",
       "      <td>data/76809/768097929659817984-3.jpg</td>\n",
       "      <td>1326</td>\n",
       "      <td>1110</td>\n",
       "    </tr>\n",
       "    <tr>\n",
       "      <th>...</th>\n",
       "      <td>...</td>\n",
       "      <td>...</td>\n",
       "      <td>...</td>\n",
       "      <td>...</td>\n",
       "      <td>...</td>\n",
       "      <td>...</td>\n",
       "      <td>...</td>\n",
       "      <td>...</td>\n",
       "      <td>...</td>\n",
       "      <td>...</td>\n",
       "      <td>...</td>\n",
       "    </tr>\n",
       "    <tr>\n",
       "      <th>470581</th>\n",
       "      <td>470581</td>\n",
       "      <td>804618699315539969-1</td>\n",
       "      <td>0.453963</td>\n",
       "      <td>0.387611</td>\n",
       "      <td>0.158427</td>\n",
       "      <td>Chances not to loose&amp;gt;&amp;gt;&amp;gt;https://t.co/j...</td>\n",
       "      <td>NEG</td>\n",
       "      <td>0</td>\n",
       "      <td>data/80461/804618699315539969-1.jpg</td>\n",
       "      <td>183</td>\n",
       "      <td>275</td>\n",
       "    </tr>\n",
       "    <tr>\n",
       "      <th>470582</th>\n",
       "      <td>470582</td>\n",
       "      <td>804618854466981888-1</td>\n",
       "      <td>0.651498</td>\n",
       "      <td>0.208690</td>\n",
       "      <td>0.139812</td>\n",
       "      <td>Don't hear this much  RT @phillynewsnow: Lyft ...</td>\n",
       "      <td>NEG</td>\n",
       "      <td>0</td>\n",
       "      <td>data/80461/804618854466981888-1.jpg</td>\n",
       "      <td>675</td>\n",
       "      <td>1200</td>\n",
       "    </tr>\n",
       "    <tr>\n",
       "      <th>470583</th>\n",
       "      <td>470583</td>\n",
       "      <td>804619265546387457-1</td>\n",
       "      <td>0.473848</td>\n",
       "      <td>0.382078</td>\n",
       "      <td>0.144074</td>\n",
       "      <td>Security agencies threaten to assassinate me –...</td>\n",
       "      <td>NEG</td>\n",
       "      <td>0</td>\n",
       "      <td>data/80461/804619265546387457-1.jpg</td>\n",
       "      <td>682</td>\n",
       "      <td>1024</td>\n",
       "    </tr>\n",
       "    <tr>\n",
       "      <th>470584</th>\n",
       "      <td>470584</td>\n",
       "      <td>804619315861393408-1</td>\n",
       "      <td>0.402850</td>\n",
       "      <td>0.337901</td>\n",
       "      <td>0.259249</td>\n",
       "      <td>Kill my trusted old assistant? Why, no. I'm go...</td>\n",
       "      <td>NEG</td>\n",
       "      <td>0</td>\n",
       "      <td>data/80461/804619315861393408-1.jpg</td>\n",
       "      <td>458</td>\n",
       "      <td>626</td>\n",
       "    </tr>\n",
       "    <tr>\n",
       "      <th>470585</th>\n",
       "      <td>470585</td>\n",
       "      <td>804619403946000384-1</td>\n",
       "      <td>0.694700</td>\n",
       "      <td>0.182601</td>\n",
       "      <td>0.122700</td>\n",
       "      <td>It’s cold outside: Winter-Essentials. - https:...</td>\n",
       "      <td>NEG</td>\n",
       "      <td>0</td>\n",
       "      <td>data/80461/804619403946000384-1.jpg</td>\n",
       "      <td>825</td>\n",
       "      <td>607</td>\n",
       "    </tr>\n",
       "  </tbody>\n",
       "</table>\n",
       "<p>470586 rows × 11 columns</p>\n",
       "</div>"
      ],
      "text/plain": [
       "        Unnamed: 0            image_name       NEG       NEU       POS  \\\n",
       "0                0  768097808037605376-1  0.919993  0.055681  0.024326   \n",
       "1                1  768097833215938560-1  0.864726  0.058440  0.076834   \n",
       "2                2  768097929659817984-1  0.907574  0.061396  0.031029   \n",
       "3                3  768097929659817984-2  0.907574  0.061396  0.031029   \n",
       "4                4  768097929659817984-3  0.907574  0.061396  0.031029   \n",
       "...            ...                   ...       ...       ...       ...   \n",
       "470581      470581  804618699315539969-1  0.453963  0.387611  0.158427   \n",
       "470582      470582  804618854466981888-1  0.651498  0.208690  0.139812   \n",
       "470583      470583  804619265546387457-1  0.473848  0.382078  0.144074   \n",
       "470584      470584  804619315861393408-1  0.402850  0.337901  0.259249   \n",
       "470585      470585  804619403946000384-1  0.694700  0.182601  0.122700   \n",
       "\n",
       "                                                     text sent_text  \\\n",
       "0       RT @hoseokahhh: \"who is this song forwhat do i...       NEG   \n",
       "1       RT @ARapperSaid_: “I ain’t come over here for ...       NEG   \n",
       "2       RT @blackedfriction: i hate telling people i l...       NEG   \n",
       "3       RT @blackedfriction: i hate telling people i l...       NEG   \n",
       "4       RT @blackedfriction: i hate telling people i l...       NEG   \n",
       "...                                                   ...       ...   \n",
       "470581  Chances not to loose&gt;&gt;&gt;https://t.co/j...       NEG   \n",
       "470582  Don't hear this much  RT @phillynewsnow: Lyft ...       NEG   \n",
       "470583  Security agencies threaten to assassinate me –...       NEG   \n",
       "470584  Kill my trusted old assistant? Why, no. I'm go...       NEG   \n",
       "470585  It’s cold outside: Winter-Essentials. - https:...       NEG   \n",
       "\n",
       "        sent_image                           image_path  image_height  \\\n",
       "0                0  data/76809/768097808037605376-1.jpg           449   \n",
       "1                0  data/76809/768097833215938560-1.jpg           398   \n",
       "2                0  data/76809/768097929659817984-1.jpg           489   \n",
       "3                0  data/76809/768097929659817984-2.jpg           983   \n",
       "4                0  data/76809/768097929659817984-3.jpg          1326   \n",
       "...            ...                                  ...           ...   \n",
       "470581           0  data/80461/804618699315539969-1.jpg           183   \n",
       "470582           0  data/80461/804618854466981888-1.jpg           675   \n",
       "470583           0  data/80461/804619265546387457-1.jpg           682   \n",
       "470584           0  data/80461/804619315861393408-1.jpg           458   \n",
       "470585           0  data/80461/804619403946000384-1.jpg           825   \n",
       "\n",
       "        image_width  \n",
       "0               449  \n",
       "1               593  \n",
       "2              1132  \n",
       "3              1123  \n",
       "4              1110  \n",
       "...             ...  \n",
       "470581          275  \n",
       "470582         1200  \n",
       "470583         1024  \n",
       "470584          626  \n",
       "470585          607  \n",
       "\n",
       "[470586 rows x 11 columns]"
      ]
     },
     "execution_count": 15,
     "metadata": {},
     "output_type": "execute_result"
    }
   ],
   "source": [
    "path = \"dataset_sidi_v1.2.csv\"\n",
    "\n",
    "df512 = pd.read_csv(path, sep='\\t')\n",
    "df512"
   ]
  },
  {
   "cell_type": "code",
   "execution_count": 16,
   "metadata": {},
   "outputs": [],
   "source": [
    "grupo=[]\n",
    "path =[]\n",
    "with open(\"./Dataset/b-t4sa_imgs/b-t4sa_train.txt\", \"r\") as f:\n",
    "    line = f.readlines()\n",
    "f.close()\n",
    "\n",
    "for i in line:\n",
    "    path.append(i.split(\" \")[0])\n",
    "    grupo.append(\"train\")\n",
    "    \n",
    "with open(\"./Dataset/b-t4sa_imgs/b-t4sa_val.txt\", \"r\") as f:\n",
    "    line = f.readlines()\n",
    "f.close()\n",
    "\n",
    "for i in line:\n",
    "    path.append(i.split(\" \")[0])\n",
    "    grupo.append(\"val\")\n",
    "    \n",
    "    \n",
    "with open(\"./Dataset/b-t4sa_imgs/b-t4sa_test.txt\", \"r\") as f:\n",
    "    line = f.readlines()\n",
    "f.close()\n",
    "\n",
    "for i in line:\n",
    "    path.append(i.split(\" \")[0])\n",
    "    grupo.append(\"test\")\n",
    "\n"
   ]
  },
  {
   "cell_type": "code",
   "execution_count": 17,
   "metadata": {},
   "outputs": [
    {
     "data": {
      "text/html": [
       "<div>\n",
       "<style scoped>\n",
       "    .dataframe tbody tr th:only-of-type {\n",
       "        vertical-align: middle;\n",
       "    }\n",
       "\n",
       "    .dataframe tbody tr th {\n",
       "        vertical-align: top;\n",
       "    }\n",
       "\n",
       "    .dataframe thead th {\n",
       "        text-align: right;\n",
       "    }\n",
       "</style>\n",
       "<table border=\"1\" class=\"dataframe\">\n",
       "  <thead>\n",
       "    <tr style=\"text-align: right;\">\n",
       "      <th></th>\n",
       "      <th>grupo</th>\n",
       "    </tr>\n",
       "    <tr>\n",
       "      <th>path</th>\n",
       "      <th></th>\n",
       "    </tr>\n",
       "  </thead>\n",
       "  <tbody>\n",
       "    <tr>\n",
       "      <th>data/78476/784760943188189184-1.jpg</th>\n",
       "      <td>train</td>\n",
       "    </tr>\n",
       "    <tr>\n",
       "      <th>data/78226/782267072923525120-1.jpg</th>\n",
       "      <td>train</td>\n",
       "    </tr>\n",
       "    <tr>\n",
       "      <th>data/80180/801804526848278529-1.jpg</th>\n",
       "      <td>train</td>\n",
       "    </tr>\n",
       "    <tr>\n",
       "      <th>data/76927/769271101667016704-3.jpg</th>\n",
       "      <td>train</td>\n",
       "    </tr>\n",
       "    <tr>\n",
       "      <th>data/79618/796181957453512704-1.jpg</th>\n",
       "      <td>train</td>\n",
       "    </tr>\n",
       "    <tr>\n",
       "      <th>...</th>\n",
       "      <td>...</td>\n",
       "    </tr>\n",
       "    <tr>\n",
       "      <th>data/76918/769186708067876864-1.jpg</th>\n",
       "      <td>test</td>\n",
       "    </tr>\n",
       "    <tr>\n",
       "      <th>data/78112/781129758017019904-1.jpg</th>\n",
       "      <td>test</td>\n",
       "    </tr>\n",
       "    <tr>\n",
       "      <th>data/78166/781662543689515058-1.jpg</th>\n",
       "      <td>test</td>\n",
       "    </tr>\n",
       "    <tr>\n",
       "      <th>data/78243/782431204448567296-1.jpg</th>\n",
       "      <td>test</td>\n",
       "    </tr>\n",
       "    <tr>\n",
       "      <th>data/76866/768667704907694080-1.jpg</th>\n",
       "      <td>test</td>\n",
       "    </tr>\n",
       "  </tbody>\n",
       "</table>\n",
       "<p>470586 rows × 1 columns</p>\n",
       "</div>"
      ],
      "text/plain": [
       "                                     grupo\n",
       "path                                      \n",
       "data/78476/784760943188189184-1.jpg  train\n",
       "data/78226/782267072923525120-1.jpg  train\n",
       "data/80180/801804526848278529-1.jpg  train\n",
       "data/76927/769271101667016704-3.jpg  train\n",
       "data/79618/796181957453512704-1.jpg  train\n",
       "...                                    ...\n",
       "data/76918/769186708067876864-1.jpg   test\n",
       "data/78112/781129758017019904-1.jpg   test\n",
       "data/78166/781662543689515058-1.jpg   test\n",
       "data/78243/782431204448567296-1.jpg   test\n",
       "data/76866/768667704907694080-1.jpg   test\n",
       "\n",
       "[470586 rows x 1 columns]"
      ]
     },
     "execution_count": 17,
     "metadata": {},
     "output_type": "execute_result"
    }
   ],
   "source": [
    "df_aux = pd.DataFrame()\n",
    "df_aux[\"path\"] = path\n",
    "df_aux[\"grupo\"] = grupo\n",
    "df_aux = df_aux.set_index(\"path\")\n",
    "df_aux"
   ]
  },
  {
   "cell_type": "code",
   "execution_count": 18,
   "metadata": {},
   "outputs": [
    {
     "data": {
      "text/html": [
       "<div>\n",
       "<style scoped>\n",
       "    .dataframe tbody tr th:only-of-type {\n",
       "        vertical-align: middle;\n",
       "    }\n",
       "\n",
       "    .dataframe tbody tr th {\n",
       "        vertical-align: top;\n",
       "    }\n",
       "\n",
       "    .dataframe thead th {\n",
       "        text-align: right;\n",
       "    }\n",
       "</style>\n",
       "<table border=\"1\" class=\"dataframe\">\n",
       "  <thead>\n",
       "    <tr style=\"text-align: right;\">\n",
       "      <th></th>\n",
       "      <th>Unnamed: 0</th>\n",
       "      <th>image_name</th>\n",
       "      <th>NEG</th>\n",
       "      <th>NEU</th>\n",
       "      <th>POS</th>\n",
       "      <th>text</th>\n",
       "      <th>sent_text</th>\n",
       "      <th>sent_image</th>\n",
       "      <th>image_height</th>\n",
       "      <th>image_width</th>\n",
       "    </tr>\n",
       "    <tr>\n",
       "      <th>image_path</th>\n",
       "      <th></th>\n",
       "      <th></th>\n",
       "      <th></th>\n",
       "      <th></th>\n",
       "      <th></th>\n",
       "      <th></th>\n",
       "      <th></th>\n",
       "      <th></th>\n",
       "      <th></th>\n",
       "      <th></th>\n",
       "    </tr>\n",
       "  </thead>\n",
       "  <tbody>\n",
       "    <tr>\n",
       "      <th>data/76809/768097808037605376-1.jpg</th>\n",
       "      <td>0</td>\n",
       "      <td>768097808037605376-1</td>\n",
       "      <td>0.919993</td>\n",
       "      <td>0.055681</td>\n",
       "      <td>0.024326</td>\n",
       "      <td>RT @hoseokahhh: \"who is this song forwhat do i...</td>\n",
       "      <td>NEG</td>\n",
       "      <td>0</td>\n",
       "      <td>449</td>\n",
       "      <td>449</td>\n",
       "    </tr>\n",
       "    <tr>\n",
       "      <th>data/76809/768097833215938560-1.jpg</th>\n",
       "      <td>1</td>\n",
       "      <td>768097833215938560-1</td>\n",
       "      <td>0.864726</td>\n",
       "      <td>0.058440</td>\n",
       "      <td>0.076834</td>\n",
       "      <td>RT @ARapperSaid_: “I ain’t come over here for ...</td>\n",
       "      <td>NEG</td>\n",
       "      <td>0</td>\n",
       "      <td>398</td>\n",
       "      <td>593</td>\n",
       "    </tr>\n",
       "    <tr>\n",
       "      <th>data/76809/768097929659817984-1.jpg</th>\n",
       "      <td>2</td>\n",
       "      <td>768097929659817984-1</td>\n",
       "      <td>0.907574</td>\n",
       "      <td>0.061396</td>\n",
       "      <td>0.031029</td>\n",
       "      <td>RT @blackedfriction: i hate telling people i l...</td>\n",
       "      <td>NEG</td>\n",
       "      <td>0</td>\n",
       "      <td>489</td>\n",
       "      <td>1132</td>\n",
       "    </tr>\n",
       "    <tr>\n",
       "      <th>data/76809/768097929659817984-2.jpg</th>\n",
       "      <td>3</td>\n",
       "      <td>768097929659817984-2</td>\n",
       "      <td>0.907574</td>\n",
       "      <td>0.061396</td>\n",
       "      <td>0.031029</td>\n",
       "      <td>RT @blackedfriction: i hate telling people i l...</td>\n",
       "      <td>NEG</td>\n",
       "      <td>0</td>\n",
       "      <td>983</td>\n",
       "      <td>1123</td>\n",
       "    </tr>\n",
       "    <tr>\n",
       "      <th>data/76809/768097929659817984-3.jpg</th>\n",
       "      <td>4</td>\n",
       "      <td>768097929659817984-3</td>\n",
       "      <td>0.907574</td>\n",
       "      <td>0.061396</td>\n",
       "      <td>0.031029</td>\n",
       "      <td>RT @blackedfriction: i hate telling people i l...</td>\n",
       "      <td>NEG</td>\n",
       "      <td>0</td>\n",
       "      <td>1326</td>\n",
       "      <td>1110</td>\n",
       "    </tr>\n",
       "    <tr>\n",
       "      <th>...</th>\n",
       "      <td>...</td>\n",
       "      <td>...</td>\n",
       "      <td>...</td>\n",
       "      <td>...</td>\n",
       "      <td>...</td>\n",
       "      <td>...</td>\n",
       "      <td>...</td>\n",
       "      <td>...</td>\n",
       "      <td>...</td>\n",
       "      <td>...</td>\n",
       "    </tr>\n",
       "    <tr>\n",
       "      <th>data/80461/804618699315539969-1.jpg</th>\n",
       "      <td>470581</td>\n",
       "      <td>804618699315539969-1</td>\n",
       "      <td>0.453963</td>\n",
       "      <td>0.387611</td>\n",
       "      <td>0.158427</td>\n",
       "      <td>Chances not to loose&amp;gt;&amp;gt;&amp;gt;https://t.co/j...</td>\n",
       "      <td>NEG</td>\n",
       "      <td>0</td>\n",
       "      <td>183</td>\n",
       "      <td>275</td>\n",
       "    </tr>\n",
       "    <tr>\n",
       "      <th>data/80461/804618854466981888-1.jpg</th>\n",
       "      <td>470582</td>\n",
       "      <td>804618854466981888-1</td>\n",
       "      <td>0.651498</td>\n",
       "      <td>0.208690</td>\n",
       "      <td>0.139812</td>\n",
       "      <td>Don't hear this much  RT @phillynewsnow: Lyft ...</td>\n",
       "      <td>NEG</td>\n",
       "      <td>0</td>\n",
       "      <td>675</td>\n",
       "      <td>1200</td>\n",
       "    </tr>\n",
       "    <tr>\n",
       "      <th>data/80461/804619265546387457-1.jpg</th>\n",
       "      <td>470583</td>\n",
       "      <td>804619265546387457-1</td>\n",
       "      <td>0.473848</td>\n",
       "      <td>0.382078</td>\n",
       "      <td>0.144074</td>\n",
       "      <td>Security agencies threaten to assassinate me –...</td>\n",
       "      <td>NEG</td>\n",
       "      <td>0</td>\n",
       "      <td>682</td>\n",
       "      <td>1024</td>\n",
       "    </tr>\n",
       "    <tr>\n",
       "      <th>data/80461/804619315861393408-1.jpg</th>\n",
       "      <td>470584</td>\n",
       "      <td>804619315861393408-1</td>\n",
       "      <td>0.402850</td>\n",
       "      <td>0.337901</td>\n",
       "      <td>0.259249</td>\n",
       "      <td>Kill my trusted old assistant? Why, no. I'm go...</td>\n",
       "      <td>NEG</td>\n",
       "      <td>0</td>\n",
       "      <td>458</td>\n",
       "      <td>626</td>\n",
       "    </tr>\n",
       "    <tr>\n",
       "      <th>data/80461/804619403946000384-1.jpg</th>\n",
       "      <td>470585</td>\n",
       "      <td>804619403946000384-1</td>\n",
       "      <td>0.694700</td>\n",
       "      <td>0.182601</td>\n",
       "      <td>0.122700</td>\n",
       "      <td>It’s cold outside: Winter-Essentials. - https:...</td>\n",
       "      <td>NEG</td>\n",
       "      <td>0</td>\n",
       "      <td>825</td>\n",
       "      <td>607</td>\n",
       "    </tr>\n",
       "  </tbody>\n",
       "</table>\n",
       "<p>470586 rows × 10 columns</p>\n",
       "</div>"
      ],
      "text/plain": [
       "                                     Unnamed: 0            image_name  \\\n",
       "image_path                                                              \n",
       "data/76809/768097808037605376-1.jpg           0  768097808037605376-1   \n",
       "data/76809/768097833215938560-1.jpg           1  768097833215938560-1   \n",
       "data/76809/768097929659817984-1.jpg           2  768097929659817984-1   \n",
       "data/76809/768097929659817984-2.jpg           3  768097929659817984-2   \n",
       "data/76809/768097929659817984-3.jpg           4  768097929659817984-3   \n",
       "...                                         ...                   ...   \n",
       "data/80461/804618699315539969-1.jpg      470581  804618699315539969-1   \n",
       "data/80461/804618854466981888-1.jpg      470582  804618854466981888-1   \n",
       "data/80461/804619265546387457-1.jpg      470583  804619265546387457-1   \n",
       "data/80461/804619315861393408-1.jpg      470584  804619315861393408-1   \n",
       "data/80461/804619403946000384-1.jpg      470585  804619403946000384-1   \n",
       "\n",
       "                                          NEG       NEU       POS  \\\n",
       "image_path                                                          \n",
       "data/76809/768097808037605376-1.jpg  0.919993  0.055681  0.024326   \n",
       "data/76809/768097833215938560-1.jpg  0.864726  0.058440  0.076834   \n",
       "data/76809/768097929659817984-1.jpg  0.907574  0.061396  0.031029   \n",
       "data/76809/768097929659817984-2.jpg  0.907574  0.061396  0.031029   \n",
       "data/76809/768097929659817984-3.jpg  0.907574  0.061396  0.031029   \n",
       "...                                       ...       ...       ...   \n",
       "data/80461/804618699315539969-1.jpg  0.453963  0.387611  0.158427   \n",
       "data/80461/804618854466981888-1.jpg  0.651498  0.208690  0.139812   \n",
       "data/80461/804619265546387457-1.jpg  0.473848  0.382078  0.144074   \n",
       "data/80461/804619315861393408-1.jpg  0.402850  0.337901  0.259249   \n",
       "data/80461/804619403946000384-1.jpg  0.694700  0.182601  0.122700   \n",
       "\n",
       "                                                                                  text  \\\n",
       "image_path                                                                               \n",
       "data/76809/768097808037605376-1.jpg  RT @hoseokahhh: \"who is this song forwhat do i...   \n",
       "data/76809/768097833215938560-1.jpg  RT @ARapperSaid_: “I ain’t come over here for ...   \n",
       "data/76809/768097929659817984-1.jpg  RT @blackedfriction: i hate telling people i l...   \n",
       "data/76809/768097929659817984-2.jpg  RT @blackedfriction: i hate telling people i l...   \n",
       "data/76809/768097929659817984-3.jpg  RT @blackedfriction: i hate telling people i l...   \n",
       "...                                                                                ...   \n",
       "data/80461/804618699315539969-1.jpg  Chances not to loose&gt;&gt;&gt;https://t.co/j...   \n",
       "data/80461/804618854466981888-1.jpg  Don't hear this much  RT @phillynewsnow: Lyft ...   \n",
       "data/80461/804619265546387457-1.jpg  Security agencies threaten to assassinate me –...   \n",
       "data/80461/804619315861393408-1.jpg  Kill my trusted old assistant? Why, no. I'm go...   \n",
       "data/80461/804619403946000384-1.jpg  It’s cold outside: Winter-Essentials. - https:...   \n",
       "\n",
       "                                    sent_text  sent_image  image_height  \\\n",
       "image_path                                                                \n",
       "data/76809/768097808037605376-1.jpg       NEG           0           449   \n",
       "data/76809/768097833215938560-1.jpg       NEG           0           398   \n",
       "data/76809/768097929659817984-1.jpg       NEG           0           489   \n",
       "data/76809/768097929659817984-2.jpg       NEG           0           983   \n",
       "data/76809/768097929659817984-3.jpg       NEG           0          1326   \n",
       "...                                       ...         ...           ...   \n",
       "data/80461/804618699315539969-1.jpg       NEG           0           183   \n",
       "data/80461/804618854466981888-1.jpg       NEG           0           675   \n",
       "data/80461/804619265546387457-1.jpg       NEG           0           682   \n",
       "data/80461/804619315861393408-1.jpg       NEG           0           458   \n",
       "data/80461/804619403946000384-1.jpg       NEG           0           825   \n",
       "\n",
       "                                     image_width  \n",
       "image_path                                        \n",
       "data/76809/768097808037605376-1.jpg          449  \n",
       "data/76809/768097833215938560-1.jpg          593  \n",
       "data/76809/768097929659817984-1.jpg         1132  \n",
       "data/76809/768097929659817984-2.jpg         1123  \n",
       "data/76809/768097929659817984-3.jpg         1110  \n",
       "...                                          ...  \n",
       "data/80461/804618699315539969-1.jpg          275  \n",
       "data/80461/804618854466981888-1.jpg         1200  \n",
       "data/80461/804619265546387457-1.jpg         1024  \n",
       "data/80461/804619315861393408-1.jpg          626  \n",
       "data/80461/804619403946000384-1.jpg          607  \n",
       "\n",
       "[470586 rows x 10 columns]"
      ]
     },
     "execution_count": 18,
     "metadata": {},
     "output_type": "execute_result"
    }
   ],
   "source": [
    "df512 = df512.set_index(\"image_path\")\n",
    "df512 "
   ]
  },
  {
   "cell_type": "code",
   "execution_count": 19,
   "metadata": {},
   "outputs": [
    {
     "data": {
      "text/html": [
       "<div>\n",
       "<style scoped>\n",
       "    .dataframe tbody tr th:only-of-type {\n",
       "        vertical-align: middle;\n",
       "    }\n",
       "\n",
       "    .dataframe tbody tr th {\n",
       "        vertical-align: top;\n",
       "    }\n",
       "\n",
       "    .dataframe thead th {\n",
       "        text-align: right;\n",
       "    }\n",
       "</style>\n",
       "<table border=\"1\" class=\"dataframe\">\n",
       "  <thead>\n",
       "    <tr style=\"text-align: right;\">\n",
       "      <th></th>\n",
       "      <th>image_path</th>\n",
       "      <th>grupo</th>\n",
       "      <th>Unnamed: 0</th>\n",
       "      <th>image_name</th>\n",
       "      <th>NEG</th>\n",
       "      <th>NEU</th>\n",
       "      <th>POS</th>\n",
       "      <th>text</th>\n",
       "      <th>sent_text</th>\n",
       "      <th>sent_image</th>\n",
       "      <th>image_height</th>\n",
       "      <th>image_width</th>\n",
       "    </tr>\n",
       "  </thead>\n",
       "  <tbody>\n",
       "    <tr>\n",
       "      <th>0</th>\n",
       "      <td>data/78476/784760943188189184-1.jpg</td>\n",
       "      <td>train</td>\n",
       "      <td>339053</td>\n",
       "      <td>784760943188189184-1</td>\n",
       "      <td>0.855467</td>\n",
       "      <td>0.079337</td>\n",
       "      <td>0.065196</td>\n",
       "      <td>this sounds depressing to me, a cat lover, htt...</td>\n",
       "      <td>NEG</td>\n",
       "      <td>0</td>\n",
       "      <td>452</td>\n",
       "      <td>1206</td>\n",
       "    </tr>\n",
       "    <tr>\n",
       "      <th>1</th>\n",
       "      <td>data/78226/782267072923525120-1.jpg</td>\n",
       "      <td>train</td>\n",
       "      <td>223402</td>\n",
       "      <td>782267072923525120-1</td>\n",
       "      <td>0.004412</td>\n",
       "      <td>0.020115</td>\n",
       "      <td>0.975473</td>\n",
       "      <td>Jerry is having lunch with a view today! It's ...</td>\n",
       "      <td>POS</td>\n",
       "      <td>2</td>\n",
       "      <td>1024</td>\n",
       "      <td>1024</td>\n",
       "    </tr>\n",
       "    <tr>\n",
       "      <th>2</th>\n",
       "      <td>data/80180/801804526848278529-1.jpg</td>\n",
       "      <td>train</td>\n",
       "      <td>432621</td>\n",
       "      <td>801804526848278529-1</td>\n",
       "      <td>0.506770</td>\n",
       "      <td>0.076925</td>\n",
       "      <td>0.416305</td>\n",
       "      <td>My favorite dancer that I didn't give birth to...</td>\n",
       "      <td>NEG</td>\n",
       "      <td>0</td>\n",
       "      <td>960</td>\n",
       "      <td>720</td>\n",
       "    </tr>\n",
       "    <tr>\n",
       "      <th>3</th>\n",
       "      <td>data/76927/769271101667016704-3.jpg</td>\n",
       "      <td>train</td>\n",
       "      <td>48426</td>\n",
       "      <td>769271101667016704-3</td>\n",
       "      <td>0.022343</td>\n",
       "      <td>0.088038</td>\n",
       "      <td>0.889619</td>\n",
       "      <td>Happy #Frankfriday https://t.co/UFrAcCuM2K</td>\n",
       "      <td>POS</td>\n",
       "      <td>2</td>\n",
       "      <td>769</td>\n",
       "      <td>500</td>\n",
       "    </tr>\n",
       "    <tr>\n",
       "      <th>4</th>\n",
       "      <td>data/79618/796181957453512704-1.jpg</td>\n",
       "      <td>train</td>\n",
       "      <td>352093</td>\n",
       "      <td>796181957453512704-1</td>\n",
       "      <td>0.559047</td>\n",
       "      <td>0.276885</td>\n",
       "      <td>0.164069</td>\n",
       "      <td>Gross. https://t.co/u9Nx5Vsqym</td>\n",
       "      <td>NEG</td>\n",
       "      <td>0</td>\n",
       "      <td>550</td>\n",
       "      <td>968</td>\n",
       "    </tr>\n",
       "    <tr>\n",
       "      <th>...</th>\n",
       "      <td>...</td>\n",
       "      <td>...</td>\n",
       "      <td>...</td>\n",
       "      <td>...</td>\n",
       "      <td>...</td>\n",
       "      <td>...</td>\n",
       "      <td>...</td>\n",
       "      <td>...</td>\n",
       "      <td>...</td>\n",
       "      <td>...</td>\n",
       "      <td>...</td>\n",
       "      <td>...</td>\n",
       "    </tr>\n",
       "    <tr>\n",
       "      <th>470581</th>\n",
       "      <td>data/76918/769186708067876864-1.jpg</td>\n",
       "      <td>test</td>\n",
       "      <td>28655</td>\n",
       "      <td>769186708067876864-1</td>\n",
       "      <td>0.963062</td>\n",
       "      <td>0.029000</td>\n",
       "      <td>0.007938</td>\n",
       "      <td>When Ashton Kutcher was 13 he almost committed...</td>\n",
       "      <td>NEG</td>\n",
       "      <td>0</td>\n",
       "      <td>373</td>\n",
       "      <td>646</td>\n",
       "    </tr>\n",
       "    <tr>\n",
       "      <th>470582</th>\n",
       "      <td>data/78112/781129758017019904-1.jpg</td>\n",
       "      <td>test</td>\n",
       "      <td>163922</td>\n",
       "      <td>781129758017019904-1</td>\n",
       "      <td>0.037230</td>\n",
       "      <td>0.078174</td>\n",
       "      <td>0.884596</td>\n",
       "      <td>As I Like¡ Beautiful Eyes and Fleshy Pussy #Em...</td>\n",
       "      <td>POS</td>\n",
       "      <td>2</td>\n",
       "      <td>896</td>\n",
       "      <td>640</td>\n",
       "    </tr>\n",
       "    <tr>\n",
       "      <th>470583</th>\n",
       "      <td>data/78166/781662543689515058-1.jpg</td>\n",
       "      <td>test</td>\n",
       "      <td>193186</td>\n",
       "      <td>781662543689515058-1</td>\n",
       "      <td>0.029257</td>\n",
       "      <td>0.853053</td>\n",
       "      <td>0.117690</td>\n",
       "      <td>✴ Short Imagine - Jimin ✴             🔥Hot🔥 ht...</td>\n",
       "      <td>NEU</td>\n",
       "      <td>1</td>\n",
       "      <td>701</td>\n",
       "      <td>555</td>\n",
       "    </tr>\n",
       "    <tr>\n",
       "      <th>470584</th>\n",
       "      <td>data/78243/782431204448567296-1.jpg</td>\n",
       "      <td>test</td>\n",
       "      <td>231660</td>\n",
       "      <td>782431204448567296-1</td>\n",
       "      <td>0.010773</td>\n",
       "      <td>0.070125</td>\n",
       "      <td>0.919102</td>\n",
       "      <td>A salute to the legend for his contribution to...</td>\n",
       "      <td>POS</td>\n",
       "      <td>2</td>\n",
       "      <td>1200</td>\n",
       "      <td>1200</td>\n",
       "    </tr>\n",
       "    <tr>\n",
       "      <th>470585</th>\n",
       "      <td>data/76866/768667704907694080-1.jpg</td>\n",
       "      <td>test</td>\n",
       "      <td>5912</td>\n",
       "      <td>768667704907694080-1</td>\n",
       "      <td>0.922792</td>\n",
       "      <td>0.042728</td>\n",
       "      <td>0.034480</td>\n",
       "      <td>RT @Regaulity: Though our people have fought f...</td>\n",
       "      <td>NEG</td>\n",
       "      <td>0</td>\n",
       "      <td>236</td>\n",
       "      <td>236</td>\n",
       "    </tr>\n",
       "  </tbody>\n",
       "</table>\n",
       "<p>470586 rows × 12 columns</p>\n",
       "</div>"
      ],
      "text/plain": [
       "                                 image_path  grupo  Unnamed: 0  \\\n",
       "0       data/78476/784760943188189184-1.jpg  train      339053   \n",
       "1       data/78226/782267072923525120-1.jpg  train      223402   \n",
       "2       data/80180/801804526848278529-1.jpg  train      432621   \n",
       "3       data/76927/769271101667016704-3.jpg  train       48426   \n",
       "4       data/79618/796181957453512704-1.jpg  train      352093   \n",
       "...                                     ...    ...         ...   \n",
       "470581  data/76918/769186708067876864-1.jpg   test       28655   \n",
       "470582  data/78112/781129758017019904-1.jpg   test      163922   \n",
       "470583  data/78166/781662543689515058-1.jpg   test      193186   \n",
       "470584  data/78243/782431204448567296-1.jpg   test      231660   \n",
       "470585  data/76866/768667704907694080-1.jpg   test        5912   \n",
       "\n",
       "                  image_name       NEG       NEU       POS  \\\n",
       "0       784760943188189184-1  0.855467  0.079337  0.065196   \n",
       "1       782267072923525120-1  0.004412  0.020115  0.975473   \n",
       "2       801804526848278529-1  0.506770  0.076925  0.416305   \n",
       "3       769271101667016704-3  0.022343  0.088038  0.889619   \n",
       "4       796181957453512704-1  0.559047  0.276885  0.164069   \n",
       "...                      ...       ...       ...       ...   \n",
       "470581  769186708067876864-1  0.963062  0.029000  0.007938   \n",
       "470582  781129758017019904-1  0.037230  0.078174  0.884596   \n",
       "470583  781662543689515058-1  0.029257  0.853053  0.117690   \n",
       "470584  782431204448567296-1  0.010773  0.070125  0.919102   \n",
       "470585  768667704907694080-1  0.922792  0.042728  0.034480   \n",
       "\n",
       "                                                     text sent_text  \\\n",
       "0       this sounds depressing to me, a cat lover, htt...       NEG   \n",
       "1       Jerry is having lunch with a view today! It's ...       POS   \n",
       "2       My favorite dancer that I didn't give birth to...       NEG   \n",
       "3              Happy #Frankfriday https://t.co/UFrAcCuM2K       POS   \n",
       "4                          Gross. https://t.co/u9Nx5Vsqym       NEG   \n",
       "...                                                   ...       ...   \n",
       "470581  When Ashton Kutcher was 13 he almost committed...       NEG   \n",
       "470582  As I Like¡ Beautiful Eyes and Fleshy Pussy #Em...       POS   \n",
       "470583  ✴ Short Imagine - Jimin ✴             🔥Hot🔥 ht...       NEU   \n",
       "470584  A salute to the legend for his contribution to...       POS   \n",
       "470585  RT @Regaulity: Though our people have fought f...       NEG   \n",
       "\n",
       "        sent_image  image_height  image_width  \n",
       "0                0           452         1206  \n",
       "1                2          1024         1024  \n",
       "2                0           960          720  \n",
       "3                2           769          500  \n",
       "4                0           550          968  \n",
       "...            ...           ...          ...  \n",
       "470581           0           373          646  \n",
       "470582           2           896          640  \n",
       "470583           1           701          555  \n",
       "470584           2          1200         1200  \n",
       "470585           0           236          236  \n",
       "\n",
       "[470586 rows x 12 columns]"
      ]
     },
     "execution_count": 19,
     "metadata": {},
     "output_type": "execute_result"
    }
   ],
   "source": [
    "df = pd.concat([df_aux, df512 ], axis=1)\n",
    "df = df.reset_index()\n",
    "df = df.rename(columns={\"index\": \"image_path\"})\n",
    "df"
   ]
  },
  {
   "cell_type": "markdown",
   "metadata": {},
   "source": [
    "Drop das imagens e seus tweets correspondentes com tamanho menor que width e height."
   ]
  },
  {
   "cell_type": "code",
   "execution_count": 20,
   "metadata": {},
   "outputs": [
    {
     "name": "stdout",
     "output_type": "stream",
     "text": [
      "Novos valores de Treino, teste e validação.\n"
     ]
    },
    {
     "data": {
      "text/plain": [
       "train    362405\n",
       "val       50193\n",
       "test      50138\n",
       "Name: grupo, dtype: int64"
      ]
     },
     "execution_count": 20,
     "metadata": {},
     "output_type": "execute_result"
    }
   ],
   "source": [
    "width = 128\n",
    "height = 128\n",
    "channels = 3\n",
    "df = df[(df[\"image_height\"]>=height) &(df[\"image_width\"]>=width)]\n",
    "print(\"Novos valores de Treino, teste e validação.\")\n",
    "df[(df[\"image_height\"]>=height) &(df[\"image_width\"]>=width)][\"grupo\"].value_counts()"
   ]
  },
  {
   "cell_type": "code",
   "execution_count": 21,
   "metadata": {},
   "outputs": [],
   "source": [
    "x_train = df[df[\"grupo\"]==\"train\"]\n",
    "x_test = df[df[\"grupo\"]==\"test\"]\n",
    "x_val = df[df[\"grupo\"]==\"val\"]\n",
    "\n",
    "y_train =  x_train['sent_image'].tolist()\n",
    "y_val =  x_val['sent_image'].tolist()\n",
    "y_test =  x_test['sent_image'].tolist()"
   ]
  },
  {
   "cell_type": "code",
   "execution_count": 22,
   "metadata": {},
   "outputs": [],
   "source": [
    "#tokenização\n",
    "t  = Tokenizer()\n",
    "t.fit_on_texts(df512['text'].tolist())\n",
    "\n",
    "#Bi-LSTM\n",
    "x_train_BiLSTM = t.texts_to_sequences(x_train['text'].tolist())\n",
    "x_val_BiLSTM = t.texts_to_sequences(x_val['text'].tolist())\n",
    "x_test_BiLSTM = t.texts_to_sequences(x_test['text'].tolist())\n",
    "\n",
    "#VADER\n",
    "x_test_VADER = x_test[\"text\"]\n",
    "\n",
    "##VGG19\n",
    "x_train = ['./Dataset/b-t4sa_imgs/' + fname for fname in x_train['image_path'].tolist()]\n",
    "x_val = ['./Dataset/b-t4sa_imgs/' + fname for fname in x_val['image_path'].tolist()]\n",
    "x_test = ['./Dataset/b-t4sa_imgs/' + fname for fname in x_test['image_path'].tolist()]\n",
    " "
   ]
  },
  {
   "cell_type": "code",
   "execution_count": 23,
   "metadata": {},
   "outputs": [],
   "source": [
    "#Mudando o formato para suporta o softmax na rede\n",
    "#saindo do formato [2] para [0,0,1]\n",
    "y_train = to_categorical(y_train, num_classes=3)\n",
    "#y_test = to_categorical(y_test, num_classes=3)\n",
    "\n",
    "y_val = to_categorical(y_val, num_classes=3)"
   ]
  },
  {
   "cell_type": "markdown",
   "metadata": {},
   "source": [
    "## VADER"
   ]
  },
  {
   "cell_type": "code",
   "execution_count": 24,
   "metadata": {},
   "outputs": [],
   "source": [
    "def tweet_to_VADER_sentiment(tweet):\n",
    "\n",
    "    sid_obj = SentimentIntensityAnalyzer()\n",
    "    \n",
    "    text = re.sub(\"@[A-Za-z0-9_]+\",\"\", tweet) #remove menções\n",
    "    text = re.sub(\"#[A-Za-z0-9_]+\",\"\", text)  # remove hashtag\n",
    "   \n",
    "    text = re.sub(\"^\\d+\\s|\\s\\d+\\s|\\s\\d+$\", \" \", text)\n",
    "    text = re.sub(r\"(?:\\@|http?\\://|https?\\://|www)\\S+\", \"\", text) \n",
    "    words = word_tokenize(text)\n",
    "    \n",
    "    words = [w for w in words if w not in stopwords.words(\"english\")]\n",
    "\n",
    "    sentiment_dict = sid_obj.polarity_scores(tweet)\n",
    "\n",
    "        # decide sentiment as positive, negative and neutral\n",
    "    if sentiment_dict['compound'] >= 0.05 :\n",
    "        return 2\n",
    " \n",
    "    elif sentiment_dict['compound'] <= - 0.05 :\n",
    "        return  0\n",
    " \n",
    "    else :\n",
    "        return 1"
   ]
  },
  {
   "cell_type": "markdown",
   "metadata": {},
   "source": [
    "Predição do VADER"
   ]
  },
  {
   "cell_type": "code",
   "execution_count": 25,
   "metadata": {},
   "outputs": [],
   "source": [
    "y_pred_VADER = [tweet_to_VADER_sentiment(i) for i in x_test_VADER]"
   ]
  },
  {
   "cell_type": "markdown",
   "metadata": {},
   "source": [
    "## Bi-LSTM\n"
   ]
  },
  {
   "cell_type": "code",
   "execution_count": 26,
   "metadata": {},
   "outputs": [],
   "source": [
    "maxlen = 100\n",
    "max_features = 10000\n",
    "x_train_BiLSTM = keras.preprocessing.sequence.pad_sequences(x_train_BiLSTM, maxlen=maxlen)\n",
    "x_val_BiLSTM = keras.preprocessing.sequence.pad_sequences(x_val_BiLSTM, maxlen=maxlen)\n",
    "x_test_BiLSTM = keras.preprocessing.sequence.pad_sequences(x_test_BiLSTM, maxlen=maxlen)"
   ]
  },
  {
   "cell_type": "code",
   "execution_count": 27,
   "metadata": {},
   "outputs": [
    {
     "data": {
      "text/plain": [
       "0"
      ]
     },
     "execution_count": 27,
     "metadata": {},
     "output_type": "execute_result"
    }
   ],
   "source": [
    "#Para limpar memória\n",
    "tf.keras.backend.clear_session()\n",
    "gc.collect()"
   ]
  },
  {
   "cell_type": "code",
   "execution_count": 28,
   "metadata": {},
   "outputs": [
    {
     "data": {
      "text/plain": [
       "100"
      ]
     },
     "execution_count": 28,
     "metadata": {},
     "output_type": "execute_result"
    }
   ],
   "source": [
    "#Para limpar memória\n",
    "tf.keras.backend.clear_session()\n",
    "gc.collect()"
   ]
  },
  {
   "cell_type": "code",
   "execution_count": 29,
   "metadata": {},
   "outputs": [
    {
     "data": {
      "text/plain": [
       "100"
      ]
     },
     "execution_count": 29,
     "metadata": {},
     "output_type": "execute_result"
    }
   ],
   "source": [
    "#Para limpar memória\n",
    "tf.keras.backend.clear_session()\n",
    "gc.collect()"
   ]
  },
  {
   "cell_type": "code",
   "execution_count": 30,
   "metadata": {},
   "outputs": [
    {
     "name": "stdout",
     "output_type": "stream",
     "text": [
      "Model: \"model\"\n",
      "_________________________________________________________________\n",
      " Layer (type)                Output Shape              Param #   \n",
      "=================================================================\n",
      " input_1 (InputLayer)        [(None, None)]            0         \n",
      "                                                                 \n",
      " embedding (Embedding)       (None, None, 128)         1280000   \n",
      "                                                                 \n",
      " bidirectional (Bidirectiona  (None, None, 128)        98816     \n",
      " l)                                                              \n",
      "                                                                 \n",
      " bidirectional_1 (Bidirectio  (None, 128)              98816     \n",
      " nal)                                                            \n",
      "                                                                 \n",
      " dense (Dense)               (None, 3)                 387       \n",
      "                                                                 \n",
      "=================================================================\n",
      "Total params: 1,478,019\n",
      "Trainable params: 1,478,019\n",
      "Non-trainable params: 0\n",
      "_________________________________________________________________\n"
     ]
    }
   ],
   "source": [
    "#Arquitetura base da página https://keras.io/examples/nlp/bidirectional_lstm_imdb/\n",
    "#Modificação feita na saida (3) e na acitivação da saida (solftmax)\n",
    "\n",
    "\n",
    "inputs = keras.Input(shape=(None,), dtype=\"int32\")\n",
    "\n",
    "x = layers.Embedding(max_features, 128)(inputs)\n",
    "\n",
    "x = layers.Bidirectional(layers.LSTM(64, return_sequences=True))(x)\n",
    "x = layers.Bidirectional(layers.LSTM(64))(x)\n",
    "\n",
    "outputs = layers.Dense(3, activation=\"softmax\")(x)\n",
    "model = keras.Model(inputs, outputs)\n",
    "model.summary()"
   ]
  },
  {
   "cell_type": "code",
   "execution_count": 31,
   "metadata": {},
   "outputs": [
    {
     "name": "stdout",
     "output_type": "stream",
     "text": [
      "Epoch 1/20\n",
      "1209/1209 [==============================] - 51s 36ms/step - loss: 0.2228 - accuracy: 0.9176 - val_loss: 0.1547 - val_accuracy: 0.9463\n",
      "Epoch 2/20\n",
      "1209/1209 [==============================] - 44s 36ms/step - loss: 0.1303 - accuracy: 0.9558 - val_loss: 0.1361 - val_accuracy: 0.9537\n",
      "Epoch 3/20\n",
      "1209/1209 [==============================] - 44s 36ms/step - loss: 0.1098 - accuracy: 0.9627 - val_loss: 0.1330 - val_accuracy: 0.9552\n",
      "Epoch 4/20\n",
      "1209/1209 [==============================] - ETA: 0s - loss: 0.0923 - accuracy: 0.9685Restoring model weights from the end of the best epoch: 3.\n",
      "1209/1209 [==============================] - 44s 36ms/step - loss: 0.0923 - accuracy: 0.9685 - val_loss: 0.1337 - val_accuracy: 0.9556\n",
      "Epoch 00004: early stopping\n"
     ]
    }
   ],
   "source": [
    "#Compilando com lr de 0.001\n",
    "model.compile(Adam(learning_rate=0.001), \"categorical_crossentropy\", metrics=[\"accuracy\"])\n",
    "\n",
    "#fazneodo early top quando o loss da validação aumentar\n",
    "es = EarlyStopping(monitor='val_loss', verbose=1, patience=1,restore_best_weights=True)\n",
    "\n",
    "#treinando\n",
    "history_BiLSTM = model.fit(x_train_BiLSTM, y_train, batch_size=300, epochs=20, validation_data=(x_val_BiLSTM, y_val),callbacks=[es])"
   ]
  },
  {
   "cell_type": "markdown",
   "metadata": {},
   "source": [
    "Predição do Bi-LSTM"
   ]
  },
  {
   "cell_type": "code",
   "execution_count": 32,
   "metadata": {},
   "outputs": [],
   "source": [
    "y_pred_BiLSTM = model.predict(x_test_BiLSTM)\n",
    "y_pred_BiLSTM =(y_pred_BiLSTM>0.5)\n",
    "y_pred_BiLSTM = np.argmax(y_pred_BiLSTM, axis=-1)\n"
   ]
  },
  {
   "cell_type": "markdown",
   "metadata": {},
   "source": [
    "## VGG19 adaptada"
   ]
  },
  {
   "cell_type": "code",
   "execution_count": 33,
   "metadata": {},
   "outputs": [
    {
     "data": {
      "text/plain": [
       "2592"
      ]
     },
     "execution_count": 33,
     "metadata": {},
     "output_type": "execute_result"
    }
   ],
   "source": [
    "#Para limpar memória\n",
    "tf.keras.backend.clear_session()\n",
    "gc.collect()"
   ]
  },
  {
   "cell_type": "code",
   "execution_count": 34,
   "metadata": {},
   "outputs": [
    {
     "data": {
      "text/plain": [
       "100"
      ]
     },
     "execution_count": 34,
     "metadata": {},
     "output_type": "execute_result"
    }
   ],
   "source": [
    "#Para limpar memória\n",
    "tf.keras.backend.clear_session()\n",
    "gc.collect()"
   ]
  },
  {
   "cell_type": "code",
   "execution_count": 35,
   "metadata": {},
   "outputs": [
    {
     "data": {
      "text/plain": [
       "100"
      ]
     },
     "execution_count": 35,
     "metadata": {},
     "output_type": "execute_result"
    }
   ],
   "source": [
    "#Para limpar memória\n",
    "tf.keras.backend.clear_session()\n",
    "gc.collect()"
   ]
  },
  {
   "cell_type": "code",
   "execution_count": 36,
   "metadata": {},
   "outputs": [
    {
     "name": "stdout",
     "output_type": "stream",
     "text": [
      "Model: \"vgg19\"\n",
      "_________________________________________________________________\n",
      " Layer (type)                Output Shape              Param #   \n",
      "=================================================================\n",
      " input_1 (InputLayer)        [(None, 128, 128, 3)]     0         \n",
      "                                                                 \n",
      " block1_conv1 (Conv2D)       (None, 128, 128, 64)      1792      \n",
      "                                                                 \n",
      " block1_conv2 (Conv2D)       (None, 128, 128, 64)      36928     \n",
      "                                                                 \n",
      " block1_pool (MaxPooling2D)  (None, 64, 64, 64)        0         \n",
      "                                                                 \n",
      " block2_conv1 (Conv2D)       (None, 64, 64, 128)       73856     \n",
      "                                                                 \n",
      " block2_conv2 (Conv2D)       (None, 64, 64, 128)       147584    \n",
      "                                                                 \n",
      " block2_pool (MaxPooling2D)  (None, 32, 32, 128)       0         \n",
      "                                                                 \n",
      " block3_conv1 (Conv2D)       (None, 32, 32, 256)       295168    \n",
      "                                                                 \n",
      " block3_conv2 (Conv2D)       (None, 32, 32, 256)       590080    \n",
      "                                                                 \n",
      " block3_conv3 (Conv2D)       (None, 32, 32, 256)       590080    \n",
      "                                                                 \n",
      " block3_conv4 (Conv2D)       (None, 32, 32, 256)       590080    \n",
      "                                                                 \n",
      " block3_pool (MaxPooling2D)  (None, 16, 16, 256)       0         \n",
      "                                                                 \n",
      " block4_conv1 (Conv2D)       (None, 16, 16, 512)       1180160   \n",
      "                                                                 \n",
      " block4_conv2 (Conv2D)       (None, 16, 16, 512)       2359808   \n",
      "                                                                 \n",
      " block4_conv3 (Conv2D)       (None, 16, 16, 512)       2359808   \n",
      "                                                                 \n",
      " block4_conv4 (Conv2D)       (None, 16, 16, 512)       2359808   \n",
      "                                                                 \n",
      " block4_pool (MaxPooling2D)  (None, 8, 8, 512)         0         \n",
      "                                                                 \n",
      " block5_conv1 (Conv2D)       (None, 8, 8, 512)         2359808   \n",
      "                                                                 \n",
      " block5_conv2 (Conv2D)       (None, 8, 8, 512)         2359808   \n",
      "                                                                 \n",
      " block5_conv3 (Conv2D)       (None, 8, 8, 512)         2359808   \n",
      "                                                                 \n",
      " block5_conv4 (Conv2D)       (None, 8, 8, 512)         2359808   \n",
      "                                                                 \n",
      " block5_pool (MaxPooling2D)  (None, 4, 4, 512)         0         \n",
      "                                                                 \n",
      "=================================================================\n",
      "Total params: 20,024,384\n",
      "Trainable params: 20,024,384\n",
      "Non-trainable params: 0\n",
      "_________________________________________________________________\n"
     ]
    }
   ],
   "source": [
    "base_model = VGG19(weights=None, include_top=False, input_shape=(width, height, channels))\n",
    "base_model.summary()"
   ]
  },
  {
   "cell_type": "code",
   "execution_count": 37,
   "metadata": {},
   "outputs": [
    {
     "name": "stdout",
     "output_type": "stream",
     "text": [
      "Model: \"sequential\"\n",
      "_________________________________________________________________\n",
      " Layer (type)                Output Shape              Param #   \n",
      "=================================================================\n",
      " vgg19 (Functional)          (None, 4, 4, 512)         20024384  \n",
      "                                                                 \n",
      " flatten (Flatten)           (None, 8192)              0         \n",
      "                                                                 \n",
      " dense (Dense)               (None, 1028)              8422404   \n",
      "                                                                 \n",
      " dense_1 (Dense)             (None, 1028)              1057812   \n",
      "                                                                 \n",
      " dense_2 (Dense)             (None, 3)                 3087      \n",
      "                                                                 \n",
      "=================================================================\n",
      "Total params: 29,507,687\n",
      "Trainable params: 29,507,687\n",
      "Non-trainable params: 0\n",
      "_________________________________________________________________\n"
     ]
    }
   ],
   "source": [
    "flatten_layer = layers.Flatten()\n",
    "dense1 = layers.Dense(1028, activation='relu')\n",
    "dense2 = layers.Dense(1028, activation='relu')\n",
    "prediction_layer = layers.Dense(3, activation='softmax')\n",
    "\n",
    "\n",
    "model = models.Sequential([\n",
    "    base_model,\n",
    "    flatten_layer,\n",
    "    dense1,\n",
    "    dense2,\n",
    "    prediction_layer\n",
    "])\n",
    "model.summary()"
   ]
  },
  {
   "cell_type": "code",
   "execution_count": 38,
   "metadata": {},
   "outputs": [],
   "source": [
    "opt = tf.keras.optimizers.Adam(learning_rate=0.000002)\n",
    "\n",
    "model.compile(\n",
    "    optimizer=opt,\n",
    "    loss='categorical_crossentropy',\n",
    "    metrics=['accuracy'],\n",
    ")"
   ]
  },
  {
   "cell_type": "code",
   "execution_count": 39,
   "metadata": {},
   "outputs": [],
   "source": [
    "#busca os dados que estão listados em train_filenames\n",
    "import random\n",
    "def generate_data(train_filenames,train_labels, batch_size,width, height,channels):\n",
    "    dim = (width, height)\n",
    "    while True:\n",
    "        \n",
    "        mistura = list(zip(train_filenames, train_labels))\n",
    "        random.shuffle(mistura)\n",
    "        train_filenames, train_labels = zip(*mistura)\n",
    "        \n",
    "        for i in range(0,len(train_filenames),batch_size):\n",
    "            \n",
    "            if  i+batch_size > len(train_filenames):\n",
    "                bs = len(train_filenames)%batch_size\n",
    "            else:\n",
    "                bs = batch_size\n",
    "            \n",
    "            X_train = np.zeros((int(bs), width, height, channels))\n",
    "            aux =0\n",
    "\n",
    "            dim = (width, height)\n",
    "\n",
    "            for j in train_filenames[i:i+ bs]:\n",
    "                X_train[aux] =  np.asarray(cv2.resize(cv2.imread(j), dim, interpolation = cv2.INTER_AREA) )\n",
    "                aux = aux + 1\n",
    "                \n",
    "            #img = X_train.reshape(( X_train.shape[0],) +(width, height,channels)).astype('float32') / 255.\n",
    "            img = preprocess_input( X_train) \n",
    "            \n",
    "            yield (img, np.array(train_labels[i:i+ bs]))"
   ]
  },
  {
   "cell_type": "code",
   "execution_count": 40,
   "metadata": {},
   "outputs": [
    {
     "data": {
      "text/plain": [
       "(10067, 1395, 36)"
      ]
     },
     "execution_count": 40,
     "metadata": {},
     "output_type": "execute_result"
    }
   ],
   "source": [
    "#dobra para 48 pra vê se tanka\n",
    "\n",
    "batch_size=36\n",
    "\n",
    "validation_steps = int(len(x_val)/batch_size)+(0 if len(x_val)%batch_size==0 else 1)\n",
    "steps_per_epoch = int(len(x_train)/batch_size)+(0 if len(x_train)%batch_size==0 else 1)\n",
    "steps_per_epoch,validation_steps,batch_size"
   ]
  },
  {
   "cell_type": "code",
   "execution_count": 41,
   "metadata": {},
   "outputs": [
    {
     "name": "stdout",
     "output_type": "stream",
     "text": [
      "Epoch 1/500\n",
      "10067/10067 [==============================] - 11547s 1s/step - loss: 1.0794 - accuracy: 0.4019 - val_loss: 1.0716 - val_accuracy: 0.4142\n",
      "Epoch 2/500\n",
      "10067/10067 [==============================] - 8040s 799ms/step - loss: 1.0640 - accuracy: 0.4276 - val_loss: 1.0626 - val_accuracy: 0.4267\n",
      "Epoch 3/500\n",
      "10067/10067 [==============================] - 8022s 797ms/step - loss: 1.0562 - accuracy: 0.4388 - val_loss: 1.0615 - val_accuracy: 0.4310\n",
      "Epoch 4/500\n",
      "10067/10067 [==============================] - 8020s 797ms/step - loss: 1.0507 - accuracy: 0.4451 - val_loss: 1.0565 - val_accuracy: 0.4394\n",
      "Epoch 5/500\n",
      "10067/10067 [==============================] - 8018s 797ms/step - loss: 1.0447 - accuracy: 0.4521 - val_loss: 1.0518 - val_accuracy: 0.4426\n",
      "Epoch 6/500\n",
      "10067/10067 [==============================] - 8014s 796ms/step - loss: 1.0385 - accuracy: 0.4594 - val_loss: 1.0611 - val_accuracy: 0.4433\n"
     ]
    }
   ],
   "source": [
    "es = EarlyStopping(monitor='val_loss', patience=1,  restore_best_weights=True)\n",
    "epocas = 500\n",
    "\n",
    "history_VGG19 = model.fit( generate_data(x_train, y_train, batch_size,width, height,channels),\n",
    "          validation_steps=validation_steps,steps_per_epoch=steps_per_epoch,\n",
    "          callbacks=[es], batch_size=batch_size,  epochs=epocas,\n",
    "          validation_data=generate_data(x_val,y_val, batch_size,width, height,channels))"
   ]
  },
  {
   "cell_type": "code",
   "execution_count": 42,
   "metadata": {},
   "outputs": [],
   "source": [
    "##generator para teste pra tankar com rede maior\n",
    "def generate_data_teste(train_filenames, batch_size,width, height,channels):\n",
    "    dim = (width, height)\n",
    "    while True:\n",
    "        \n",
    "        \n",
    "        for i in range(0,len(train_filenames),batch_size):\n",
    "            \n",
    "            if  i+batch_size > len(train_filenames):\n",
    "                bs = len(train_filenames)%batch_size\n",
    "            else:\n",
    "                bs = batch_size\n",
    "            \n",
    "            X_train = np.zeros((int(bs), width, height, channels))\n",
    "            aux =0\n",
    "\n",
    "            dim = (width, height)\n",
    "\n",
    "            for j in train_filenames[i:i+ bs]:\n",
    "                X_train[aux] =  np.asarray(cv2.resize(cv2.imread(j), dim, interpolation = cv2.INTER_AREA) )\n",
    "                aux = aux + 1\n",
    "                \n",
    "           # img = X_train.reshape(( X_train.shape[0],) +(width, height,channels)).astype('float32') / 255.\n",
    "            img = preprocess_input(X_train) \n",
    "            \n",
    "            yield (img)"
   ]
  },
  {
   "cell_type": "markdown",
   "metadata": {},
   "source": [
    "Predição da VGG19 Adaptada"
   ]
  },
  {
   "cell_type": "code",
   "execution_count": 58,
   "metadata": {},
   "outputs": [
    {
     "data": {
      "text/plain": [
       "(1393, 1395)"
      ]
     },
     "execution_count": 58,
     "metadata": {},
     "output_type": "execute_result"
    }
   ],
   "source": [
    "test_steps = int(len(x_test)/batch_size)+(0 if len(x_test)%batch_size==0 else 1)\n",
    "test_steps,validation_steps"
   ]
  },
  {
   "cell_type": "code",
   "execution_count": 59,
   "metadata": {},
   "outputs": [],
   "source": [
    "y_pred_vgg = model.predict(generate_data_teste(x_test,batch_size,width, height,channels),steps=test_steps)\n",
    "\n",
    "y_pred_vgg = np.argmax(y_pred_vgg, axis=-1)"
   ]
  },
  {
   "cell_type": "markdown",
   "metadata": {},
   "source": [
    "## Resultados"
   ]
  },
  {
   "cell_type": "markdown",
   "metadata": {},
   "source": [
    "### Bi-LSTM peso 1.5"
   ]
  },
  {
   "cell_type": "code",
   "execution_count": 60,
   "metadata": {},
   "outputs": [
    {
     "data": {
      "text/html": [
       "<div>\n",
       "<style scoped>\n",
       "    .dataframe tbody tr th:only-of-type {\n",
       "        vertical-align: middle;\n",
       "    }\n",
       "\n",
       "    .dataframe tbody tr th {\n",
       "        vertical-align: top;\n",
       "    }\n",
       "\n",
       "    .dataframe thead th {\n",
       "        text-align: right;\n",
       "    }\n",
       "</style>\n",
       "<table border=\"1\" class=\"dataframe\">\n",
       "  <thead>\n",
       "    <tr style=\"text-align: right;\">\n",
       "      <th></th>\n",
       "      <th>VADER</th>\n",
       "      <th>VADER_2</th>\n",
       "      <th>BiLSTM</th>\n",
       "      <th>BiLSTM_Peso_2</th>\n",
       "      <th>BiLSTM_Peso_3</th>\n",
       "      <th>VGG</th>\n",
       "      <th>VGG_2</th>\n",
       "    </tr>\n",
       "  </thead>\n",
       "  <tbody>\n",
       "    <tr>\n",
       "      <th>0</th>\n",
       "      <td>2</td>\n",
       "      <td>2</td>\n",
       "      <td>2</td>\n",
       "      <td>2</td>\n",
       "      <td>2</td>\n",
       "      <td>0</td>\n",
       "      <td>0</td>\n",
       "    </tr>\n",
       "    <tr>\n",
       "      <th>1</th>\n",
       "      <td>2</td>\n",
       "      <td>2</td>\n",
       "      <td>0</td>\n",
       "      <td>0</td>\n",
       "      <td>0</td>\n",
       "      <td>1</td>\n",
       "      <td>1</td>\n",
       "    </tr>\n",
       "    <tr>\n",
       "      <th>2</th>\n",
       "      <td>2</td>\n",
       "      <td>2</td>\n",
       "      <td>2</td>\n",
       "      <td>2</td>\n",
       "      <td>2</td>\n",
       "      <td>0</td>\n",
       "      <td>0</td>\n",
       "    </tr>\n",
       "    <tr>\n",
       "      <th>3</th>\n",
       "      <td>1</td>\n",
       "      <td>1</td>\n",
       "      <td>0</td>\n",
       "      <td>0</td>\n",
       "      <td>0</td>\n",
       "      <td>0</td>\n",
       "      <td>0</td>\n",
       "    </tr>\n",
       "    <tr>\n",
       "      <th>4</th>\n",
       "      <td>2</td>\n",
       "      <td>2</td>\n",
       "      <td>2</td>\n",
       "      <td>2</td>\n",
       "      <td>2</td>\n",
       "      <td>1</td>\n",
       "      <td>1</td>\n",
       "    </tr>\n",
       "    <tr>\n",
       "      <th>...</th>\n",
       "      <td>...</td>\n",
       "      <td>...</td>\n",
       "      <td>...</td>\n",
       "      <td>...</td>\n",
       "      <td>...</td>\n",
       "      <td>...</td>\n",
       "      <td>...</td>\n",
       "    </tr>\n",
       "    <tr>\n",
       "      <th>50133</th>\n",
       "      <td>2</td>\n",
       "      <td>2</td>\n",
       "      <td>0</td>\n",
       "      <td>0</td>\n",
       "      <td>0</td>\n",
       "      <td>0</td>\n",
       "      <td>0</td>\n",
       "    </tr>\n",
       "    <tr>\n",
       "      <th>50134</th>\n",
       "      <td>2</td>\n",
       "      <td>2</td>\n",
       "      <td>2</td>\n",
       "      <td>2</td>\n",
       "      <td>2</td>\n",
       "      <td>1</td>\n",
       "      <td>1</td>\n",
       "    </tr>\n",
       "    <tr>\n",
       "      <th>50135</th>\n",
       "      <td>0</td>\n",
       "      <td>0</td>\n",
       "      <td>1</td>\n",
       "      <td>1</td>\n",
       "      <td>1</td>\n",
       "      <td>1</td>\n",
       "      <td>1</td>\n",
       "    </tr>\n",
       "    <tr>\n",
       "      <th>50136</th>\n",
       "      <td>2</td>\n",
       "      <td>2</td>\n",
       "      <td>2</td>\n",
       "      <td>2</td>\n",
       "      <td>2</td>\n",
       "      <td>1</td>\n",
       "      <td>1</td>\n",
       "    </tr>\n",
       "    <tr>\n",
       "      <th>50137</th>\n",
       "      <td>0</td>\n",
       "      <td>0</td>\n",
       "      <td>0</td>\n",
       "      <td>0</td>\n",
       "      <td>0</td>\n",
       "      <td>1</td>\n",
       "      <td>1</td>\n",
       "    </tr>\n",
       "  </tbody>\n",
       "</table>\n",
       "<p>50138 rows × 7 columns</p>\n",
       "</div>"
      ],
      "text/plain": [
       "       VADER  VADER_2  BiLSTM  BiLSTM_Peso_2  BiLSTM_Peso_3  VGG  VGG_2\n",
       "0          2        2       2              2              2    0      0\n",
       "1          2        2       0              0              0    1      1\n",
       "2          2        2       2              2              2    0      0\n",
       "3          1        1       0              0              0    0      0\n",
       "4          2        2       2              2              2    1      1\n",
       "...      ...      ...     ...            ...            ...  ...    ...\n",
       "50133      2        2       0              0              0    0      0\n",
       "50134      2        2       2              2              2    1      1\n",
       "50135      0        0       1              1              1    1      1\n",
       "50136      2        2       2              2              2    1      1\n",
       "50137      0        0       0              0              0    1      1\n",
       "\n",
       "[50138 rows x 7 columns]"
      ]
     },
     "execution_count": 60,
     "metadata": {},
     "output_type": "execute_result"
    }
   ],
   "source": [
    "labels_pred = pd.DataFrame()\n",
    "labels_pred[\"VADER\"] = y_pred_VADER\n",
    "labels_pred[\"VADER_2\"] = y_pred_VADER\n",
    "labels_pred[\"BiLSTM\"] = y_pred_BiLSTM\n",
    "labels_pred[\"BiLSTM_Peso_2\"] = y_pred_BiLSTM\n",
    "labels_pred[\"BiLSTM_Peso_3\"] = y_pred_BiLSTM\n",
    "labels_pred[\"VGG\"] = y_pred_vgg\n",
    "labels_pred[\"VGG_2\"] = y_pred_vgg\n",
    "labels_pred\n",
    "\n"
   ]
  },
  {
   "cell_type": "code",
   "execution_count": 61,
   "metadata": {},
   "outputs": [],
   "source": [
    "moda = labels_pred.mode(axis =1)\n",
    "y_pred = moda[0].tolist()"
   ]
  },
  {
   "cell_type": "code",
   "execution_count": 62,
   "metadata": {},
   "outputs": [
    {
     "name": "stdout",
     "output_type": "stream",
     "text": [
      "0.8827835174917228\n",
      "              precision    recall  f1-score   support\n",
      "\n",
      "           0       0.93      0.85      0.89     16805\n",
      "           1       0.89      0.86      0.87     16416\n",
      "           2       0.84      0.94      0.89     16917\n",
      "\n",
      "    accuracy                           0.88     50138\n",
      "   macro avg       0.89      0.88      0.88     50138\n",
      "weighted avg       0.89      0.88      0.88     50138\n",
      "\n"
     ]
    }
   ],
   "source": [
    "#y_test = np.argmax(y_test, axis=-1)\n",
    "\n",
    "print(accuracy_score(y_test, y_pred));\n",
    "print(classification_report(y_test, y_pred));"
   ]
  },
  {
   "cell_type": "code",
   "execution_count": 63,
   "metadata": {},
   "outputs": [
    {
     "name": "stdout",
     "output_type": "stream",
     "text": [
      "Negativo - 0     Neutro - 1      Positivo - 2\n"
     ]
    },
    {
     "data": {
      "image/png": "[encoded data removed]",
      "text/plain": [
       "<Figure size 432x288 with 2 Axes>"
      ]
     },
     "metadata": {
      "needs_background": "light"
     },
     "output_type": "display_data"
    }
   ],
   "source": [
    "print(\"Negativo - 0     Neutro - 1      Positivo - 2\")\n",
    "sns.heatmap(confusion_matrix(y_test, y_pred), annot=True, fmt=\"d\");"
   ]
  },
  {
   "cell_type": "code",
   "execution_count": 64,
   "metadata": {},
   "outputs": [
    {
     "name": "stdout",
     "output_type": "stream",
     "text": [
      "Acuracia de cada classe\n",
      "Negativo - 0     Neutro - 1      Positivo - 2\n"
     ]
    },
    {
     "data": {
      "text/plain": [
       "array([0.8458197 , 0.85903996, 0.942543  ])"
      ]
     },
     "execution_count": 64,
     "metadata": {},
     "output_type": "execute_result"
    }
   ],
   "source": [
    "m = confusion_matrix(y_test, y_pred)\n",
    "print(\"Acuracia de cada classe\")\n",
    "print(\"Negativo - 0     Neutro - 1      Positivo - 2\")\n",
    "m.diagonal()/m.sum(axis=1)"
   ]
  },
  {
   "cell_type": "markdown",
   "metadata": {},
   "source": [
    "### Bi-LSTM peso 2"
   ]
  },
  {
   "cell_type": "code",
   "execution_count": 65,
   "metadata": {},
   "outputs": [
    {
     "name": "stdout",
     "output_type": "stream",
     "text": [
      "0.9437352905979497\n",
      "              precision    recall  f1-score   support\n",
      "\n",
      "           0       0.92      0.96      0.94     16805\n",
      "           1       0.93      0.93      0.93     16416\n",
      "           2       0.98      0.93      0.95     16917\n",
      "\n",
      "    accuracy                           0.94     50138\n",
      "   macro avg       0.94      0.94      0.94     50138\n",
      "weighted avg       0.94      0.94      0.94     50138\n",
      "\n"
     ]
    }
   ],
   "source": [
    "labels_pred = pd.DataFrame()\n",
    "labels_pred[\"VADER\"] = y_pred_VADER\n",
    "#labels_pred[\"VADER_2\"] = y_pred_VADER\n",
    "labels_pred[\"BiLSTM\"] = y_pred_BiLSTM\n",
    "labels_pred[\"BiLSTM_Peso_2\"] = y_pred_BiLSTM\n",
    "#labels_pred[\"BiLSTM_Peso_3\"] = y_pred_BiLSTM\n",
    "labels_pred[\"VGG\"] = y_pred_vgg\n",
    "#labels_pred[\"VGG_2\"] = y_pred_vgg\n",
    "\n",
    "\n",
    "moda = labels_pred.mode(axis =1)\n",
    "y_pred = moda[0].tolist()\n",
    "\n",
    "\n",
    "print(accuracy_score(y_test, y_pred));\n",
    "print(classification_report(y_test, y_pred));\n",
    "\n"
   ]
  },
  {
   "cell_type": "code",
   "execution_count": 66,
   "metadata": {},
   "outputs": [
    {
     "name": "stdout",
     "output_type": "stream",
     "text": [
      "Negativo - 0     Neutro - 1      Positivo - 2\n"
     ]
    },
    {
     "data": {
      "image/png": "[encoded data removed]",
      "text/plain": [
       "<Figure size 432x288 with 2 Axes>"
      ]
     },
     "metadata": {
      "needs_background": "light"
     },
     "output_type": "display_data"
    }
   ],
   "source": [
    "print(\"Negativo - 0     Neutro - 1      Positivo - 2\")\n",
    "sns.heatmap(confusion_matrix(y_test, y_pred), annot=True, fmt=\"d\");"
   ]
  },
  {
   "cell_type": "code",
   "execution_count": 67,
   "metadata": {},
   "outputs": [
    {
     "name": "stdout",
     "output_type": "stream",
     "text": [
      "Acuracia de cada classe\n",
      "Negativo - 0     Neutro - 1      Positivo - 2\n"
     ]
    },
    {
     "data": {
      "text/plain": [
       "array([0.96405832, 0.93445419, 0.93255305])"
      ]
     },
     "execution_count": 67,
     "metadata": {},
     "output_type": "execute_result"
    }
   ],
   "source": [
    "m = confusion_matrix(y_test, y_pred)\n",
    "print(\"Acuracia de cada classe\")\n",
    "print(\"Negativo - 0     Neutro - 1      Positivo - 2\")\n",
    "m.diagonal()/m.sum(axis=1)"
   ]
  },
  {
   "cell_type": "markdown",
   "metadata": {},
   "source": [
    "### Tamanho dos tamanhos dos grupos"
   ]
  },
  {
   "cell_type": "code",
   "execution_count": 68,
   "metadata": {},
   "outputs": [
    {
     "data": {
      "text/plain": [
       "(362405, 50193, 50138)"
      ]
     },
     "execution_count": 68,
     "metadata": {},
     "output_type": "execute_result"
    }
   ],
   "source": [
    "len(x_train),len(x_val),len(x_test)"
   ]
  },
  {
   "cell_type": "code",
   "execution_count": null,
   "metadata": {},
   "outputs": [],
   "source": []
  }
 ],
 "metadata": {
  "kernelspec": {
   "display_name": "Python 3",
   "language": "python",
   "name": "python3"
  },
  "language_info": {
   "codemirror_mode": {
    "name": "ipython",
    "version": 3
   },
   "file_extension": ".py",
   "mimetype": "text/x-python",
   "name": "python",
   "nbconvert_exporter": "python",
   "pygments_lexer": "ipython3",
   "version": "3.8.12"
  }
 },
 "nbformat": 4,
 "nbformat_minor": 4
}
